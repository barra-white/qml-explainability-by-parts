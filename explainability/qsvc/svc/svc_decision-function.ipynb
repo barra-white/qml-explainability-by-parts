{
 "cells": [
  {
   "cell_type": "markdown",
   "metadata": {},
   "source": [
    "# SVC - Decision Function Analysis\n",
    "\n",
    "Below is code written to analyse the decision function created by the classical SVC component of the QSVC"
   ]
  },
  {
   "cell_type": "code",
   "execution_count": 1,
   "metadata": {},
   "outputs": [],
   "source": [
    "%load_ext autoreload\n",
    "%autoreload 2\n",
    "%matplotlib inline"
   ]
  },
  {
   "cell_type": "markdown",
   "metadata": {},
   "source": [
    "### Imports"
   ]
  },
  {
   "cell_type": "code",
   "execution_count": null,
   "metadata": {},
   "outputs": [],
   "source": [
    "# imports\n",
    "from matplotlib import pyplot as plt\n",
    "import numpy as np\n",
    "import pandas as pd\n",
    "import seaborn as sns\n",
    "\n",
    "import os\n",
    "\n",
    "# import data class\n",
    "from utilities.dataset_utils import DiabetesData\n",
    "\n",
    "from qiskit_machine_learning.algorithms import QSVC\n",
    "\n",
    "# explainability imports\n",
    "from shap import KernelExplainer\n",
    "from shap import summary_plot\n",
    "from shap import force_plot\n",
    "\n",
    "# qiskit imports\n",
    "# simulator\n",
    "from qiskit_aer import AerSimulator\n",
    "from qiskit_aer.primitives import SamplerV2 as Sampler"
   ]
  },
  {
   "cell_type": "code",
   "execution_count": 3,
   "metadata": {},
   "outputs": [],
   "source": [
    "np.random.seed(42)  # reproducibility"
   ]
  },
  {
   "cell_type": "markdown",
   "metadata": {},
   "source": [
    "Dataset loading - change code hear to analyze different dataset\n",
    "\n",
    "**N.B.** works only for binary classification datasets"
   ]
  },
  {
   "cell_type": "code",
   "execution_count": 4,
   "metadata": {},
   "outputs": [],
   "source": [
    "# path to diabetes.csv\n",
    "path = os.path.join(os.getcwd(), '..', '..', '..', 'utilities', 'diabetes.csv')\n",
    "# load dataset class\n",
    "dataset = DiabetesData(path)"
   ]
  },
  {
   "cell_type": "code",
   "execution_count": 5,
   "metadata": {},
   "outputs": [],
   "source": [
    "# path to diabetes.csv\n",
    "path = os.path.join(os.getcwd(), '..', '..', '..', 'models', 'qml-simulator', 'qsvc_best_params.model')\n",
    "\n",
    "qsvc = QSVC.load(path)"
   ]
  },
  {
   "cell_type": "code",
   "execution_count": 6,
   "metadata": {},
   "outputs": [],
   "source": [
    "# list of feature names\n",
    "feature_names = [\n",
    "    \"Pregnancies\",\n",
    "    \"Glucose\",\n",
    "    \"BloodPressure\",\n",
    "    \"SkinThickness\",\n",
    "    \"Insulin\",\n",
    "    \"BMI\",\n",
    "    \"DiabetesPedigreeFunction\",\n",
    "    \"Age\"\n",
    "]"
   ]
  },
  {
   "cell_type": "code",
   "execution_count": 7,
   "metadata": {},
   "outputs": [],
   "source": [
    "# get data\n",
    "X_train, X_test, y_train, y_test = dataset.preprocess_data_ranged()"
   ]
  },
  {
   "cell_type": "code",
   "execution_count": 8,
   "metadata": {},
   "outputs": [],
   "source": [
    "# setup backend simulator\n",
    "backend = AerSimulator()\n",
    "backend.set_options(max_parallel_threads=os.cpu_count(), method='statevector')"
   ]
  },
  {
   "cell_type": "code",
   "execution_count": 9,
   "metadata": {},
   "outputs": [],
   "source": [
    "# sampler\n",
    "sampler = Sampler.from_backend(backend)"
   ]
  },
  {
   "cell_type": "code",
   "execution_count": null,
   "metadata": {},
   "outputs": [
    {
     "name": "stdout",
     "output_type": "stream",
     "text": [
      "Processed 10/231 samples (4.33%). Remaining: 221\n",
      "Processed 20/231 samples (8.66%). Remaining: 211\n",
      "Processed 30/231 samples (12.99%). Remaining: 201\n",
      "Processed 40/231 samples (17.32%). Remaining: 191\n",
      "Processed 50/231 samples (21.65%). Remaining: 181\n",
      "Processed 60/231 samples (25.97%). Remaining: 171\n",
      "Processed 70/231 samples (30.30%). Remaining: 161\n",
      "Processed 80/231 samples (34.63%). Remaining: 151\n",
      "Processed 90/231 samples (38.96%). Remaining: 141\n",
      "Processed 100/231 samples (43.29%). Remaining: 131\n"
     ]
    }
   ],
   "source": [
    "samples = len(X_test)\n",
    "decisions = []\n",
    "batch_size = 10\n",
    "\n",
    "for start in range(0, samples, batch_size):\n",
    "    end = min(start + batch_size, samples)\n",
    "    \n",
    "    remaining_samples = samples - end\n",
    "    progress = (end / samples) * 100\n",
    "    \n",
    "    batch = X_test[start:end]\n",
    "    \n",
    "    decisions.append(qsvc.decision_function(batch))\n",
    "    \n",
    "    print(f\"Processed {end}/{samples} samples ({progress:.2f}%). Remaining: {remaining_samples}\")\n",
    "    \n",
    "decisions = np.concatenate(decisions)"
   ]
  },
  {
   "cell_type": "code",
   "execution_count": null,
   "metadata": {},
   "outputs": [],
   "source": [
    "df = pd.DataFrame(X_test, columns=feature_names)\n",
    "df['decision'] = decisions"
   ]
  },
  {
   "cell_type": "code",
   "execution_count": null,
   "metadata": {},
   "outputs": [],
   "source": [
    "corr = df.corr()\n",
    "\n",
    "plt.figure(figsize=(10, 6))\n",
    "# Display only correlation values of features with the decision function\n",
    "sns.heatmap(corr[['decision']].drop('decision'), annot=True, cmap=\"coolwarm\", fmt=\".2f\")\n",
    "plt.title(\"Feature Correlation with QSVC Decision Function\")\n",
    "plt.show()"
   ]
  },
  {
   "cell_type": "markdown",
   "metadata": {},
   "source": [
    "When features are examined in isolation (above), you can see each have a positive correlation. This is inline with the domain of the Pima Indians Diabetes dataset, meaning an increase in any of these values increases the risk of that specific patient being diabetic (higher decision function outputs)."
   ]
  },
  {
   "cell_type": "code",
   "execution_count": null,
   "metadata": {},
   "outputs": [],
   "source": [
    "df['target'] = y_test"
   ]
  },
  {
   "cell_type": "code",
   "execution_count": null,
   "metadata": {},
   "outputs": [],
   "source": [
    "plt.figure(figsize=(10, 6))\n",
    "sns.histplot(decisions, kde=True, bins=30, color='skyblue')\n",
    "plt.axvline(0, color='red', linestyle='--', label='Decision Threshold (0)')\n",
    "plt.xlabel(\"Decision Function Output\")\n",
    "plt.ylabel(\"Frequency\")\n",
    "plt.title(\"Histogram and Density Plot of QSVC Decision Function Output\")\n",
    "plt.legend()\n",
    "plt.show()"
   ]
  },
  {
   "cell_type": "code",
   "execution_count": null,
   "metadata": {},
   "outputs": [],
   "source": [
    "positive_samples = df[df['target'] == 1]\n",
    "negative_samples = df[df['target'] == 0]\n",
    "\n",
    "positive_decision_count = 0\n",
    "negative_decision_count = 0\n",
    "\n",
    "for decision in decisions:\n",
    "    if decision > 0:\n",
    "        positive_decision_count += 1\n",
    "    else:\n",
    "        negative_decision_count += 1\n",
    "        \n",
    "print(f\"Positive Samples: {positive_samples.shape[0]}\")\n",
    "print(f\"Positive Decision Count: {positive_decision_count}\")\n",
    "print(f\"Negative Samples: {negative_samples.shape[0]}\")\n",
    "print(f\"Negative Decision Count: {negative_decision_count}\")"
   ]
  },
  {
   "cell_type": "code",
   "execution_count": null,
   "metadata": {},
   "outputs": [],
   "source": [
    "df_results = pd.DataFrame({\n",
    "    'decision': decisions,\n",
    "    'target': y_test\n",
    "})"
   ]
  },
  {
   "cell_type": "code",
   "execution_count": null,
   "metadata": {},
   "outputs": [],
   "source": [
    "wrong_preds = df_results[\n",
    "    ((df_results['decision'] > 0) & (df_results['target'] == 0)) |\n",
    "    ((df_results['decision'] < 0) & (df_results['target'] == 1))\n",
    "]"
   ]
  },
  {
   "cell_type": "code",
   "execution_count": null,
   "metadata": {},
   "outputs": [],
   "source": [
    "X_wrong = X_test[wrong_preds.index]\n",
    "X_wrong.shape"
   ]
  },
  {
   "cell_type": "code",
   "execution_count": null,
   "metadata": {},
   "outputs": [],
   "source": [
    "y_wrong = y_test[wrong_preds.index]\n",
    "y_wrong.shape"
   ]
  },
  {
   "cell_type": "code",
   "execution_count": null,
   "metadata": {},
   "outputs": [],
   "source": [
    "uncertain_preds = df_results[df_results['decision'].abs() < 0.5]\n",
    "X_uncertain = X_test[uncertain_preds.index]\n",
    "X_uncertain.shape\n",
    "y_uncertain = y_test[uncertain_preds.index]\n",
    "y_uncertain.shape"
   ]
  },
  {
   "cell_type": "code",
   "execution_count": null,
   "metadata": {},
   "outputs": [],
   "source": [
    "background = X_train[np.random.choice(X_train.shape[0], 100, replace=False)]"
   ]
  },
  {
   "cell_type": "code",
   "execution_count": null,
   "metadata": {},
   "outputs": [],
   "source": [
    "explainer = KernelExplainer(qsvc.decision_function, background, link=\"identity\")"
   ]
  },
  {
   "cell_type": "code",
   "execution_count": null,
   "metadata": {},
   "outputs": [],
   "source": [
    "n_wrong = X_wrong.shape[0]\n",
    "n_uncertain = X_uncertain.shape[0]\n",
    "\n",
    "wrong_sample_size = min(50, n_wrong)\n",
    "uncertain_sample_size = min(50, n_uncertain)"
   ]
  },
  {
   "cell_type": "code",
   "execution_count": null,
   "metadata": {},
   "outputs": [],
   "source": [
    "idxs = np.random.choice(n_wrong, wrong_sample_size, replace=False)\n",
    "X_wrong_sample = X_wrong[idxs]\n",
    "\n",
    "# shap values for wrongly classified samples\n",
    "shap_values_wrong = explainer.shap_values(X_wrong_sample, nsamples=100)\n",
    "\n",
    "summary_plot(\n",
    "    shap_values_wrong, \n",
    "    X_wrong_sample,\n",
    "    feature_names=feature_names, \n",
    "    plot_type=\"bar\"\n",
    ")\n",
    "\n",
    "force_plot(\n",
    "    explainer.expected_value, \n",
    "    shap_values_wrong[0],\n",
    "    X_wrong_sample[0],\n",
    "    feature_names=feature_names,\n",
    "    matplotlib=True\n",
    ")"
   ]
  },
  {
   "cell_type": "code",
   "execution_count": null,
   "metadata": {},
   "outputs": [],
   "source": [
    "idxs = np.random.choice(n_uncertain, uncertain_sample_size, replace=False)\n",
    "X_uncertain_sample = X_uncertain[idxs]\n",
    "\n",
    "# shap values for wrongly classified samples\n",
    "shap_values_uncertain = explainer.shap_values(X_uncertain_sample, nsamples=100)\n",
    "\n",
    "summary_plot(\n",
    "    shap_values_uncertain, \n",
    "    X_uncertain_sample,\n",
    "    feature_names=feature_names, \n",
    "    plot_type=\"bar\"\n",
    ")\n",
    "\n",
    "force_plot(\n",
    "    explainer.expected_value, \n",
    "    shap_values_uncertain[0],\n",
    "    X_uncertain_sample[0],\n",
    "    feature_names=feature_names,\n",
    "    matplotlib=True\n",
    ")"
   ]
  }
 ],
 "metadata": {
  "kernelspec": {
   "display_name": "qiskit-fyp",
   "language": "python",
   "name": "python3"
  },
  "language_info": {
   "codemirror_mode": {
    "name": "ipython",
    "version": 3
   },
   "file_extension": ".py",
   "mimetype": "text/x-python",
   "name": "python",
   "nbconvert_exporter": "python",
   "pygments_lexer": "ipython3",
   "version": "3.13.2"
  }
 },
 "nbformat": 4,
 "nbformat_minor": 2
}
