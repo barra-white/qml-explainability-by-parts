{
 "cells": [
  {
   "cell_type": "markdown",
   "metadata": {},
   "source": [
    "# Feature Map\n",
    "\n",
    "A quantum feature map is a method used in QML to encode classical data into quantum states. This allows QML algorithms to take advantage of quantum phenomena such as superposition and entanglement to process data in a high dimensional space, allowing quantum algorithms to uncover patterns in data that would be difficult for classical algorithms to detect."
   ]
  }
 ],
 "metadata": {
  "language_info": {
   "name": "python"
  }
 },
 "nbformat": 4,
 "nbformat_minor": 2
}
