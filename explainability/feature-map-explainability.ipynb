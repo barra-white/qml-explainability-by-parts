{
 "cells": [
  {
   "cell_type": "markdown",
   "metadata": {},
   "source": [
    "# Explainability Framework - VQC\n",
    "\n"
   ]
  },
  {
   "cell_type": "markdown",
   "metadata": {},
   "source": [
    "Below is the code used for analysing the different components of the VQC through various explainability techniques."
   ]
  },
  {
   "cell_type": "code",
   "execution_count": 14,
   "metadata": {},
   "outputs": [
    {
     "name": "stdout",
     "output_type": "stream",
     "text": [
      "The autoreload extension is already loaded. To reload it, use:\n",
      "  %reload_ext autoreload\n"
     ]
    }
   ],
   "source": [
    "%load_ext autoreload\n",
    "%autoreload 2\n",
    "%matplotlib inline"
   ]
  },
  {
   "cell_type": "markdown",
   "metadata": {},
   "source": [
    "### Imports"
   ]
  },
  {
   "cell_type": "code",
   "execution_count": 15,
   "metadata": {},
   "outputs": [],
   "source": [
    "# imports\n",
    "from matplotlib import pyplot as plt\n",
    "import numpy as np\n",
    "\n",
    "import os\n",
    "\n",
    "# import data class\n",
    "from utilities.dataset_utils import DiabetesData\n",
    "\n",
    "# explainability imports\n",
    "# feature map SHAP\n",
    "from shap import KernelExplainer\n",
    "from shap import Explanation\n",
    "from shap.plots import waterfall\n",
    "from qiskit.quantum_info import state_fidelity\n",
    "\n",
    "# qiskit imports\n",
    "# feature map\n",
    "from qiskit.circuit.library import zz_feature_map\n",
    "\n",
    "# simulator\n",
    "from qiskit_aer import AerSimulator\n",
    "from qiskit_aer.primitives import SamplerV2 as Sampler"
   ]
  },
  {
   "cell_type": "code",
   "execution_count": 16,
   "metadata": {},
   "outputs": [],
   "source": [
    "# path to diabetes.csv\n",
    "path = os.path.join(os.getcwd(), '..', 'utilities', 'diabetes.csv')\n",
    "# load dataset class\n",
    "dataset = DiabetesData(path)"
   ]
  },
  {
   "cell_type": "code",
   "execution_count": 17,
   "metadata": {},
   "outputs": [],
   "source": [
    "# list of feature names\n",
    "feature_names = [\n",
    "    \"Pregnancies\",\n",
    "    \"Glucose\",\n",
    "    \"BloodPressure\",\n",
    "    \"SkinThickness\",\n",
    "    \"Insulin\",\n",
    "    \"BMI\",\n",
    "    \"DiabetesPedigreeFunction\",\n",
    "    \"Age\"\n",
    "]"
   ]
  },
  {
   "cell_type": "code",
   "execution_count": 18,
   "metadata": {},
   "outputs": [],
   "source": [
    "# get data\n",
    "X_train, X_test, y_train, y_test = dataset.preprocess_data()"
   ]
  },
  {
   "cell_type": "code",
   "execution_count": 19,
   "metadata": {},
   "outputs": [],
   "source": [
    "# setup backend simulator\n",
    "backend = AerSimulator()\n",
    "backend.set_options(max_parallel_threads=os.cpu_count(), method='statevector')"
   ]
  },
  {
   "cell_type": "code",
   "execution_count": 20,
   "metadata": {},
   "outputs": [],
   "source": [
    "# sampler\n",
    "sampler = Sampler.from_backend(backend)"
   ]
  },
  {
   "cell_type": "markdown",
   "metadata": {},
   "source": [
    "### Feature Map Explainability"
   ]
  },
  {
   "cell_type": "markdown",
   "metadata": {},
   "source": [
    "To examine feature map explainability, the first method used was a SHAP based Feature-State contribution mapping. It analyses\n",
    " - Encoding Importance\n",
    "   - The magnitude of the shap value indicates which features are most importance for encoding into a quantum state\n",
    " - Transformation to Quantum States\n",
    "   - Positive SHAP values indicate that features cluster together, meaning features have similar quantum states and therefor have less distinction\n",
    "   - Negative SHAP values would indicate the states are further apart in the Hilbert space, enhancing distinguishability between different classes"
   ]
  },
  {
   "cell_type": "code",
   "execution_count": 21,
   "metadata": {},
   "outputs": [],
   "source": [
    "# generate feature map used\n",
    "feature_map = zz_feature_map(feature_dimension=dataset.get_num_features(), reps=4, entanglement='full')"
   ]
  },
  {
   "cell_type": "code",
   "execution_count": 22,
   "metadata": {},
   "outputs": [],
   "source": [
    "# function to get quantum state\n",
    "def get_quantum_state(x):\n",
    "    \"\"\"\n",
    "    Gets quantum state of a given data point\n",
    "    \"\"\"\n",
    "    # copy circuit\n",
    "    qc = feature_map.copy()\n",
    "    \n",
    "    # param dict\n",
    "    params = dict(zip(qc.parameters, x))\n",
    "    \n",
    "    # assign params to circuit\n",
    "    qc = qc.assign_parameters(params)\n",
    "    \n",
    "    # save statevector\n",
    "    qc.save_statevector()\n",
    "    \n",
    "    # Run on statevector simulator\n",
    "    result = backend.run(qc).result()\n",
    "    return result.get_statevector()"
   ]
  },
  {
   "cell_type": "code",
   "execution_count": 23,
   "metadata": {},
   "outputs": [],
   "source": [
    "# function to calculate fidelity between two data points\n",
    "def state_similarity(x1, x2):\n",
    "    \"\"\"\n",
    "    Measures similarity between two states\n",
    "    \"\"\"\n",
    "    # get quantum states for 2 data points\n",
    "    state1 = get_quantum_state(x1)\n",
    "    state2 = get_quantum_state(x2)\n",
    "    \n",
    "    # calculate state fidelity\n",
    "    fidelity = np.abs(state_fidelity(state1, state2))**2\n",
    "    return fidelity"
   ]
  },
  {
   "cell_type": "code",
   "execution_count": 24,
   "metadata": {},
   "outputs": [],
   "source": [
    "def quantum_feature_map_shap(feature_map, x_sample, background_data, feature_names=None):\n",
    "    \"\"\"\n",
    "    Calculate SHAP values specifically for a quantum feature map to explain how \n",
    "    different features contribute to the quantum state representation\n",
    "    \n",
    "    Args:\n",
    "        feature_map: Feature map circuit from zz_feature_map\n",
    "        x_sample: Data point to explain\n",
    "        background_data: Background dataset for reference\n",
    "        feature_names: Names of the features\n",
    "    \"\"\"\n",
    "    \n",
    "    explainer = KernelExplainer(\n",
    "        model=lambda x: np.array([state_similarity(x_i, x_sample) for x_i in x]), \n",
    "        data=background_data\n",
    "    )\n",
    "    \n",
    "    # calculate shap values from explainer\n",
    "    shap_values = explainer.shap_values(x_sample.reshape(1, -1))\n",
    "    \n",
    "    # Create a consistent visualization regardless of SHAP version\n",
    "    plt.figure(figsize=(10, 6))\n",
    "    \n",
    "    explanation = Explanation(\n",
    "        values=shap_values[0],\n",
    "        base_values=explainer.expected_value,\n",
    "        data=x_sample,\n",
    "        feature_names=feature_names\n",
    "    )\n",
    "    waterfall(explanation, show=False)\n",
    "    \n",
    "    plt.title('Feature Importance for Quantum Feature Map (Diabetes Dataset)')\n",
    "    plt.tight_layout()\n",
    "    plt.show()\n",
    "    \n",
    "    return shap_values"
   ]
  },
  {
   "cell_type": "code",
   "execution_count": null,
   "metadata": {},
   "outputs": [
    {
     "data": {
      "application/vnd.jupyter.widget-view+json": {
       "model_id": "ce24563192ad490d99b0218b7e0e0b86",
       "version_major": 2,
       "version_minor": 0
      },
      "text/plain": [
       "  0%|          | 0/1 [00:00<?, ?it/s]"
      ]
     },
     "metadata": {},
     "output_type": "display_data"
    }
   ],
   "source": [
    "# Select a sample to explain\n",
    "sample_idx = 0  # You can change this to any index\n",
    "x_sample = X_test[sample_idx]\n",
    "true_label = y_test[sample_idx]\n",
    "\n",
    "# Use a subset of training data as background\n",
    "background_data = X_train[:100]  # Using first 100 samples as background\n",
    "\n",
    "# calculate SHAP values for the feature map\n",
    "shap_values = quantum_feature_map_shap(\n",
    "    feature_map=feature_map,\n",
    "    x_sample=x_sample,\n",
    "    background_data=background_data,\n",
    "    feature_names=feature_names\n",
    ")"
   ]
  }
 ],
 "metadata": {
  "kernelspec": {
   "display_name": "qiskit-fyp",
   "language": "python",
   "name": "python3"
  },
  "language_info": {
   "codemirror_mode": {
    "name": "ipython",
    "version": 3
   },
   "file_extension": ".py",
   "mimetype": "text/x-python",
   "name": "python",
   "nbconvert_exporter": "python",
   "pygments_lexer": "ipython3",
   "version": "3.13.2"
  }
 },
 "nbformat": 4,
 "nbformat_minor": 2
}
