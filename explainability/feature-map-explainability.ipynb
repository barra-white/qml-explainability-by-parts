{
 "cells": [
  {
   "cell_type": "markdown",
   "metadata": {},
   "source": [
    "# Explainability Framework - VQC\n",
    "\n"
   ]
  },
  {
   "cell_type": "markdown",
   "metadata": {},
   "source": [
    "Below is the code used for analysing the different components of the VQC through various explainability techniques."
   ]
  },
  {
   "cell_type": "code",
   "execution_count": 14,
   "metadata": {},
   "outputs": [
    {
     "name": "stdout",
     "output_type": "stream",
     "text": [
      "The autoreload extension is already loaded. To reload it, use:\n",
      "  %reload_ext autoreload\n"
     ]
    }
   ],
   "source": [
    "%load_ext autoreload\n",
    "%autoreload 2\n",
    "%matplotlib inline"
   ]
  },
  {
   "cell_type": "markdown",
   "metadata": {},
   "source": [
    "### Imports"
   ]
  },
  {
   "cell_type": "code",
   "execution_count": 15,
   "metadata": {},
   "outputs": [],
   "source": [
    "# imports\n",
    "from matplotlib import pyplot as plt\n",
    "import numpy as np\n",
    "\n",
    "import os\n",
    "\n",
    "# import data class\n",
    "from utilities.dataset_utils import DiabetesData\n",
    "\n",
    "# explainability imports\n",
    "# feature map SHAP\n",
    "from shap import KernelExplainer\n",
    "from shap import Explanation\n",
    "from shap.plots import waterfall\n",
    "from qiskit.quantum_info import state_fidelity\n",
    "\n",
    "# qiskit imports\n",
    "# feature map\n",
    "from qiskit.circuit.library import zz_feature_map\n",
    "\n",
    "# simulator\n",
    "from qiskit_aer import AerSimulator\n",
    "from qiskit_aer.primitives import SamplerV2 as Sampler"
   ]
  },
  {
   "cell_type": "code",
   "execution_count": 16,
   "metadata": {},
   "outputs": [],
   "source": [
    "# path to diabetes.csv\n",
    "path = os.path.join(os.getcwd(), '..', 'utilities', 'diabetes.csv')\n",
    "# load dataset class\n",
    "dataset = DiabetesData(path)"
   ]
  },
  {
   "cell_type": "code",
   "execution_count": 17,
   "metadata": {},
   "outputs": [],
   "source": [
    "# list of feature names\n",
    "feature_names = [\n",
    "    \"Pregnancies\",\n",
    "    \"Glucose\",\n",
    "    \"BloodPressure\",\n",
    "    \"SkinThickness\",\n",
    "    \"Insulin\",\n",
    "    \"BMI\",\n",
    "    \"DiabetesPedigreeFunction\",\n",
    "    \"Age\"\n",
    "]"
   ]
  },
  {
   "cell_type": "code",
   "execution_count": null,
   "metadata": {},
   "outputs": [],
   "source": [
    "# get data\n",
    "X_train, X_test, y_train, y_test = dataset.preprocess_data_ranged()"
   ]
  },
  {
   "cell_type": "code",
   "execution_count": 19,
   "metadata": {},
   "outputs": [],
   "source": [
    "# setup backend simulator\n",
    "backend = AerSimulator()\n",
    "backend.set_options(max_parallel_threads=os.cpu_count(), method='statevector')"
   ]
  },
  {
   "cell_type": "code",
   "execution_count": 20,
   "metadata": {},
   "outputs": [],
   "source": [
    "# sampler\n",
    "sampler = Sampler.from_backend(backend)"
   ]
  },
  {
   "cell_type": "markdown",
   "metadata": {},
   "source": [
    "### Feature Map Explainability"
   ]
  },
  {
   "cell_type": "markdown",
   "metadata": {},
   "source": [
    "To examine feature map explainability, the first method used was a SHAP based Feature-State contribution mapping. It analyses\n",
    " - Encoding Importance\n",
    "   - The magnitude of the shap value indicates which features are most importance for encoding into a quantum state\n",
    " - Transformation to Quantum States\n",
    "   - Positive SHAP values indicate that features cluster together, meaning features have similar quantum states and therefor have less distinction\n",
    "   - Negative SHAP values would indicate the states are further apart in the Hilbert space, enhancing distinguishability between different classes"
   ]
  },
  {
   "cell_type": "code",
   "execution_count": 21,
   "metadata": {},
   "outputs": [],
   "source": [
    "# generate feature map used\n",
    "feature_map = zz_feature_map(feature_dimension=dataset.get_num_features(), reps=4, entanglement='full')"
   ]
  },
  {
   "cell_type": "code",
   "execution_count": 22,
   "metadata": {},
   "outputs": [],
   "source": [
    "# function to get quantum state\n",
    "def get_quantum_state(x):\n",
    "    \"\"\"\n",
    "    Gets quantum state of a given data point\n",
    "    \"\"\"\n",
    "    # copy circuit\n",
    "    qc = feature_map.copy()\n",
    "    \n",
    "    # param dict\n",
    "    params = dict(zip(qc.parameters, x))\n",
    "    \n",
    "    # assign params to circuit\n",
    "    qc = qc.assign_parameters(params)\n",
    "    \n",
    "    # save statevector\n",
    "    qc.save_statevector()\n",
    "    \n",
    "    # Run on statevector simulator\n",
    "    result = backend.run(qc).result()\n",
    "    return result.get_statevector()"
   ]
  },
  {
   "cell_type": "code",
   "execution_count": 23,
   "metadata": {},
   "outputs": [],
   "source": [
    "# function to calculate fidelity between two data points\n",
    "def state_similarity(x1, x2):\n",
    "    \"\"\"\n",
    "    Measures similarity between two states\n",
    "    \"\"\"\n",
    "    # get quantum states for 2 data points\n",
    "    state1 = get_quantum_state(x1)\n",
    "    state2 = get_quantum_state(x2)\n",
    "    \n",
    "    # calculate state fidelity\n",
    "    fidelity = np.abs(state_fidelity(state1, state2))**2\n",
    "    return fidelity"
   ]
  },
  {
   "cell_type": "code",
   "execution_count": 24,
   "metadata": {},
   "outputs": [],
   "source": [
    "def quantum_feature_map_shap(feature_map, x_sample, background_data, feature_names=None):\n",
    "    \"\"\"\n",
    "    Calculate SHAP values specifically for a quantum feature map to explain how \n",
    "    different features contribute to the quantum state representation\n",
    "    \n",
    "    Args:\n",
    "        feature_map: Feature map circuit from zz_feature_map\n",
    "        x_sample: Data point to explain\n",
    "        background_data: Background dataset for reference\n",
    "        feature_names: Names of the features\n",
    "    \"\"\"\n",
    "    \n",
    "    explainer = KernelExplainer(\n",
    "        model=lambda x: np.array([state_similarity(x_i, x_sample) for x_i in x]), \n",
    "        data=background_data\n",
    "    )\n",
    "    \n",
    "    # calculate shap values from explainer\n",
    "    shap_values = explainer.shap_values(x_sample.reshape(1, -1))\n",
    "    \n",
    "    # Create a consistent visualization regardless of SHAP version\n",
    "    plt.figure(figsize=(10, 6))\n",
    "    \n",
    "    explanation = Explanation(\n",
    "        values=shap_values[0],\n",
    "        base_values=explainer.expected_value,\n",
    "        data=x_sample,\n",
    "        feature_names=feature_names\n",
    "    )\n",
    "    waterfall(explanation, show=False)\n",
    "    \n",
    "    plt.title('Feature Importance for Quantum Feature Map (Diabetes Dataset)')\n",
    "    plt.tight_layout()\n",
    "    plt.show()\n",
    "    \n",
    "    return shap_values"
   ]
  },
  {
   "cell_type": "code",
   "execution_count": 25,
   "metadata": {},
   "outputs": [
    {
     "data": {
      "application/vnd.jupyter.widget-view+json": {
       "model_id": "ce24563192ad490d99b0218b7e0e0b86",
       "version_major": 2,
       "version_minor": 0
      },
      "text/plain": [
       "  0%|          | 0/1 [00:00<?, ?it/s]"
      ]
     },
     "metadata": {},
     "output_type": "display_data"
    },
    {
     "ename": "KeyboardInterrupt",
     "evalue": "",
     "output_type": "error",
     "traceback": [
      "\u001b[0;31m---------------------------------------------------------------------------\u001b[0m",
      "\u001b[0;31mKeyboardInterrupt\u001b[0m                         Traceback (most recent call last)",
      "Cell \u001b[0;32mIn[25], line 10\u001b[0m\n\u001b[1;32m      7\u001b[0m background_data \u001b[38;5;241m=\u001b[39m X_train[:\u001b[38;5;241m100\u001b[39m]  \u001b[38;5;66;03m# Using first 100 samples as background\u001b[39;00m\n\u001b[1;32m      9\u001b[0m \u001b[38;5;66;03m# calculate SHAP values for the feature map\u001b[39;00m\n\u001b[0;32m---> 10\u001b[0m shap_values \u001b[38;5;241m=\u001b[39m \u001b[43mquantum_feature_map_shap\u001b[49m\u001b[43m(\u001b[49m\n\u001b[1;32m     11\u001b[0m \u001b[43m    \u001b[49m\u001b[43mfeature_map\u001b[49m\u001b[38;5;241;43m=\u001b[39;49m\u001b[43mfeature_map\u001b[49m\u001b[43m,\u001b[49m\n\u001b[1;32m     12\u001b[0m \u001b[43m    \u001b[49m\u001b[43mx_sample\u001b[49m\u001b[38;5;241;43m=\u001b[39;49m\u001b[43mx_sample\u001b[49m\u001b[43m,\u001b[49m\n\u001b[1;32m     13\u001b[0m \u001b[43m    \u001b[49m\u001b[43mbackground_data\u001b[49m\u001b[38;5;241;43m=\u001b[39;49m\u001b[43mbackground_data\u001b[49m\u001b[43m,\u001b[49m\n\u001b[1;32m     14\u001b[0m \u001b[43m    \u001b[49m\u001b[43mfeature_names\u001b[49m\u001b[38;5;241;43m=\u001b[39;49m\u001b[43mfeature_names\u001b[49m\n\u001b[1;32m     15\u001b[0m \u001b[43m)\u001b[49m\n",
      "Cell \u001b[0;32mIn[24], line 19\u001b[0m, in \u001b[0;36mquantum_feature_map_shap\u001b[0;34m(feature_map, x_sample, background_data, feature_names)\u001b[0m\n\u001b[1;32m     13\u001b[0m explainer \u001b[38;5;241m=\u001b[39m KernelExplainer(\n\u001b[1;32m     14\u001b[0m     model\u001b[38;5;241m=\u001b[39m\u001b[38;5;28;01mlambda\u001b[39;00m x: np\u001b[38;5;241m.\u001b[39marray([state_similarity(x_i, x_sample) \u001b[38;5;28;01mfor\u001b[39;00m x_i \u001b[38;5;129;01min\u001b[39;00m x]), \n\u001b[1;32m     15\u001b[0m     data\u001b[38;5;241m=\u001b[39mbackground_data\n\u001b[1;32m     16\u001b[0m )\n\u001b[1;32m     18\u001b[0m \u001b[38;5;66;03m# calculate shap values from explainer\u001b[39;00m\n\u001b[0;32m---> 19\u001b[0m shap_values \u001b[38;5;241m=\u001b[39m \u001b[43mexplainer\u001b[49m\u001b[38;5;241;43m.\u001b[39;49m\u001b[43mshap_values\u001b[49m\u001b[43m(\u001b[49m\u001b[43mx_sample\u001b[49m\u001b[38;5;241;43m.\u001b[39;49m\u001b[43mreshape\u001b[49m\u001b[43m(\u001b[49m\u001b[38;5;241;43m1\u001b[39;49m\u001b[43m,\u001b[49m\u001b[43m \u001b[49m\u001b[38;5;241;43m-\u001b[39;49m\u001b[38;5;241;43m1\u001b[39;49m\u001b[43m)\u001b[49m\u001b[43m)\u001b[49m\n\u001b[1;32m     21\u001b[0m \u001b[38;5;66;03m# Create a consistent visualization regardless of SHAP version\u001b[39;00m\n\u001b[1;32m     22\u001b[0m plt\u001b[38;5;241m.\u001b[39mfigure(figsize\u001b[38;5;241m=\u001b[39m(\u001b[38;5;241m10\u001b[39m, \u001b[38;5;241m6\u001b[39m))\n",
      "File \u001b[0;32m~/miniconda3/envs/qiskit-fyp/lib/python3.13/site-packages/shap/explainers/_kernel.py:275\u001b[0m, in \u001b[0;36mKernelExplainer.shap_values\u001b[0;34m(self, X, **kwargs)\u001b[0m\n\u001b[1;32m    273\u001b[0m \u001b[38;5;28;01mif\u001b[39;00m \u001b[38;5;28mself\u001b[39m\u001b[38;5;241m.\u001b[39mkeep_index:\n\u001b[1;32m    274\u001b[0m     data \u001b[38;5;241m=\u001b[39m convert_to_instance_with_index(data, column_name, index_value[i : i \u001b[38;5;241m+\u001b[39m \u001b[38;5;241m1\u001b[39m], index_name)\n\u001b[0;32m--> 275\u001b[0m explanations\u001b[38;5;241m.\u001b[39mappend(\u001b[38;5;28;43mself\u001b[39;49m\u001b[38;5;241;43m.\u001b[39;49m\u001b[43mexplain\u001b[49m\u001b[43m(\u001b[49m\u001b[43mdata\u001b[49m\u001b[43m,\u001b[49m\u001b[43m \u001b[49m\u001b[38;5;241;43m*\u001b[39;49m\u001b[38;5;241;43m*\u001b[39;49m\u001b[43mkwargs\u001b[49m\u001b[43m)\u001b[49m)\n\u001b[1;32m    276\u001b[0m \u001b[38;5;28;01mif\u001b[39;00m kwargs\u001b[38;5;241m.\u001b[39mget(\u001b[38;5;124m\"\u001b[39m\u001b[38;5;124mgc_collect\u001b[39m\u001b[38;5;124m\"\u001b[39m, \u001b[38;5;28;01mFalse\u001b[39;00m):\n\u001b[1;32m    277\u001b[0m     gc\u001b[38;5;241m.\u001b[39mcollect()\n",
      "File \u001b[0;32m~/miniconda3/envs/qiskit-fyp/lib/python3.13/site-packages/shap/explainers/_kernel.py:479\u001b[0m, in \u001b[0;36mKernelExplainer.explain\u001b[0;34m(self, incoming_instance, **kwargs)\u001b[0m\n\u001b[1;32m    476\u001b[0m     \u001b[38;5;28mself\u001b[39m\u001b[38;5;241m.\u001b[39mkernelWeights[nfixed_samples:] \u001b[38;5;241m*\u001b[39m\u001b[38;5;241m=\u001b[39m weight_left \u001b[38;5;241m/\u001b[39m \u001b[38;5;28mself\u001b[39m\u001b[38;5;241m.\u001b[39mkernelWeights[nfixed_samples:]\u001b[38;5;241m.\u001b[39msum()\n\u001b[1;32m    478\u001b[0m \u001b[38;5;66;03m# execute the model on the synthetic samples we have created\u001b[39;00m\n\u001b[0;32m--> 479\u001b[0m \u001b[38;5;28;43mself\u001b[39;49m\u001b[38;5;241;43m.\u001b[39;49m\u001b[43mrun\u001b[49m\u001b[43m(\u001b[49m\u001b[43m)\u001b[49m\n\u001b[1;32m    481\u001b[0m \u001b[38;5;66;03m# solve then expand the feature importance (Shapley value) vector to contain the non-varying features\u001b[39;00m\n\u001b[1;32m    482\u001b[0m phi \u001b[38;5;241m=\u001b[39m np\u001b[38;5;241m.\u001b[39mzeros((\u001b[38;5;28mself\u001b[39m\u001b[38;5;241m.\u001b[39mdata\u001b[38;5;241m.\u001b[39mgroups_size, \u001b[38;5;28mself\u001b[39m\u001b[38;5;241m.\u001b[39mD))\n",
      "File \u001b[0;32m~/miniconda3/envs/qiskit-fyp/lib/python3.13/site-packages/shap/explainers/_kernel.py:624\u001b[0m, in \u001b[0;36mKernelExplainer.run\u001b[0;34m(self)\u001b[0m\n\u001b[1;32m    622\u001b[0m     \u001b[38;5;28;01mif\u001b[39;00m \u001b[38;5;28mself\u001b[39m\u001b[38;5;241m.\u001b[39mkeep_index_ordered:\n\u001b[1;32m    623\u001b[0m         data \u001b[38;5;241m=\u001b[39m data\u001b[38;5;241m.\u001b[39msort_index()\n\u001b[0;32m--> 624\u001b[0m modelOut \u001b[38;5;241m=\u001b[39m \u001b[38;5;28;43mself\u001b[39;49m\u001b[38;5;241;43m.\u001b[39;49m\u001b[43mmodel\u001b[49m\u001b[38;5;241;43m.\u001b[39;49m\u001b[43mf\u001b[49m\u001b[43m(\u001b[49m\u001b[43mdata\u001b[49m\u001b[43m)\u001b[49m\n\u001b[1;32m    625\u001b[0m \u001b[38;5;28;01mif\u001b[39;00m \u001b[38;5;28misinstance\u001b[39m(modelOut, (pd\u001b[38;5;241m.\u001b[39mDataFrame, pd\u001b[38;5;241m.\u001b[39mSeries)):\n\u001b[1;32m    626\u001b[0m     modelOut \u001b[38;5;241m=\u001b[39m modelOut\u001b[38;5;241m.\u001b[39mvalues\n",
      "Cell \u001b[0;32mIn[24], line 14\u001b[0m, in \u001b[0;36mquantum_feature_map_shap.<locals>.<lambda>\u001b[0;34m(x)\u001b[0m\n\u001b[1;32m      1\u001b[0m \u001b[38;5;28;01mdef\u001b[39;00m\u001b[38;5;250m \u001b[39m\u001b[38;5;21mquantum_feature_map_shap\u001b[39m(feature_map, x_sample, background_data, feature_names\u001b[38;5;241m=\u001b[39m\u001b[38;5;28;01mNone\u001b[39;00m):\n\u001b[1;32m      2\u001b[0m \u001b[38;5;250m    \u001b[39m\u001b[38;5;124;03m\"\"\"\u001b[39;00m\n\u001b[1;32m      3\u001b[0m \u001b[38;5;124;03m    Calculate SHAP values specifically for a quantum feature map to explain how \u001b[39;00m\n\u001b[1;32m      4\u001b[0m \u001b[38;5;124;03m    different features contribute to the quantum state representation\u001b[39;00m\n\u001b[0;32m   (...)\u001b[0m\n\u001b[1;32m     10\u001b[0m \u001b[38;5;124;03m        feature_names: Names of the features\u001b[39;00m\n\u001b[1;32m     11\u001b[0m \u001b[38;5;124;03m    \"\"\"\u001b[39;00m\n\u001b[1;32m     13\u001b[0m     explainer \u001b[38;5;241m=\u001b[39m KernelExplainer(\n\u001b[0;32m---> 14\u001b[0m         model\u001b[38;5;241m=\u001b[39m\u001b[38;5;28;01mlambda\u001b[39;00m x: np\u001b[38;5;241m.\u001b[39marray([\u001b[43mstate_similarity\u001b[49m\u001b[43m(\u001b[49m\u001b[43mx_i\u001b[49m\u001b[43m,\u001b[49m\u001b[43m \u001b[49m\u001b[43mx_sample\u001b[49m\u001b[43m)\u001b[49m \u001b[38;5;28;01mfor\u001b[39;00m x_i \u001b[38;5;129;01min\u001b[39;00m x]), \n\u001b[1;32m     15\u001b[0m         data\u001b[38;5;241m=\u001b[39mbackground_data\n\u001b[1;32m     16\u001b[0m     )\n\u001b[1;32m     18\u001b[0m     \u001b[38;5;66;03m# calculate shap values from explainer\u001b[39;00m\n\u001b[1;32m     19\u001b[0m     shap_values \u001b[38;5;241m=\u001b[39m explainer\u001b[38;5;241m.\u001b[39mshap_values(x_sample\u001b[38;5;241m.\u001b[39mreshape(\u001b[38;5;241m1\u001b[39m, \u001b[38;5;241m-\u001b[39m\u001b[38;5;241m1\u001b[39m))\n",
      "Cell \u001b[0;32mIn[23], line 8\u001b[0m, in \u001b[0;36mstate_similarity\u001b[0;34m(x1, x2)\u001b[0m\n\u001b[1;32m      6\u001b[0m \u001b[38;5;66;03m# get quantum states for 2 data points\u001b[39;00m\n\u001b[1;32m      7\u001b[0m state1 \u001b[38;5;241m=\u001b[39m get_quantum_state(x1)\n\u001b[0;32m----> 8\u001b[0m state2 \u001b[38;5;241m=\u001b[39m \u001b[43mget_quantum_state\u001b[49m\u001b[43m(\u001b[49m\u001b[43mx2\u001b[49m\u001b[43m)\u001b[49m\n\u001b[1;32m     10\u001b[0m \u001b[38;5;66;03m# calculate state fidelity\u001b[39;00m\n\u001b[1;32m     11\u001b[0m fidelity \u001b[38;5;241m=\u001b[39m np\u001b[38;5;241m.\u001b[39mabs(state_fidelity(state1, state2))\u001b[38;5;241m*\u001b[39m\u001b[38;5;241m*\u001b[39m\u001b[38;5;241m2\u001b[39m\n",
      "Cell \u001b[0;32mIn[22], line 13\u001b[0m, in \u001b[0;36mget_quantum_state\u001b[0;34m(x)\u001b[0m\n\u001b[1;32m     10\u001b[0m params \u001b[38;5;241m=\u001b[39m \u001b[38;5;28mdict\u001b[39m(\u001b[38;5;28mzip\u001b[39m(qc\u001b[38;5;241m.\u001b[39mparameters, x))\n\u001b[1;32m     12\u001b[0m \u001b[38;5;66;03m# assign params to circuit\u001b[39;00m\n\u001b[0;32m---> 13\u001b[0m qc \u001b[38;5;241m=\u001b[39m \u001b[43mqc\u001b[49m\u001b[38;5;241;43m.\u001b[39;49m\u001b[43massign_parameters\u001b[49m\u001b[43m(\u001b[49m\u001b[43mparams\u001b[49m\u001b[43m)\u001b[49m\n\u001b[1;32m     15\u001b[0m \u001b[38;5;66;03m# save statevector\u001b[39;00m\n\u001b[1;32m     16\u001b[0m qc\u001b[38;5;241m.\u001b[39msave_statevector()\n",
      "File \u001b[0;32m~/miniconda3/envs/qiskit-fyp/lib/python3.13/site-packages/qiskit/circuit/quantumcircuit.py:4364\u001b[0m, in \u001b[0;36mQuantumCircuit.assign_parameters\u001b[0;34m(self, parameters, inplace, flat_input, strict)\u001b[0m\n\u001b[1;32m   4361\u001b[0m     \u001b[38;5;28;01mdef\u001b[39;00m\u001b[38;5;250m \u001b[39m\u001b[38;5;21mcreate_mapping_view\u001b[39m():\n\u001b[1;32m   4362\u001b[0m         \u001b[38;5;28;01mreturn\u001b[39;00m raw_mapping\n\u001b[0;32m-> 4364\u001b[0m     \u001b[43mtarget\u001b[49m\u001b[38;5;241;43m.\u001b[39;49m\u001b[43m_data\u001b[49m\u001b[38;5;241;43m.\u001b[39;49m\u001b[43massign_parameters_mapping\u001b[49m\u001b[43m(\u001b[49m\u001b[43mraw_mapping\u001b[49m\u001b[43m)\u001b[49m\n\u001b[1;32m   4365\u001b[0m \u001b[38;5;28;01melse\u001b[39;00m:\n\u001b[1;32m   4366\u001b[0m     \u001b[38;5;66;03m# This should be a cache retrieval, since we warmed the cache.  We need to keep hold of\u001b[39;00m\n\u001b[1;32m   4367\u001b[0m     \u001b[38;5;66;03m# what the parameters were before anything is assigned, because we assign parameters in\u001b[39;00m\n\u001b[0;32m   (...)\u001b[0m\n\u001b[1;32m   4370\u001b[0m     \u001b[38;5;66;03m# parameters to values eagerly because 99.9% of the time we don't need it, and it's\u001b[39;00m\n\u001b[1;32m   4371\u001b[0m     \u001b[38;5;66;03m# relatively expensive to do for large numbers of parameters.\u001b[39;00m\n\u001b[1;32m   4372\u001b[0m     initial_parameters \u001b[38;5;241m=\u001b[39m target\u001b[38;5;241m.\u001b[39m_data\u001b[38;5;241m.\u001b[39mparameters\n",
      "File \u001b[0;32m~/miniconda3/envs/qiskit-fyp/lib/python3.13/site-packages/qiskit/circuit/parameterexpression.py:179\u001b[0m, in \u001b[0;36mParameterExpression.assign\u001b[0;34m(self, parameter, value)\u001b[0m\n\u001b[1;32m    177\u001b[0m \u001b[38;5;28;01mif\u001b[39;00m \u001b[38;5;28misinstance\u001b[39m(value, ParameterExpression):\n\u001b[1;32m    178\u001b[0m     \u001b[38;5;28;01mreturn\u001b[39;00m \u001b[38;5;28mself\u001b[39m\u001b[38;5;241m.\u001b[39msubs({parameter: value})\n\u001b[0;32m--> 179\u001b[0m \u001b[38;5;28;01mreturn\u001b[39;00m \u001b[38;5;28;43mself\u001b[39;49m\u001b[38;5;241;43m.\u001b[39;49m\u001b[43mbind\u001b[49m\u001b[43m(\u001b[49m\u001b[43m{\u001b[49m\u001b[43mparameter\u001b[49m\u001b[43m:\u001b[49m\u001b[43m \u001b[49m\u001b[43mvalue\u001b[49m\u001b[43m}\u001b[49m\u001b[43m)\u001b[49m\n",
      "File \u001b[0;32m~/miniconda3/envs/qiskit-fyp/lib/python3.13/site-packages/qiskit/circuit/parameterexpression.py:214\u001b[0m, in \u001b[0;36mParameterExpression.bind\u001b[0;34m(self, parameter_values, allow_unknown_parameters)\u001b[0m\n\u001b[1;32m    211\u001b[0m     \u001b[38;5;28;01mif\u001b[39;00m (param_expr \u001b[38;5;241m:=\u001b[39m \u001b[38;5;28mself\u001b[39m\u001b[38;5;241m.\u001b[39m_parameter_symbols\u001b[38;5;241m.\u001b[39mget(parameter)) \u001b[38;5;129;01mis\u001b[39;00m \u001b[38;5;129;01mnot\u001b[39;00m \u001b[38;5;28;01mNone\u001b[39;00m:\n\u001b[1;32m    212\u001b[0m         symbol_values[param_expr] \u001b[38;5;241m=\u001b[39m value\n\u001b[0;32m--> 214\u001b[0m bound_symbol_expr \u001b[38;5;241m=\u001b[39m \u001b[38;5;28;43mself\u001b[39;49m\u001b[38;5;241;43m.\u001b[39;49m\u001b[43m_symbol_expr\u001b[49m\u001b[38;5;241;43m.\u001b[39;49m\u001b[43msubs\u001b[49m\u001b[43m(\u001b[49m\u001b[43msymbol_values\u001b[49m\u001b[43m)\u001b[49m\n\u001b[1;32m    216\u001b[0m \u001b[38;5;66;03m# Don't use sympy.free_symbols to count remaining parameters here.\u001b[39;00m\n\u001b[1;32m    217\u001b[0m \u001b[38;5;66;03m# sympy will in some cases reduce the expression and remove even\u001b[39;00m\n\u001b[1;32m    218\u001b[0m \u001b[38;5;66;03m# unbound symbols.\u001b[39;00m\n\u001b[1;32m    219\u001b[0m \u001b[38;5;66;03m# e.g. (sympy.Symbol('s') * 0).free_symbols == set()\u001b[39;00m\n\u001b[1;32m    221\u001b[0m free_parameters \u001b[38;5;241m=\u001b[39m \u001b[38;5;28mself\u001b[39m\u001b[38;5;241m.\u001b[39mparameters \u001b[38;5;241m-\u001b[39m parameter_values\u001b[38;5;241m.\u001b[39mkeys()\n",
      "File \u001b[0;32msymengine_wrapper.pyx:1006\u001b[0m, in \u001b[0;36msymengine.lib.symengine_wrapper.Basic.subs\u001b[0;34m()\u001b[0m\n",
      "File \u001b[0;32msymengine_wrapper.pyx:802\u001b[0m, in \u001b[0;36msymengine.lib.symengine_wrapper.get_dict\u001b[0;34m()\u001b[0m\n",
      "File \u001b[0;32m<frozen abc>:117\u001b[0m, in \u001b[0;36m__instancecheck__\u001b[0;34m(cls, instance)\u001b[0m\n",
      "\u001b[0;31mKeyboardInterrupt\u001b[0m: "
     ]
    }
   ],
   "source": [
    "# Select a sample to explain\n",
    "sample_idx = 0  # You can change this to any index\n",
    "x_sample = X_test[sample_idx]\n",
    "true_label = y_test[sample_idx]\n",
    "\n",
    "# Use a subset of training data as background\n",
    "background_data = X_train[:100]  # Using first 100 samples as background\n",
    "\n",
    "# calculate SHAP values for the feature map\n",
    "shap_values = quantum_feature_map_shap(\n",
    "    feature_map=feature_map,\n",
    "    x_sample=x_sample,\n",
    "    background_data=background_data,\n",
    "    feature_names=feature_names\n",
    ")"
   ]
  }
 ],
 "metadata": {
  "kernelspec": {
   "display_name": "qiskit-fyp",
   "language": "python",
   "name": "python3"
  },
  "language_info": {
   "codemirror_mode": {
    "name": "ipython",
    "version": 3
   },
   "file_extension": ".py",
   "mimetype": "text/x-python",
   "name": "python",
   "nbconvert_exporter": "python",
   "pygments_lexer": "ipython3",
   "version": "3.13.2"
  }
 },
 "nbformat": 4,
 "nbformat_minor": 2
}
