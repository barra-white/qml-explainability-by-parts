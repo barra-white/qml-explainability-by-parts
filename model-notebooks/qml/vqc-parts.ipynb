{
 "cells": [
  {
   "cell_type": "markdown",
   "metadata": {},
   "source": [
    "# Variational Quantum Classifier (VQC) Splitting\n",
    "\n",
    "This notebook will explore the Qiskit implementation of a VQC, and initial attempts to split the VQC into parts to explain.\n"
   ]
  },
  {
   "cell_type": "code",
   "execution_count": 1,
   "metadata": {},
   "outputs": [],
   "source": [
    "%load_ext autoreload\n",
    "%autoreload 2\n",
    "%matplotlib inline"
   ]
  },
  {
   "cell_type": "markdown",
   "metadata": {},
   "source": [
    "### Imports"
   ]
  },
  {
   "cell_type": "code",
   "execution_count": 1,
   "metadata": {},
   "outputs": [],
   "source": [
    "# qiskit imports\n",
    "# algorithm\n",
    "from qiskit_machine_learning.algorithms import VQC\n",
    "\n",
    "# feature map\n",
    "from qiskit.circuit.library import ZZFeatureMap\n",
    "\n",
    "# ansatz\n",
    "from qiskit.circuit.library import RealAmplitudes\n",
    "from qiskit.circuit.library import EfficientSU2\n",
    "\n",
    "# optimizer\n",
    "from qiskit_algorithms.optimizers import COBYLA\n",
    "from qiskit_algorithms.optimizers import SPSA\n",
    "from qiskit_algorithms.optimizers import SLSQP\n",
    "from qiskit_algorithms.optimizers import ADAM\n",
    "\n",
    "# sampler\n",
    "from qiskit.primitives import Sampler"
   ]
  },
  {
   "cell_type": "markdown",
   "metadata": {},
   "source": [
    "### VQC Overview"
   ]
  },
  {
   "cell_type": "markdown",
   "metadata": {},
   "source": [
    "A Variational Quantum Classifier is a hybrid quantum-classical machine learning algorithm used for classification. It encodes the classical data using a feature map, which maps the data onto qubits to take advantage of quantum phenomena. The encoded data is processed through a variational quantum circuit (consists of parameterized gates). These parameters are iteratively optimised using classical algorithms to minimise a cost function (difference between predicted and true labels). After processing, quantum circuit is measured, and results are post processed to produce predictions. \n",
    "This hybrid approach allows the VQC allows the combination of the power of quantum mechanics with classical optimisation techniques, offering advantages for complex classification problems that would be challenging for a purely classical approach"
   ]
  },
  {
   "cell_type": "markdown",
   "metadata": {},
   "source": [
    "### Applying Explainability Techniques\n",
    "##### **Pre-Prediciton**\n",
    "1) **Feature Map**\n",
    "    - Perturbation Analysis\n",
    "    - Leave-One-Out (LOO) Analysis\n",
    "    - Permutation Importance\n",
    "    - SHAP (Feature Encoding)\n",
    "  \n",
    "2) **Ansatz (Variational Circuit)**\n",
    "    - Parameter Sensitivity Analysis\n",
    "    - Quantum Fisher Information (QFI)\n",
    "    - Gradient-Based Analysis\n",
    "    - Circuit Visualisation\n",
    "    - SHAP (Parameters)\n",
    "      - Applying importance scores to asses contribution to \n",
    "    \n",
    "##### **Post-Prediction**\n",
    "1) **Measurement + Post Processing**\n",
    "    - SHAP (Predicitons)\n",
    "    - ALE\n",
    "    - Probability Attribution Analysis\n",
    "2) **Cost**\n",
    "    - Loss Contribution Analysis\n",
    "    - Perturbation Sensitivity on Loss\n",
    "    - Quantum-Classical Hybrid Loop Analysis"
   ]
  }
 ],
 "metadata": {
  "kernelspec": {
   "display_name": "qiskit-fyp",
   "language": "python",
   "name": "python3"
  },
  "language_info": {
   "codemirror_mode": {
    "name": "ipython",
    "version": 3
   },
   "file_extension": ".py",
   "mimetype": "text/x-python",
   "name": "python",
   "nbconvert_exporter": "python",
   "pygments_lexer": "ipython3",
   "version": "3.13.0"
  }
 },
 "nbformat": 4,
 "nbformat_minor": 2
}
