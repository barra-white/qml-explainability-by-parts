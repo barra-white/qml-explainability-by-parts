{
 "cells": [
  {
   "cell_type": "markdown",
   "metadata": {},
   "source": [
    "# Variational Quantum Classifier (VQC) Hardware\n",
    "\n",
    "The notebook runs a feature map on real quantum hardware"
   ]
  },
  {
   "cell_type": "code",
   "execution_count": 5,
   "metadata": {},
   "outputs": [],
   "source": [
    "%load_ext autoreload\n",
    "%autoreload 2\n",
    "%matplotlib inline"
   ]
  },
  {
   "cell_type": "markdown",
   "metadata": {},
   "source": [
    "### Imports"
   ]
  },
  {
   "cell_type": "code",
   "execution_count": null,
   "metadata": {},
   "outputs": [],
   "source": [
    "# imports\n",
    "from matplotlib import pyplot as plt\n",
    "import seaborn as sns\n",
    "\n",
    "import os\n",
    "import time\n",
    "\n",
    "# import data class\n",
    "from utilities.dataset_utils import DiabetesData\n",
    "\n",
    "# qiskit imports\n",
    "# vqc for feature map call\n",
    "from qiskit_machine_learning.algorithms import VQC\n",
    "\n",
    "# hardware execution\n",
    "from qiskit_ibm_runtime import QiskitRuntimeService\n",
    "from qiskit_ibm_runtime import Sampler\n",
    "\n",
    "# ciruit transpiler\n",
    "from qiskit import transpile\n",
    "\n",
    "from qiskit.transpiler.preset_passmanagers import generate_preset_pass_manager"
   ]
  },
  {
   "cell_type": "code",
   "execution_count": 7,
   "metadata": {},
   "outputs": [],
   "source": [
    "# path to diabetes.csv\n",
    "path = os.path.join(os.getcwd(), '..', '..', 'utilities', 'diabetes.csv')\n",
    "# load dataset class\n",
    "dataset = DiabetesData(path)"
   ]
  },
  {
   "cell_type": "code",
   "execution_count": 8,
   "metadata": {},
   "outputs": [],
   "source": [
    "# path to diabetes.csv\n",
    "path = os.path.join(os.getcwd(), '..', '..', 'models', 'qml-simulator', 'vqc_best_params.model')\n",
    "\n",
    "vqc = VQC.load(path)"
   ]
  },
  {
   "cell_type": "code",
   "execution_count": 9,
   "metadata": {},
   "outputs": [],
   "source": [
    "service = QiskitRuntimeService()"
   ]
  },
  {
   "cell_type": "code",
   "execution_count": 11,
   "metadata": {},
   "outputs": [
    {
     "name": "stdout",
     "output_type": "stream",
     "text": [
      "Available Backends:  ['ibm_brisbane', 'ibm_kyiv', 'ibm_sherbrooke']\n"
     ]
    }
   ],
   "source": [
    "filtered_backends = service.backends(\n",
    "    simulator=False,\n",
    "    operational=True,\n",
    "    min_num_qubits=8\n",
    ")\n",
    "\n",
    "print(\"Available Backends: \", [backend.name for backend in filtered_backends])"
   ]
  },
  {
   "cell_type": "code",
   "execution_count": 12,
   "metadata": {},
   "outputs": [
    {
     "name": "stdout",
     "output_type": "stream",
     "text": [
      "Backend: ibm_brisbane\n",
      "Num Qubits: 127\n"
     ]
    }
   ],
   "source": [
    "backend_name = 'ibm_brisbane'\n",
    "\n",
    "backend = service.backend(backend_name)\n",
    "\n",
    "print(f'Backend: {backend_name}\\nNum Qubits: {backend.num_qubits}')"
   ]
  },
  {
   "cell_type": "code",
   "execution_count": 13,
   "metadata": {},
   "outputs": [],
   "source": [
    "# feature map\n",
    "feature_map = vqc.feature_map"
   ]
  },
  {
   "cell_type": "code",
   "execution_count": null,
   "metadata": {},
   "outputs": [],
   "source": [
    "# get data\n",
    "X_train, X_test, y_train, y_test = dataset.preprocess_data_ranged()"
   ]
  },
  {
   "cell_type": "code",
   "execution_count": 14,
   "metadata": {},
   "outputs": [
    {
     "data": {
      "text/plain": [
       "ParameterView([ParameterVectorElement(x[0]), ParameterVectorElement(x[1]), ParameterVectorElement(x[2]), ParameterVectorElement(x[3]), ParameterVectorElement(x[4]), ParameterVectorElement(x[5]), ParameterVectorElement(x[6]), ParameterVectorElement(x[7])])"
      ]
     },
     "execution_count": 14,
     "metadata": {},
     "output_type": "execute_result"
    }
   ],
   "source": [
    "feature_map.parameters"
   ]
  },
  {
   "cell_type": "code",
   "execution_count": 15,
   "metadata": {},
   "outputs": [
    {
     "data": {
      "text/html": [
       "<pre style=\"word-wrap: normal;white-space: pre;background: #fff0;line-height: 1.1;font-family: &quot;Courier New&quot;,Courier,monospace\">   ┌───┐┌─────────────┐┌───┐┌─────────────┐\n",
       "0: ┤ H ├┤ P(2.0*x[0]) ├┤ H ├┤ P(2.0*x[0]) ├\n",
       "   ├───┤├─────────────┤├───┤├─────────────┤\n",
       "1: ┤ H ├┤ P(2.0*x[1]) ├┤ H ├┤ P(2.0*x[1]) ├\n",
       "   ├───┤├─────────────┤├───┤├─────────────┤\n",
       "2: ┤ H ├┤ P(2.0*x[2]) ├┤ H ├┤ P(2.0*x[2]) ├\n",
       "   ├───┤├─────────────┤├───┤├─────────────┤\n",
       "3: ┤ H ├┤ P(2.0*x[3]) ├┤ H ├┤ P(2.0*x[3]) ├\n",
       "   ├───┤├─────────────┤├───┤├─────────────┤\n",
       "4: ┤ H ├┤ P(2.0*x[4]) ├┤ H ├┤ P(2.0*x[4]) ├\n",
       "   ├───┤├─────────────┤├───┤├─────────────┤\n",
       "5: ┤ H ├┤ P(2.0*x[5]) ├┤ H ├┤ P(2.0*x[5]) ├\n",
       "   ├───┤├─────────────┤├───┤├─────────────┤\n",
       "6: ┤ H ├┤ P(2.0*x[6]) ├┤ H ├┤ P(2.0*x[6]) ├\n",
       "   ├───┤├─────────────┤├───┤├─────────────┤\n",
       "7: ┤ H ├┤ P(2.0*x[7]) ├┤ H ├┤ P(2.0*x[7]) ├\n",
       "   └───┘└─────────────┘└───┘└─────────────┘</pre>"
      ],
      "text/plain": [
       "   ┌───┐┌─────────────┐┌───┐┌─────────────┐\n",
       "0: ┤ H ├┤ P(2.0*x[0]) ├┤ H ├┤ P(2.0*x[0]) ├\n",
       "   ├───┤├─────────────┤├───┤├─────────────┤\n",
       "1: ┤ H ├┤ P(2.0*x[1]) ├┤ H ├┤ P(2.0*x[1]) ├\n",
       "   ├───┤├─────────────┤├───┤├─────────────┤\n",
       "2: ┤ H ├┤ P(2.0*x[2]) ├┤ H ├┤ P(2.0*x[2]) ├\n",
       "   ├───┤├─────────────┤├───┤├─────────────┤\n",
       "3: ┤ H ├┤ P(2.0*x[3]) ├┤ H ├┤ P(2.0*x[3]) ├\n",
       "   ├───┤├─────────────┤├───┤├─────────────┤\n",
       "4: ┤ H ├┤ P(2.0*x[4]) ├┤ H ├┤ P(2.0*x[4]) ├\n",
       "   ├───┤├─────────────┤├───┤├─────────────┤\n",
       "5: ┤ H ├┤ P(2.0*x[5]) ├┤ H ├┤ P(2.0*x[5]) ├\n",
       "   ├───┤├─────────────┤├───┤├─────────────┤\n",
       "6: ┤ H ├┤ P(2.0*x[6]) ├┤ H ├┤ P(2.0*x[6]) ├\n",
       "   ├───┤├─────────────┤├───┤├─────────────┤\n",
       "7: ┤ H ├┤ P(2.0*x[7]) ├┤ H ├┤ P(2.0*x[7]) ├\n",
       "   └───┘└─────────────┘└───┘└─────────────┘"
      ]
     },
     "execution_count": 15,
     "metadata": {},
     "output_type": "execute_result"
    }
   ],
   "source": [
    "feature_map.draw()"
   ]
  },
  {
   "cell_type": "code",
   "execution_count": null,
   "metadata": {},
   "outputs": [],
   "source": [
    "# transpiled feature map\n",
    "feature_map_transpiled = transpile(feature_map, backend=backend, optimization_level=3)"
   ]
  },
  {
   "cell_type": "code",
   "execution_count": null,
   "metadata": {},
   "outputs": [],
   "source": [
    "# sampler\n",
    "sampler = Sampler(mode=backend)\n",
    "\n",
    "job = sampler.run([feature_map_transpiled], shots=1024)"
   ]
  }
 ],
 "metadata": {
  "kernelspec": {
   "display_name": "qiskit-fyp",
   "language": "python",
   "name": "python3"
  },
  "language_info": {
   "codemirror_mode": {
    "name": "ipython",
    "version": 3
   },
   "file_extension": ".py",
   "mimetype": "text/x-python",
   "name": "python",
   "nbconvert_exporter": "python",
   "pygments_lexer": "ipython3",
   "version": "3.13.0"
  }
 },
 "nbformat": 4,
 "nbformat_minor": 2
}
