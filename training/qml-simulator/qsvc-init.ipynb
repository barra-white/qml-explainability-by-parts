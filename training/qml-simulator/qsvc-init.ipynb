{
 "cells": [
  {
   "cell_type": "markdown",
   "metadata": {},
   "source": [
    "# Quantum Support Vector Classifier (QSVC) Splitting\n",
    "\n",
    "This notebook will explore the Qiskit implementation of a QSVC, and initial attempts to split the QSVC into parts to explain."
   ]
  },
  {
   "cell_type": "code",
   "execution_count": 1,
   "metadata": {},
   "outputs": [],
   "source": [
    "%load_ext autoreload\n",
    "%autoreload 2\n",
    "%matplotlib inline"
   ]
  },
  {
   "cell_type": "markdown",
   "metadata": {},
   "source": [
    "### Imports"
   ]
  },
  {
   "cell_type": "code",
   "execution_count": 2,
   "metadata": {},
   "outputs": [],
   "source": [
    "# imports\n",
    "from matplotlib import pyplot as plt\n",
    "import seaborn as sns\n",
    "\n",
    "import os\n",
    "import time\n",
    "\n",
    "# import data class\n",
    "from utilities.dataset_utils import DiabetesData\n",
    "\n",
    "# import metrics for evaluation\n",
    "from sklearn.metrics import accuracy_score\n",
    "from sklearn.metrics import confusion_matrix\n",
    "from sklearn.metrics import classification_report\n",
    "\n",
    "# qiskit imports\n",
    "# circuit transpiler\n",
    "from qiskit import transpile\n",
    "\n",
    "# algorithm\n",
    "from qiskit_machine_learning.algorithms import QSVC\n",
    "\n",
    "# feature map\n",
    "from qiskit.circuit.library import z_feature_map\n",
    "\n",
    "# fidelity\n",
    "from qiskit_machine_learning.state_fidelities import ComputeUncompute\n",
    "\n",
    "# kernel\n",
    "from qiskit_machine_learning.kernels import FidelityQuantumKernel\n",
    "\n",
    "# simulator\n",
    "from qiskit_aer import AerSimulator\n",
    "from qiskit_aer.primitives import SamplerV2 as Sampler"
   ]
  },
  {
   "cell_type": "markdown",
   "metadata": {},
   "source": [
    "### QSVC Overview\n",
    "A Quantum Support Vector Classifier\n",
    "\n",
    "\n",
    "\n",
    "\n",
    "\n",
    "\n",
    "\n",
    "is a hybrid quantum-classical machine learning algorithm used for classification. It encodes the classical data using a feature map, which maps the data onto qubits to take advantage of quantum phenomena. The encoded data is processed through a variational quantum circuit (consists of parameterized gates). These parameters are iteratively optimised using classical algorithms to minimise a cost function (difference between predicted and true labels). After processing, quantum circuit is measured, and results are post processed to produce predictions. \n",
    "This hybrid approach allows the VQC allows the combination of the power of quantum mechanics with classical optimisation techniques, offering advantages for complex classification problems that would be challenging for a purely classical approach"
   ]
  },
  {
   "cell_type": "code",
   "execution_count": 3,
   "metadata": {},
   "outputs": [],
   "source": [
    "# path to diabetes.csv\n",
    "path = os.path.join(os.getcwd(), '..', '..', 'utilities', 'diabetes.csv')\n",
    "# load dataset class\n",
    "dataset = DiabetesData(path)"
   ]
  },
  {
   "cell_type": "code",
   "execution_count": 4,
   "metadata": {},
   "outputs": [],
   "source": [
    "# setup backend simulator\n",
    "backend = AerSimulator()\n",
    "backend.set_options(max_parallel_threads=os.cpu_count(), method='automatic')"
   ]
  },
  {
   "cell_type": "code",
   "execution_count": 5,
   "metadata": {},
   "outputs": [],
   "source": [
    "\n",
    "# feature map\n",
    "feature_map = z_feature_map(feature_dimension=dataset.get_num_features(), reps=2, entanglement='linear')\n",
    "\n",
    "feature_map = transpile(feature_map, backend=backend, optimization_level=3) # transpile to backend"
   ]
  },
  {
   "cell_type": "code",
   "execution_count": 6,
   "metadata": {},
   "outputs": [],
   "source": [
    "# sampler\n",
    "sampler = Sampler.from_backend(backend)"
   ]
  },
  {
   "cell_type": "code",
   "execution_count": 7,
   "metadata": {},
   "outputs": [],
   "source": [
    "# fidelity\n",
    "fidelity = ComputeUncompute(sampler=sampler)"
   ]
  },
  {
   "cell_type": "code",
   "execution_count": 8,
   "metadata": {},
   "outputs": [],
   "source": [
    "# kernel\n",
    "kernel = FidelityQuantumKernel(feature_map=feature_map, fidelity=fidelity, max_circuits_per_job=50000) # adjust max circuits based on hardware\n",
    "# ran on laptop with AMD Ryzen 7 8840HS (8-core) and 16GB RAM"
   ]
  },
  {
   "cell_type": "code",
   "execution_count": 9,
   "metadata": {},
   "outputs": [],
   "source": [
    "# create the QSVC instance\n",
    "qsvc = QSVC(\n",
    "    quantum_kernel=kernel,\n",
    "    C=1,\n",
    "    max_iter=1000\n",
    ")"
   ]
  },
  {
   "cell_type": "markdown",
   "metadata": {},
   "source": [
    "### Model Fit on Simulator"
   ]
  },
  {
   "cell_type": "code",
   "execution_count": 10,
   "metadata": {},
   "outputs": [],
   "source": [
    "# get training and testing data\n",
    "X_train, X_test, y_train, y_test = dataset.preprocess_data()"
   ]
  },
  {
   "cell_type": "code",
   "execution_count": 11,
   "metadata": {},
   "outputs": [],
   "source": [
    "# Reduce training set size if it is too large\n",
    "# sample_size = 250  # adjust sample_size as needed\n",
    "# if len(X_train) > sample_size:\n",
    "#     X_train = X_train[:sample_size]\n",
    "#     y_train = y_train[:sample_size]"
   ]
  },
  {
   "cell_type": "code",
   "execution_count": null,
   "metadata": {},
   "outputs": [],
   "source": [
    "# time how long it takes to train\n",
    "start = time.time()\n",
    "\n",
    "# fit the model\n",
    "qsvc = qsvc.fit(X_train, y_train)\n",
    "\n",
    "end = time.time()\n",
    "elapsed = end - start\n",
    "\n",
    "# print training time\n",
    "print(f\"Training Time: {round(elapsed)} secs\")"
   ]
  },
  {
   "cell_type": "markdown",
   "metadata": {},
   "source": [
    "### QSVC Evaluation"
   ]
  },
  {
   "cell_type": "code",
   "execution_count": null,
   "metadata": {},
   "outputs": [],
   "source": [
    "train_score = qsvc.score(X_train, y_train)\n",
    "test_score = qsvc.score(X_test, y_test)\n",
    "train_score, test_score"
   ]
  },
  {
   "cell_type": "code",
   "execution_count": null,
   "metadata": {},
   "outputs": [],
   "source": [
    "# predict\n",
    "y_pred = qsvc.predict(X_test)"
   ]
  },
  {
   "cell_type": "code",
   "execution_count": null,
   "metadata": {},
   "outputs": [],
   "source": [
    "# confusion matrix\n",
    "def conf_matrix(y_test, y_pred):\n",
    "    cm = confusion_matrix(y_test, y_pred)\n",
    "    heatmap = sns.heatmap(cm, annot=True, fmt='d', cmap='Blues', xticklabels=['Class 0', 'Class 1'], yticklabels=['Class 0', 'Class 1'])\n",
    "    plt.title('Confusion Matrix: QSVC')\n",
    "    plt.xlabel('Predicted Label')\n",
    "    plt.ylabel('True Label')\n",
    "    plt.show()"
   ]
  },
  {
   "cell_type": "code",
   "execution_count": null,
   "metadata": {},
   "outputs": [],
   "source": [
    "# accuracy score\n",
    "accuracy = accuracy_score(y_test, y_pred)"
   ]
  },
  {
   "cell_type": "code",
   "execution_count": null,
   "metadata": {},
   "outputs": [],
   "source": [
    "# classification report\n",
    "report = classification_report(y_test, y_pred, zero_division=0, output_dict=False)"
   ]
  },
  {
   "cell_type": "code",
   "execution_count": null,
   "metadata": {},
   "outputs": [],
   "source": [
    "# print metrics\n",
    "print(f'Accuracy: {accuracy}')\n",
    "print(f'Classification Report:\\n{report}')\n",
    "conf_matrix(y_test, y_pred)"
   ]
  },
  {
   "cell_type": "markdown",
   "metadata": {},
   "source": [
    "### Save Model"
   ]
  },
  {
   "cell_type": "code",
   "execution_count": null,
   "metadata": {},
   "outputs": [],
   "source": [
    "# path to save model\n",
    "model_path = os.path.join(os.getcwd(), '..', '..', 'models', 'qml-simulator')\n",
    "\n",
    "# create model directory if it doesn't exist\n",
    "os.makedirs(model_path, exist_ok=True)\n",
    "\n",
    "# create model file\n",
    "model_file = os.path.join(model_path, 'qsvc_init.model')\n",
    "\n",
    "# save model\n",
    "qsvc.save(model_file)\n",
    "print(f'Model saved to {model_file}')"
   ]
  }
 ],
 "metadata": {
  "kernelspec": {
   "display_name": "qiskit-fyp",
   "language": "python",
   "name": "python3"
  },
  "language_info": {
   "codemirror_mode": {
    "name": "ipython",
    "version": 3
   },
   "file_extension": ".py",
   "mimetype": "text/x-python",
   "name": "python",
   "nbconvert_exporter": "python",
   "pygments_lexer": "ipython3",
   "version": "3.13.0"
  }
 },
 "nbformat": 4,
 "nbformat_minor": 2
}
