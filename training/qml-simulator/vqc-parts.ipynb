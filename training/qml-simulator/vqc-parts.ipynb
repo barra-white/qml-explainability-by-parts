{
 "cells": [
  {
   "cell_type": "markdown",
   "metadata": {},
   "source": [
    "# Variational Quantum Classifier (VQC) Splitting\n",
    "\n",
    "This notebook will explore the Qiskit implementation of a VQC, and initial attempts to split the VQC into parts to explain."
   ]
  },
  {
   "cell_type": "code",
   "execution_count": null,
   "metadata": {},
   "outputs": [],
   "source": [
    "%load_ext autoreload\n",
    "%autoreload 2\n",
    "%matplotlib inline"
   ]
  },
  {
   "cell_type": "markdown",
   "metadata": {},
   "source": [
    "### Imports"
   ]
  },
  {
   "cell_type": "code",
   "execution_count": null,
   "metadata": {},
   "outputs": [],
   "source": [
    "# imports\n",
    "from matplotlib import pyplot as plt\n",
    "import seaborn as sns\n",
    "\n",
    "from IPython.display import clear_output\n",
    "\n",
    "import os\n",
    "import time\n",
    "\n",
    "# import data class\n",
    "from utilities.dataset_utils import DiabetesData\n",
    "\n",
    "# import metrics for evaluation\n",
    "from sklearn.metrics import accuracy_score\n",
    "from sklearn.metrics import confusion_matrix\n",
    "from sklearn.metrics import classification_report\n",
    "\n",
    "# qiskit imports\n",
    "# circuit transpiler\n",
    "from qiskit import transpile\n",
    "\n",
    "# algorithm\n",
    "from qiskit_machine_learning.algorithms.classifiers import VQC\n",
    "\n",
    "# feature map\n",
    "from qiskit.circuit.library import z_feature_map\n",
    "\n",
    "# ansatz\n",
    "from qiskit.circuit.library import RealAmplitudes\n",
    "from qiskit.circuit.library import EfficientSU2\n",
    "\n",
    "# optimizer\n",
    "from qiskit_machine_learning.optimizers import COBYLA\n",
    "\n",
    "# simulator\n",
    "from qiskit_aer import AerSimulator\n",
    "from qiskit_aer.primitives import SamplerV2 as Sampler"
   ]
  },
  {
   "cell_type": "markdown",
   "metadata": {},
   "source": [
    "### VQC Overview\n",
    "A Variational Quantum Classifier is a hybrid quantum-classical machine learning algorithm used for classification. It encodes the classical data using a feature map, which maps the data onto qubits to take advantage of quantum phenomena. The encoded data is processed through a variational quantum circuit (consists of parameterized gates). These parameters are iteratively optimised using classical algorithms to minimise a cost function (difference between predicted and true labels). After processing, quantum circuit is measured, and results are post processed to produce predictions. \n",
    "This hybrid approach allows the VQC allows the combination of the power of quantum mechanics with classical optimisation techniques, offering advantages for complex classification problems that would be challenging for a purely classical approach"
   ]
  },
  {
   "cell_type": "code",
   "execution_count": null,
   "metadata": {},
   "outputs": [],
   "source": [
    "# path to diabetes.csv\n",
    "path = os.path.join(os.getcwd(), '..', '..', 'utilities', 'diabetes.csv')\n",
    "# load dataset class\n",
    "dataset = DiabetesData(path)"
   ]
  },
  {
   "cell_type": "code",
   "execution_count": null,
   "metadata": {},
   "outputs": [],
   "source": [
    "# setup backend simulator\n",
    "backend = AerSimulator()\n",
    "backend.set_options(max_parallel_threads=os.cpu_count(), method='statevector')"
   ]
  },
  {
   "cell_type": "code",
   "execution_count": null,
   "metadata": {},
   "outputs": [],
   "source": [
    "# feature map\n",
    "feature_map = z_feature_map(feature_dimension=dataset.get_num_features(), reps=2, entanglement='linear')\n",
    "feature_map = transpile(feature_map, backend=backend, optimization_level=3) # transpile to backend"
   ]
  },
  {
   "cell_type": "code",
   "execution_count": null,
   "metadata": {},
   "outputs": [],
   "source": [
    "# ansatz\n",
    "ansatz = EfficientSU2(num_qubits=dataset.get_num_features(), reps=3, entanglement='linear')\n",
    "ansatz = transpile(ansatz, backend=backend, optimization_level=3) # transpile to backend"
   ]
  },
  {
   "cell_type": "code",
   "execution_count": null,
   "metadata": {},
   "outputs": [],
   "source": [
    "# callback graph\n",
    "# init list to store objective function values\n",
    "objective_func_vals = []\n",
    "\n",
    "# larger size for graph\n",
    "plt.rcParams[\"figure.figsize\"] = (12, 6)\n",
    "\n",
    "# callback function to plot objective function value (updates after each iteration)\n",
    "def callback_graph(weights, obj_func_eval):\n",
    "    clear_output(wait=True)\n",
    "    objective_func_vals.append(obj_func_eval)\n",
    "    plt.title(\"Objective Function Value\")\n",
    "    plt.xlabel(\"Iteration\")\n",
    "    plt.ylabel(\"Objective Function Value\")\n",
    "    plt.plot(objective_func_vals)\n",
    "    plt.show()"
   ]
  },
  {
   "cell_type": "code",
   "execution_count": null,
   "metadata": {},
   "outputs": [],
   "source": [
    "# optimizer\n",
    "optimizer = COBYLA(maxiter=500)"
   ]
  },
  {
   "cell_type": "code",
   "execution_count": null,
   "metadata": {},
   "outputs": [],
   "source": [
    "# sampler\n",
    "sampler = Sampler.from_backend(backend)"
   ]
  },
  {
   "cell_type": "code",
   "execution_count": null,
   "metadata": {},
   "outputs": [],
   "source": [
    "# create the VQC instance\n",
    "vqc = VQC(\n",
    "    sampler=sampler,\n",
    "    feature_map=feature_map,\n",
    "    ansatz=ansatz,\n",
    "    optimizer=optimizer,\n",
    "    callback=callback_graph\n",
    ")"
   ]
  },
  {
   "cell_type": "markdown",
   "metadata": {},
   "source": [
    "### Model Fit on Simulator"
   ]
  },
  {
   "cell_type": "code",
   "execution_count": null,
   "metadata": {},
   "outputs": [],
   "source": [
    "# get training and testing data\n",
    "X_train, X_test, y_train, y_test = dataset.preprocess_data()"
   ]
  },
  {
   "cell_type": "code",
   "execution_count": 1,
   "metadata": {},
   "outputs": [
    {
     "ename": "NameError",
     "evalue": "name 'time' is not defined",
     "output_type": "error",
     "traceback": [
      "\u001b[0;31m---------------------------------------------------------------------------\u001b[0m",
      "\u001b[0;31mNameError\u001b[0m                                 Traceback (most recent call last)",
      "Cell \u001b[0;32mIn[1], line 2\u001b[0m\n\u001b[1;32m      1\u001b[0m \u001b[38;5;66;03m# time how long it takes to train\u001b[39;00m\n\u001b[0;32m----> 2\u001b[0m start \u001b[38;5;241m=\u001b[39m \u001b[43mtime\u001b[49m\u001b[38;5;241m.\u001b[39mtime()\n\u001b[1;32m      4\u001b[0m \u001b[38;5;66;03m# fit the model\u001b[39;00m\n\u001b[1;32m      5\u001b[0m vqc \u001b[38;5;241m=\u001b[39m vqc\u001b[38;5;241m.\u001b[39mfit(X_train, y_train)\n",
      "\u001b[0;31mNameError\u001b[0m: name 'time' is not defined"
     ]
    }
   ],
   "source": [
    "# time how long it takes to train\n",
    "start = time.time()\n",
    "\n",
    "# fit the model\n",
    "vqc = vqc.fit(X_train, y_train)\n",
    "\n",
    "end = time.time()\n",
    "elapsed = end - start\n",
    "\n",
    "# print training time\n",
    "print(f\"Training Time: {round(elapsed)} secs\")\n",
    "\n",
    "# print objective func val at each iteration\n",
    "print(objective_func_vals)"
   ]
  },
  {
   "cell_type": "markdown",
   "metadata": {},
   "source": [
    "### VQC Evaluation"
   ]
  },
  {
   "cell_type": "code",
   "execution_count": null,
   "metadata": {},
   "outputs": [],
   "source": [
    "# reset rcParams to default\n",
    "plt.rcParams[\"figure.figsize\"] = (6,4)"
   ]
  },
  {
   "cell_type": "code",
   "execution_count": null,
   "metadata": {},
   "outputs": [],
   "source": [
    "train_score = vqc.score(X_train, y_train)\n",
    "test_score = vqc.score(X_test, y_test)\n",
    "train_score, test_score"
   ]
  },
  {
   "cell_type": "code",
   "execution_count": null,
   "metadata": {},
   "outputs": [],
   "source": [
    "# predict\n",
    "y_pred = vqc.predict(X_test)"
   ]
  },
  {
   "cell_type": "code",
   "execution_count": null,
   "metadata": {},
   "outputs": [],
   "source": [
    "# confusion matrix\n",
    "def conf_matrix(y_test, y_pred):\n",
    "    plt.figure()\n",
    "    cm = confusion_matrix(y_test, y_pred)\n",
    "    heatmap = sns.heatmap(cm, annot=True, fmt='d', cmap='Blues', xticklabels=['Class 0', 'Class 1'], yticklabels=['Class 0', 'Class 1'])\n",
    "    plt.title('Confusion Matrix: VQC')\n",
    "    plt.xlabel('Predicted Label')\n",
    "    plt.ylabel('True Label')\n",
    "    plt.show()"
   ]
  },
  {
   "cell_type": "code",
   "execution_count": null,
   "metadata": {},
   "outputs": [],
   "source": [
    "# accuracy score\n",
    "accuracy = accuracy_score(y_test, y_pred)"
   ]
  },
  {
   "cell_type": "code",
   "execution_count": null,
   "metadata": {},
   "outputs": [],
   "source": [
    "# classification report\n",
    "report = classification_report(y_test, y_pred, zero_division=0, output_dict=False)"
   ]
  },
  {
   "cell_type": "code",
   "execution_count": null,
   "metadata": {},
   "outputs": [],
   "source": [
    "# print metrics\n",
    "print(f'Accuracy: {accuracy}')\n",
    "print(f'Classification Report:\\n{report}')\n",
    "conf_matrix(y_test, y_pred)"
   ]
  },
  {
   "cell_type": "markdown",
   "metadata": {},
   "source": [
    "### Save Model"
   ]
  },
  {
   "cell_type": "code",
   "execution_count": null,
   "metadata": {},
   "outputs": [],
   "source": [
    "# path to save model\n",
    "model_path = os.path.join(os.getcwd(), '..', '..', 'models', 'qml-simulator')\n",
    "\n",
    "# create model directory if it doesn't exist\n",
    "os.makedirs(model_path, exist_ok=True)\n",
    "\n",
    "# create model file\n",
    "model_file = os.path.join(model_path, 'vqc_init.model')\n",
    "\n",
    "# save model\n",
    "vqc.save(model_file)\n",
    "print(f'Model saved to {model_file}')"
   ]
  },
  {
   "cell_type": "markdown",
   "metadata": {},
   "source": [
    "### Applying Explainability Techniques\n",
    "##### **Pre-Prediciton**\n",
    "1) **Feature Map**\n",
    "    - Perturbation Analysis\n",
    "    - Leave-One-Out (LOO) Analysis\n",
    "    - Permutation Importance\n",
    "    - SHAP (Feature Encoding)\n",
    "\n",
    "    \n",
    "##### **Post-Prediction**\n",
    "1) **Ansatz (Variational Circuit)**\n",
    "    - Parameter Sensitivity Analysis\n",
    "    - Quantum Fisher Information (QFI)\n",
    "    - Gradient-Based Analysis\n",
    "    - Circuit Visualisation\n",
    "    - SHAP (Parameters)\n",
    "      - Applying importance scores to asses contribution to \n",
    "2) **Measurement + Post Processing**\n",
    "    - SHAP (Predicitons)\n",
    "    - ALE\n",
    "    - Probability Attribution Analysis\n",
    "3) **Cost**\n",
    "    - Loss Contribution Analysis\n",
    "    - Perturbation Sensitivity on Loss\n",
    "    - Quantum-Classical Hybrid Loop Analysis"
   ]
  }
 ],
 "metadata": {
  "kernelspec": {
   "display_name": "qiskit-fyp",
   "language": "python",
   "name": "python3"
  },
  "language_info": {
   "codemirror_mode": {
    "name": "ipython",
    "version": 3
   },
   "file_extension": ".py",
   "mimetype": "text/x-python",
   "name": "python",
   "nbconvert_exporter": "python",
   "pygments_lexer": "ipython3",
   "version": "3.13.0"
  }
 },
 "nbformat": 4,
 "nbformat_minor": 2
}
