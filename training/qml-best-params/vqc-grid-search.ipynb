{
 "cells": [
  {
   "cell_type": "markdown",
   "metadata": {},
   "source": [
    "# Variational Quantum Classifier (VQC) Best Parameters\n",
    "\n",
    "This notebook will explore the the options for the best parameters to use for the VQC on the Pima Indians Dataset"
   ]
  },
  {
   "cell_type": "code",
   "execution_count": 1,
   "metadata": {},
   "outputs": [],
   "source": [
    "%load_ext autoreload\n",
    "%autoreload 2\n",
    "%matplotlib inline"
   ]
  },
  {
   "cell_type": "markdown",
   "metadata": {},
   "source": [
    "### Imports"
   ]
  },
  {
   "cell_type": "code",
   "execution_count": 2,
   "metadata": {},
   "outputs": [],
   "source": [
    "# imports\n",
    "import os\n",
    "import time\n",
    "\n",
    "from sklearn.utils import shuffle\n",
    "from imblearn.over_sampling import SMOTE\n",
    "\n",
    "# import data class\n",
    "from utilities.dataset_utils import DiabetesData\n",
    "\n",
    "# import metrics for evaluation\n",
    "from sklearn.metrics import accuracy_score\n",
    "from sklearn.metrics import precision_recall_fscore_support\n",
    "\n",
    "# qiskit imports\n",
    "# circuit transpiler\n",
    "from qiskit import transpile\n",
    "\n",
    "# algorithm\n",
    "from qiskit_machine_learning.algorithms.classifiers import VQC\n",
    "\n",
    "# feature map\n",
    "from qiskit.circuit.library import z_feature_map\n",
    "from qiskit.circuit.library import zz_feature_map\n",
    "\n",
    "# ansatz\n",
    "from qiskit.circuit.library import real_amplitudes\n",
    "from qiskit.circuit.library import efficient_su2\n",
    "\n",
    "# optimizer\n",
    "from qiskit_machine_learning.optimizers import COBYLA\n",
    "\n",
    "# simulator\n",
    "from qiskit_aer import AerSimulator\n",
    "from qiskit_aer.primitives import SamplerV2 as Sampler"
   ]
  },
  {
   "cell_type": "code",
   "execution_count": 3,
   "metadata": {},
   "outputs": [],
   "source": [
    "# path to diabetes.csv\n",
    "path = os.path.join(os.getcwd(), '..', '..', 'utilities', 'diabetes.csv')\n",
    "# load dataset class\n",
    "dataset = DiabetesData(path)"
   ]
  },
  {
   "cell_type": "code",
   "execution_count": 4,
   "metadata": {},
   "outputs": [],
   "source": [
    "# setup backend simulator\n",
    "backend = AerSimulator()\n",
    "backend.set_options(max_parallel_threads=os.cpu_count(), method='automatic')\n",
    "\n",
    "# sampler\n",
    "sampler = Sampler.from_backend(backend)"
   ]
  },
  {
   "cell_type": "code",
   "execution_count": 5,
   "metadata": {},
   "outputs": [],
   "source": [
    "# define a list for different entanglement patters\n",
    "entanglement_patterns = [\n",
    "    'full',\n",
    "    'linear'\n",
    "]"
   ]
  },
  {
   "cell_type": "code",
   "execution_count": 6,
   "metadata": {},
   "outputs": [],
   "source": [
    "# define list for different ansatze as well as reps\n",
    "ansatze = [\n",
    "    'su2',\n",
    "    'real_amp'\n",
    "]\n",
    "\n",
    "def build_ansatz(name, reps, entanglement):\n",
    "    if name==\"su2\":\n",
    "        return transpile(efficient_su2(num_qubits=dataset.get_num_features(), reps=reps, entanglement=entanglement), backend=backend, optimization_level=3)\n",
    "    else:\n",
    "        return transpile(real_amplitudes(num_qubits=dataset.get_num_features(), reps=reps, entanglement=entanglement), backend=backend, optimization_level=3)"
   ]
  },
  {
   "cell_type": "code",
   "execution_count": 7,
   "metadata": {},
   "outputs": [],
   "source": [
    "# list of different feature maps\n",
    "feature_maps = [\n",
    "    'z',\n",
    "    'zz'\n",
    "]\n",
    "\n",
    "def build_feature_map(name, reps, entanglement):\n",
    "    if name=='z':\n",
    "        return transpile(z_feature_map(feature_dimension=dataset.get_num_features(), reps=reps, entanglement=entanglement), backend=backend, optimization_level=3)\n",
    "    else:\n",
    "        return transpile(zz_feature_map(feature_dimension=dataset.get_num_features(), reps=reps, entanglement=entanglement), backend=backend, optimization_level=3)"
   ]
  },
  {
   "cell_type": "markdown",
   "metadata": {},
   "source": [
    "### VQC Building\n",
    "\n",
    "Below is a function that will be iteratively called with multiple different parameters for training the VQC, to find the most optimal combination"
   ]
  },
  {
   "cell_type": "code",
   "execution_count": 8,
   "metadata": {},
   "outputs": [],
   "source": [
    "def build_vqc(ansatz, feature_map, optimizer):\n",
    "    vqc =  VQC(\n",
    "        sampler=sampler,\n",
    "        feature_map=feature_map,\n",
    "        ansatz=ansatz,\n",
    "        optimizer=optimizer\n",
    "    )\n",
    "    return vqc"
   ]
  },
  {
   "cell_type": "markdown",
   "metadata": {},
   "source": [
    "Below function find the best combination of parameters for the VQC, as well as different entanglement patterns"
   ]
  },
  {
   "cell_type": "code",
   "execution_count": 9,
   "metadata": {},
   "outputs": [],
   "source": [
    "def combo_builder(ansatze: list, feature_maps: list, optimizer, entanglement_patterns: list, X_train, y_train, X_test, y_test):\n",
    "    # list to store results\n",
    "    results = []\n",
    "    # combo counter\n",
    "    combo = 0\n",
    "    # rep ranges feature map\n",
    "    for i in range(1, 4):\n",
    "        feature_map_reps = i+1\n",
    "        # rep ranges ansatz\n",
    "        for j in range(1, 4):\n",
    "            ansatz_reps = j+1\n",
    "            # itereate over different ansatze\n",
    "            for ansatz_name in ansatze:\n",
    "                # iterate over different feature maps\n",
    "                for feature_map_name in feature_maps:\n",
    "                    for fm_pattern in entanglement_patterns:\n",
    "                        for a_pattern in entanglement_patterns:\n",
    "                            # build ansatz with given params\n",
    "                            ansatz = build_ansatz(ansatz_name, ansatz_reps, a_pattern)\n",
    "                            # build feature map with given params\n",
    "                            feature_map = build_feature_map(feature_map_name, feature_map_reps, fm_pattern)\n",
    "                            combo += 1\n",
    "                            \n",
    "                            # print combo information\n",
    "                            print(f\"=====COMBINATION: {combo}=====\\nAnsatz: {ansatz.name}\\nAnsatz Reps: {ansatz_reps}\\nFeature Map: {feature_map.name}\\nFeature Map Reps: {feature_map_reps}\\nOptimizer: {type(optimizer).__name__}\\n\")\n",
    "                            \n",
    "                            # try parameter combo\n",
    "                            test_vqc = build_vqc(ansatz, feature_map, optimizer)\n",
    "\n",
    "                            # time how long it takes to train\n",
    "                            start = time.time()\n",
    "\n",
    "                            # fit the model\n",
    "                            test_vqc = test_vqc.fit(X_train, y_train)\n",
    "\n",
    "                            end = time.time()\n",
    "                            elapsed = end - start\n",
    "                            \n",
    "                            # sleep to avoid crashing\n",
    "                            time.sleep(10)\n",
    "                            \n",
    "                            train_score = test_vqc.score(X_train, y_train)\n",
    "                            test_score = test_vqc.score(X_test, y_test)\n",
    "                            \n",
    "                            # sleep to avoid crashing\n",
    "                            time.sleep(10)\n",
    "                            \n",
    "                            # define scores for results\n",
    "                            y_pred = test_vqc.predict(X_test)\n",
    "                            accuracy = accuracy_score(y_test, y_pred)\n",
    "                            p_r_f1_s = precision_recall_fscore_support(y_test, y_pred)\n",
    "                            print(f\"ACCURACY: {accuracy}\")\n",
    "                            print(f\"P R F1 S: {p_r_f1_s}\")\n",
    "\n",
    "                            data = {\n",
    "                                \"combo_num\": combo,\n",
    "                                \"ansatz\": ansatz.name,\n",
    "                                \"ansatz_reps\": ansatz_reps,\n",
    "                                \"feature_map\": feature_map.name,\n",
    "                                \"fm_reps\": feature_map_reps,\n",
    "                                \"optmizer\": type(optimizer).__name__,\n",
    "                                \"train_time\": elapsed,\n",
    "                                \"train_score\": train_score,\n",
    "                                \"test_score\": test_score,\n",
    "                                \"accuracy\": accuracy,\n",
    "                                \"p_r_f1_s\": p_r_f1_s\n",
    "                            }\n",
    "                        \n",
    "                            results.append(data)\n",
    "                            print(\"=====COMBINATION COMPLETED=====\")\n",
    "                            \n",
    "                            # sleep to avoid crashing\n",
    "                            time.sleep(10)\n",
    "    return results"
   ]
  },
  {
   "cell_type": "markdown",
   "metadata": {},
   "source": [
    "### Model Fit for Best Params"
   ]
  },
  {
   "cell_type": "markdown",
   "metadata": {},
   "source": [
    "Ranged preprocessing used between (-$\\pi$, $\\pi$) to allow full exploration of the bloch sphere."
   ]
  },
  {
   "cell_type": "code",
   "execution_count": 10,
   "metadata": {},
   "outputs": [],
   "source": [
    "# get training and testing data\n",
    "X_train, X_test, y_train, y_test = dataset.preprocess_data_ranged()"
   ]
  },
  {
   "cell_type": "code",
   "execution_count": 11,
   "metadata": {},
   "outputs": [],
   "source": [
    "# apply smote to help with class imbalance\n",
    "# in testing it proved to improve model performance on unseen data\n",
    "smote = SMOTE(random_state=42)\n",
    "X_train_balanced, y_train_balanced = smote.fit_resample(X_train, y_train)\n",
    "X_train_balanced, y_train_balanced = shuffle(X_train_balanced, y_train_balanced, random_state=42)"
   ]
  },
  {
   "cell_type": "code",
   "execution_count": 12,
   "metadata": {},
   "outputs": [
    {
     "name": "stderr",
     "output_type": "stream",
     "text": [
      "No gradient function provided, creating a gradient function. If your Sampler requires transpilation, please provide a pass manager.\n"
     ]
    },
    {
     "name": "stdout",
     "output_type": "stream",
     "text": [
      "=====COMBINATION: 1=====\n",
      "Ansatz: EfficientSU2\n",
      "Ansatz Reps: 2\n",
      "Feature Map: ZFeatureMap\n",
      "Feature Map Reps: 2\n",
      "Optimizer: COBYLA\n",
      "\n",
      "ACCURACY: 0.5757575757575758\n",
      "P R F1 S: (array([0.72807018, 0.42735043]), array([0.55333333, 0.61728395]), array([0.62878788, 0.50505051]), array([150,  81]))\n",
      "=====COMBINATION COMPLETED=====\n"
     ]
    },
    {
     "name": "stderr",
     "output_type": "stream",
     "text": [
      "No gradient function provided, creating a gradient function. If your Sampler requires transpilation, please provide a pass manager.\n"
     ]
    },
    {
     "name": "stdout",
     "output_type": "stream",
     "text": [
      "=====COMBINATION: 2=====\n",
      "Ansatz: EfficientSU2\n",
      "Ansatz Reps: 2\n",
      "Feature Map: ZFeatureMap\n",
      "Feature Map Reps: 2\n",
      "Optimizer: COBYLA\n",
      "\n",
      "ACCURACY: 0.5930735930735931\n",
      "P R F1 S: (array([0.7       , 0.42857143]), array([0.65333333, 0.48148148]), array([0.67586207, 0.45348837]), array([150,  81]))\n",
      "=====COMBINATION COMPLETED=====\n"
     ]
    },
    {
     "name": "stderr",
     "output_type": "stream",
     "text": [
      "No gradient function provided, creating a gradient function. If your Sampler requires transpilation, please provide a pass manager.\n"
     ]
    },
    {
     "name": "stdout",
     "output_type": "stream",
     "text": [
      "=====COMBINATION: 3=====\n",
      "Ansatz: EfficientSU2\n",
      "Ansatz Reps: 2\n",
      "Feature Map: ZFeatureMap\n",
      "Feature Map Reps: 2\n",
      "Optimizer: COBYLA\n",
      "\n",
      "ACCURACY: 0.5800865800865801\n",
      "P R F1 S: (array([0.72268908, 0.42857143]), array([0.57333333, 0.59259259]), array([0.6394052 , 0.49740933]), array([150,  81]))\n",
      "=====COMBINATION COMPLETED=====\n"
     ]
    },
    {
     "name": "stderr",
     "output_type": "stream",
     "text": [
      "No gradient function provided, creating a gradient function. If your Sampler requires transpilation, please provide a pass manager.\n"
     ]
    },
    {
     "name": "stdout",
     "output_type": "stream",
     "text": [
      "=====COMBINATION: 4=====\n",
      "Ansatz: EfficientSU2\n",
      "Ansatz Reps: 2\n",
      "Feature Map: ZFeatureMap\n",
      "Feature Map Reps: 2\n",
      "Optimizer: COBYLA\n",
      "\n",
      "ACCURACY: 0.5974025974025974\n",
      "P R F1 S: (array([0.7080292 , 0.43617021]), array([0.64666667, 0.50617284]), array([0.67595819, 0.46857143]), array([150,  81]))\n",
      "=====COMBINATION COMPLETED=====\n"
     ]
    },
    {
     "name": "stderr",
     "output_type": "stream",
     "text": [
      "No gradient function provided, creating a gradient function. If your Sampler requires transpilation, please provide a pass manager.\n"
     ]
    },
    {
     "name": "stdout",
     "output_type": "stream",
     "text": [
      "=====COMBINATION: 5=====\n",
      "Ansatz: RealAmplitudes\n",
      "Ansatz Reps: 2\n",
      "Feature Map: ZFeatureMap\n",
      "Feature Map Reps: 2\n",
      "Optimizer: COBYLA\n",
      "\n",
      "ACCURACY: 0.5281385281385281\n",
      "P R F1 S: (array([0.65413534, 0.35714286]), array([0.58      , 0.43209877]), array([0.61484099, 0.39106145]), array([150,  81]))\n",
      "=====COMBINATION COMPLETED=====\n"
     ]
    },
    {
     "name": "stderr",
     "output_type": "stream",
     "text": [
      "No gradient function provided, creating a gradient function. If your Sampler requires transpilation, please provide a pass manager.\n"
     ]
    },
    {
     "name": "stdout",
     "output_type": "stream",
     "text": [
      "=====COMBINATION: 6=====\n",
      "Ansatz: RealAmplitudes\n",
      "Ansatz Reps: 2\n",
      "Feature Map: ZFeatureMap\n",
      "Feature Map Reps: 2\n",
      "Optimizer: COBYLA\n",
      "\n",
      "ACCURACY: 0.6060606060606061\n",
      "P R F1 S: (array([0.72180451, 0.44897959]), array([0.64      , 0.54320988]), array([0.67844523, 0.49162011]), array([150,  81]))\n",
      "=====COMBINATION COMPLETED=====\n"
     ]
    },
    {
     "name": "stderr",
     "output_type": "stream",
     "text": [
      "No gradient function provided, creating a gradient function. If your Sampler requires transpilation, please provide a pass manager.\n"
     ]
    },
    {
     "name": "stdout",
     "output_type": "stream",
     "text": [
      "=====COMBINATION: 7=====\n",
      "Ansatz: RealAmplitudes\n",
      "Ansatz Reps: 2\n",
      "Feature Map: ZFeatureMap\n",
      "Feature Map Reps: 2\n",
      "Optimizer: COBYLA\n",
      "\n",
      "ACCURACY: 0.5670995670995671\n",
      "P R F1 S: (array([0.65625   , 0.36619718]), array([0.7       , 0.32098765]), array([0.67741935, 0.34210526]), array([150,  81]))\n",
      "=====COMBINATION COMPLETED=====\n"
     ]
    },
    {
     "name": "stderr",
     "output_type": "stream",
     "text": [
      "No gradient function provided, creating a gradient function. If your Sampler requires transpilation, please provide a pass manager.\n"
     ]
    },
    {
     "name": "stdout",
     "output_type": "stream",
     "text": [
      "=====COMBINATION: 8=====\n",
      "Ansatz: RealAmplitudes\n",
      "Ansatz Reps: 2\n",
      "Feature Map: ZFeatureMap\n",
      "Feature Map Reps: 2\n",
      "Optimizer: COBYLA\n",
      "\n",
      "ACCURACY: 0.6017316017316018\n",
      "P R F1 S: (array([0.71969697, 0.44444444]), array([0.63333333, 0.54320988]), array([0.67375887, 0.48888889]), array([150,  81]))\n",
      "=====COMBINATION COMPLETED=====\n"
     ]
    },
    {
     "name": "stderr",
     "output_type": "stream",
     "text": [
      "No gradient function provided, creating a gradient function. If your Sampler requires transpilation, please provide a pass manager.\n"
     ]
    },
    {
     "name": "stdout",
     "output_type": "stream",
     "text": [
      "=====COMBINATION: 9=====\n",
      "Ansatz: EfficientSU2\n",
      "Ansatz Reps: 3\n",
      "Feature Map: ZFeatureMap\n",
      "Feature Map Reps: 2\n",
      "Optimizer: COBYLA\n",
      "\n",
      "ACCURACY: 0.5974025974025974\n",
      "P R F1 S: (array([0.68152866, 0.41891892]), array([0.71333333, 0.38271605]), array([0.6970684, 0.4      ]), array([150,  81]))\n",
      "=====COMBINATION COMPLETED=====\n"
     ]
    },
    {
     "name": "stderr",
     "output_type": "stream",
     "text": [
      "No gradient function provided, creating a gradient function. If your Sampler requires transpilation, please provide a pass manager.\n"
     ]
    },
    {
     "name": "stdout",
     "output_type": "stream",
     "text": [
      "=====COMBINATION: 10=====\n",
      "Ansatz: EfficientSU2\n",
      "Ansatz Reps: 3\n",
      "Feature Map: ZFeatureMap\n",
      "Feature Map Reps: 2\n",
      "Optimizer: COBYLA\n",
      "\n",
      "ACCURACY: 0.5974025974025974\n",
      "P R F1 S: (array([0.72440945, 0.44230769]), array([0.61333333, 0.56790123]), array([0.66425993, 0.4972973 ]), array([150,  81]))\n",
      "=====COMBINATION COMPLETED=====\n"
     ]
    },
    {
     "name": "stderr",
     "output_type": "stream",
     "text": [
      "No gradient function provided, creating a gradient function. If your Sampler requires transpilation, please provide a pass manager.\n"
     ]
    },
    {
     "name": "stdout",
     "output_type": "stream",
     "text": [
      "=====COMBINATION: 11=====\n",
      "Ansatz: EfficientSU2\n",
      "Ansatz Reps: 3\n",
      "Feature Map: ZFeatureMap\n",
      "Feature Map Reps: 2\n",
      "Optimizer: COBYLA\n",
      "\n",
      "ACCURACY: 0.5151515151515151\n",
      "P R F1 S: (array([0.62337662, 0.2987013 ]), array([0.64      , 0.28395062]), array([0.63157895, 0.29113924]), array([150,  81]))\n",
      "=====COMBINATION COMPLETED=====\n"
     ]
    },
    {
     "name": "stderr",
     "output_type": "stream",
     "text": [
      "No gradient function provided, creating a gradient function. If your Sampler requires transpilation, please provide a pass manager.\n"
     ]
    },
    {
     "name": "stdout",
     "output_type": "stream",
     "text": [
      "=====COMBINATION: 12=====\n",
      "Ansatz: EfficientSU2\n",
      "Ansatz Reps: 3\n",
      "Feature Map: ZFeatureMap\n",
      "Feature Map Reps: 2\n",
      "Optimizer: COBYLA\n",
      "\n",
      "ACCURACY: 0.5800865800865801\n",
      "P R F1 S: (array([0.70542636, 0.42156863]), array([0.60666667, 0.5308642 ]), array([0.65232975, 0.46994536]), array([150,  81]))\n",
      "=====COMBINATION COMPLETED=====\n"
     ]
    },
    {
     "name": "stderr",
     "output_type": "stream",
     "text": [
      "No gradient function provided, creating a gradient function. If your Sampler requires transpilation, please provide a pass manager.\n"
     ]
    },
    {
     "name": "stdout",
     "output_type": "stream",
     "text": [
      "=====COMBINATION: 13=====\n",
      "Ansatz: RealAmplitudes\n",
      "Ansatz Reps: 3\n",
      "Feature Map: ZFeatureMap\n",
      "Feature Map Reps: 2\n",
      "Optimizer: COBYLA\n",
      "\n",
      "ACCURACY: 0.5324675324675324\n",
      "P R F1 S: (array([0.67213115, 0.37614679]), array([0.54666667, 0.50617284]), array([0.60294118, 0.43157895]), array([150,  81]))\n",
      "=====COMBINATION COMPLETED=====\n"
     ]
    },
    {
     "name": "stderr",
     "output_type": "stream",
     "text": [
      "No gradient function provided, creating a gradient function. If your Sampler requires transpilation, please provide a pass manager.\n"
     ]
    },
    {
     "name": "stdout",
     "output_type": "stream",
     "text": [
      "=====COMBINATION: 14=====\n",
      "Ansatz: RealAmplitudes\n",
      "Ansatz Reps: 3\n",
      "Feature Map: ZFeatureMap\n",
      "Feature Map Reps: 2\n",
      "Optimizer: COBYLA\n",
      "\n",
      "ACCURACY: 0.6103896103896104\n",
      "P R F1 S: (array([0.71428571, 0.45054945]), array([0.66666667, 0.50617284]), array([0.68965517, 0.47674419]), array([150,  81]))\n",
      "=====COMBINATION COMPLETED=====\n"
     ]
    },
    {
     "name": "stderr",
     "output_type": "stream",
     "text": [
      "No gradient function provided, creating a gradient function. If your Sampler requires transpilation, please provide a pass manager.\n"
     ]
    },
    {
     "name": "stdout",
     "output_type": "stream",
     "text": [
      "=====COMBINATION: 15=====\n",
      "Ansatz: RealAmplitudes\n",
      "Ansatz Reps: 3\n",
      "Feature Map: ZFeatureMap\n",
      "Feature Map Reps: 2\n",
      "Optimizer: COBYLA\n",
      "\n",
      "ACCURACY: 0.658008658008658\n",
      "P R F1 S: (array([0.76296296, 0.51041667]), array([0.68666667, 0.60493827]), array([0.72280702, 0.55367232]), array([150,  81]))\n",
      "=====COMBINATION COMPLETED=====\n"
     ]
    },
    {
     "name": "stderr",
     "output_type": "stream",
     "text": [
      "No gradient function provided, creating a gradient function. If your Sampler requires transpilation, please provide a pass manager.\n"
     ]
    },
    {
     "name": "stdout",
     "output_type": "stream",
     "text": [
      "=====COMBINATION: 16=====\n",
      "Ansatz: RealAmplitudes\n",
      "Ansatz Reps: 3\n",
      "Feature Map: ZFeatureMap\n",
      "Feature Map Reps: 2\n",
      "Optimizer: COBYLA\n",
      "\n",
      "ACCURACY: 0.5757575757575758\n",
      "P R F1 S: (array([0.703125  , 0.41747573]), array([0.6      , 0.5308642]), array([0.64748201, 0.4673913 ]), array([150,  81]))\n",
      "=====COMBINATION COMPLETED=====\n"
     ]
    },
    {
     "name": "stderr",
     "output_type": "stream",
     "text": [
      "No gradient function provided, creating a gradient function. If your Sampler requires transpilation, please provide a pass manager.\n"
     ]
    },
    {
     "name": "stdout",
     "output_type": "stream",
     "text": [
      "=====COMBINATION: 17=====\n",
      "Ansatz: EfficientSU2\n",
      "Ansatz Reps: 4\n",
      "Feature Map: ZFeatureMap\n",
      "Feature Map Reps: 2\n",
      "Optimizer: COBYLA\n",
      "\n",
      "ACCURACY: 0.5800865800865801\n",
      "P R F1 S: (array([0.70229008, 0.42      ]), array([0.61333333, 0.51851852]), array([0.65480427, 0.4640884 ]), array([150,  81]))\n",
      "=====COMBINATION COMPLETED=====\n"
     ]
    },
    {
     "name": "stderr",
     "output_type": "stream",
     "text": [
      "No gradient function provided, creating a gradient function. If your Sampler requires transpilation, please provide a pass manager.\n"
     ]
    },
    {
     "name": "stdout",
     "output_type": "stream",
     "text": [
      "=====COMBINATION: 18=====\n",
      "Ansatz: EfficientSU2\n",
      "Ansatz Reps: 4\n",
      "Feature Map: ZFeatureMap\n",
      "Feature Map Reps: 2\n",
      "Optimizer: COBYLA\n",
      "\n",
      "ACCURACY: 0.5541125541125541\n",
      "P R F1 S: (array([0.67669173, 0.3877551 ]), array([0.6      , 0.4691358]), array([0.6360424 , 0.42458101]), array([150,  81]))\n",
      "=====COMBINATION COMPLETED=====\n"
     ]
    },
    {
     "name": "stderr",
     "output_type": "stream",
     "text": [
      "No gradient function provided, creating a gradient function. If your Sampler requires transpilation, please provide a pass manager.\n"
     ]
    },
    {
     "name": "stdout",
     "output_type": "stream",
     "text": [
      "=====COMBINATION: 19=====\n",
      "Ansatz: EfficientSU2\n",
      "Ansatz Reps: 4\n",
      "Feature Map: ZFeatureMap\n",
      "Feature Map Reps: 2\n",
      "Optimizer: COBYLA\n",
      "\n",
      "ACCURACY: 0.6277056277056277\n",
      "P R F1 S: (array([0.72222222, 0.47126437]), array([0.69333333, 0.50617284]), array([0.70748299, 0.48809524]), array([150,  81]))\n",
      "=====COMBINATION COMPLETED=====\n"
     ]
    },
    {
     "name": "stderr",
     "output_type": "stream",
     "text": [
      "No gradient function provided, creating a gradient function. If your Sampler requires transpilation, please provide a pass manager.\n"
     ]
    },
    {
     "name": "stdout",
     "output_type": "stream",
     "text": [
      "=====COMBINATION: 20=====\n",
      "Ansatz: EfficientSU2\n",
      "Ansatz Reps: 4\n",
      "Feature Map: ZFeatureMap\n",
      "Feature Map Reps: 2\n",
      "Optimizer: COBYLA\n",
      "\n",
      "ACCURACY: 0.6103896103896104\n",
      "P R F1 S: (array([0.69480519, 0.44155844]), array([0.71333333, 0.41975309]), array([0.70394737, 0.43037975]), array([150,  81]))\n",
      "=====COMBINATION COMPLETED=====\n"
     ]
    },
    {
     "name": "stderr",
     "output_type": "stream",
     "text": [
      "No gradient function provided, creating a gradient function. If your Sampler requires transpilation, please provide a pass manager.\n"
     ]
    },
    {
     "name": "stdout",
     "output_type": "stream",
     "text": [
      "=====COMBINATION: 21=====\n",
      "Ansatz: RealAmplitudes\n",
      "Ansatz Reps: 4\n",
      "Feature Map: ZFeatureMap\n",
      "Feature Map Reps: 2\n",
      "Optimizer: COBYLA\n",
      "\n",
      "ACCURACY: 0.6363636363636364\n",
      "P R F1 S: (array([0.73239437, 0.48314607]), array([0.69333333, 0.5308642 ]), array([0.71232877, 0.50588235]), array([150,  81]))\n",
      "=====COMBINATION COMPLETED=====\n"
     ]
    },
    {
     "name": "stderr",
     "output_type": "stream",
     "text": [
      "No gradient function provided, creating a gradient function. If your Sampler requires transpilation, please provide a pass manager.\n"
     ]
    },
    {
     "name": "stdout",
     "output_type": "stream",
     "text": [
      "=====COMBINATION: 22=====\n",
      "Ansatz: RealAmplitudes\n",
      "Ansatz Reps: 4\n",
      "Feature Map: ZFeatureMap\n",
      "Feature Map Reps: 2\n",
      "Optimizer: COBYLA\n",
      "\n",
      "ACCURACY: 0.5930735930735931\n",
      "P R F1 S: (array([0.70895522, 0.43298969]), array([0.63333333, 0.51851852]), array([0.66901408, 0.47191011]), array([150,  81]))\n",
      "=====COMBINATION COMPLETED=====\n"
     ]
    },
    {
     "name": "stderr",
     "output_type": "stream",
     "text": [
      "No gradient function provided, creating a gradient function. If your Sampler requires transpilation, please provide a pass manager.\n"
     ]
    },
    {
     "name": "stdout",
     "output_type": "stream",
     "text": [
      "=====COMBINATION: 23=====\n",
      "Ansatz: RealAmplitudes\n",
      "Ansatz Reps: 4\n",
      "Feature Map: ZFeatureMap\n",
      "Feature Map Reps: 2\n",
      "Optimizer: COBYLA\n",
      "\n",
      "ACCURACY: 0.5887445887445888\n",
      "P R F1 S: (array([0.67515924, 0.40540541]), array([0.70666667, 0.37037037]), array([0.69055375, 0.38709677]), array([150,  81]))\n",
      "=====COMBINATION COMPLETED=====\n"
     ]
    },
    {
     "name": "stderr",
     "output_type": "stream",
     "text": [
      "No gradient function provided, creating a gradient function. If your Sampler requires transpilation, please provide a pass manager.\n"
     ]
    },
    {
     "name": "stdout",
     "output_type": "stream",
     "text": [
      "=====COMBINATION: 24=====\n",
      "Ansatz: RealAmplitudes\n",
      "Ansatz Reps: 4\n",
      "Feature Map: ZFeatureMap\n",
      "Feature Map Reps: 2\n",
      "Optimizer: COBYLA\n",
      "\n",
      "ACCURACY: 0.6147186147186147\n",
      "P R F1 S: (array([0.74796748, 0.46296296]), array([0.61333333, 0.61728395]), array([0.67399267, 0.52910053]), array([150,  81]))\n",
      "=====COMBINATION COMPLETED=====\n"
     ]
    },
    {
     "name": "stderr",
     "output_type": "stream",
     "text": [
      "No gradient function provided, creating a gradient function. If your Sampler requires transpilation, please provide a pass manager.\n"
     ]
    },
    {
     "name": "stdout",
     "output_type": "stream",
     "text": [
      "=====COMBINATION: 25=====\n",
      "Ansatz: EfficientSU2\n",
      "Ansatz Reps: 2\n",
      "Feature Map: ZFeatureMap\n",
      "Feature Map Reps: 3\n",
      "Optimizer: COBYLA\n",
      "\n",
      "ACCURACY: 0.5627705627705628\n",
      "P R F1 S: (array([0.68992248, 0.40196078]), array([0.59333333, 0.50617284]), array([0.63799283, 0.44808743]), array([150,  81]))\n",
      "=====COMBINATION COMPLETED=====\n"
     ]
    },
    {
     "name": "stderr",
     "output_type": "stream",
     "text": [
      "No gradient function provided, creating a gradient function. If your Sampler requires transpilation, please provide a pass manager.\n"
     ]
    },
    {
     "name": "stdout",
     "output_type": "stream",
     "text": [
      "=====COMBINATION: 26=====\n",
      "Ansatz: EfficientSU2\n",
      "Ansatz Reps: 2\n",
      "Feature Map: ZFeatureMap\n",
      "Feature Map Reps: 3\n",
      "Optimizer: COBYLA\n",
      "\n",
      "ACCURACY: 0.42424242424242425\n",
      "P R F1 S: (array([0.60759494, 0.32894737]), array([0.32      , 0.61728395]), array([0.41921397, 0.42918455]), array([150,  81]))\n",
      "=====COMBINATION COMPLETED=====\n"
     ]
    },
    {
     "name": "stderr",
     "output_type": "stream",
     "text": [
      "No gradient function provided, creating a gradient function. If your Sampler requires transpilation, please provide a pass manager.\n"
     ]
    },
    {
     "name": "stdout",
     "output_type": "stream",
     "text": [
      "=====COMBINATION: 27=====\n",
      "Ansatz: EfficientSU2\n",
      "Ansatz Reps: 2\n",
      "Feature Map: ZFeatureMap\n",
      "Feature Map Reps: 3\n",
      "Optimizer: COBYLA\n",
      "\n",
      "ACCURACY: 0.48917748917748916\n",
      "P R F1 S: (array([0.69047619, 0.37414966]), array([0.38666667, 0.67901235]), array([0.4957265 , 0.48245614]), array([150,  81]))\n",
      "=====COMBINATION COMPLETED=====\n"
     ]
    },
    {
     "name": "stderr",
     "output_type": "stream",
     "text": [
      "No gradient function provided, creating a gradient function. If your Sampler requires transpilation, please provide a pass manager.\n"
     ]
    },
    {
     "name": "stdout",
     "output_type": "stream",
     "text": [
      "=====COMBINATION: 28=====\n",
      "Ansatz: EfficientSU2\n",
      "Ansatz Reps: 2\n",
      "Feature Map: ZFeatureMap\n",
      "Feature Map Reps: 3\n",
      "Optimizer: COBYLA\n",
      "\n",
      "ACCURACY: 0.5497835497835498\n",
      "P R F1 S: (array([0.71698113, 0.408     ]), array([0.50666667, 0.62962963]), array([0.59375   , 0.49514563]), array([150,  81]))\n",
      "=====COMBINATION COMPLETED=====\n"
     ]
    },
    {
     "name": "stderr",
     "output_type": "stream",
     "text": [
      "No gradient function provided, creating a gradient function. If your Sampler requires transpilation, please provide a pass manager.\n"
     ]
    },
    {
     "name": "stdout",
     "output_type": "stream",
     "text": [
      "=====COMBINATION: 29=====\n",
      "Ansatz: RealAmplitudes\n",
      "Ansatz Reps: 2\n",
      "Feature Map: ZFeatureMap\n",
      "Feature Map Reps: 3\n",
      "Optimizer: COBYLA\n",
      "\n",
      "ACCURACY: 0.5108225108225108\n",
      "P R F1 S: (array([0.69473684, 0.38235294]), array([0.44      , 0.64197531]), array([0.53877551, 0.47926267]), array([150,  81]))\n",
      "=====COMBINATION COMPLETED=====\n"
     ]
    },
    {
     "name": "stderr",
     "output_type": "stream",
     "text": [
      "No gradient function provided, creating a gradient function. If your Sampler requires transpilation, please provide a pass manager.\n"
     ]
    },
    {
     "name": "stdout",
     "output_type": "stream",
     "text": [
      "=====COMBINATION: 30=====\n",
      "Ansatz: RealAmplitudes\n",
      "Ansatz Reps: 2\n",
      "Feature Map: ZFeatureMap\n",
      "Feature Map Reps: 3\n",
      "Optimizer: COBYLA\n",
      "\n",
      "ACCURACY: 0.4199134199134199\n",
      "P R F1 S: (array([0.64814815, 0.35028249]), array([0.23333333, 0.7654321 ]), array([0.34313725, 0.48062016]), array([150,  81]))\n",
      "=====COMBINATION COMPLETED=====\n"
     ]
    },
    {
     "name": "stderr",
     "output_type": "stream",
     "text": [
      "No gradient function provided, creating a gradient function. If your Sampler requires transpilation, please provide a pass manager.\n"
     ]
    },
    {
     "name": "stdout",
     "output_type": "stream",
     "text": [
      "=====COMBINATION: 31=====\n",
      "Ansatz: RealAmplitudes\n",
      "Ansatz Reps: 2\n",
      "Feature Map: ZFeatureMap\n",
      "Feature Map Reps: 3\n",
      "Optimizer: COBYLA\n",
      "\n",
      "ACCURACY: 0.4935064935064935\n",
      "P R F1 S: (array([0.67010309, 0.36567164]), array([0.43333333, 0.60493827]), array([0.52631579, 0.45581395]), array([150,  81]))\n",
      "=====COMBINATION COMPLETED=====\n"
     ]
    },
    {
     "name": "stderr",
     "output_type": "stream",
     "text": [
      "No gradient function provided, creating a gradient function. If your Sampler requires transpilation, please provide a pass manager.\n"
     ]
    },
    {
     "name": "stdout",
     "output_type": "stream",
     "text": [
      "=====COMBINATION: 32=====\n",
      "Ansatz: RealAmplitudes\n",
      "Ansatz Reps: 2\n",
      "Feature Map: ZFeatureMap\n",
      "Feature Map Reps: 3\n",
      "Optimizer: COBYLA\n",
      "\n",
      "ACCURACY: 0.44155844155844154\n",
      "P R F1 S: (array([0.64      , 0.34615385]), array([0.32      , 0.66666667]), array([0.42666667, 0.4556962 ]), array([150,  81]))\n",
      "=====COMBINATION COMPLETED=====\n"
     ]
    },
    {
     "name": "stderr",
     "output_type": "stream",
     "text": [
      "No gradient function provided, creating a gradient function. If your Sampler requires transpilation, please provide a pass manager.\n"
     ]
    },
    {
     "name": "stdout",
     "output_type": "stream",
     "text": [
      "=====COMBINATION: 33=====\n",
      "Ansatz: EfficientSU2\n",
      "Ansatz Reps: 3\n",
      "Feature Map: ZFeatureMap\n",
      "Feature Map Reps: 3\n",
      "Optimizer: COBYLA\n",
      "\n",
      "ACCURACY: 0.5194805194805194\n",
      "P R F1 S: (array([0.72413793, 0.39583333]), array([0.42     , 0.7037037]), array([0.53164557, 0.50666667]), array([150,  81]))\n",
      "=====COMBINATION COMPLETED=====\n"
     ]
    },
    {
     "name": "stderr",
     "output_type": "stream",
     "text": [
      "No gradient function provided, creating a gradient function. If your Sampler requires transpilation, please provide a pass manager.\n"
     ]
    },
    {
     "name": "stdout",
     "output_type": "stream",
     "text": [
      "=====COMBINATION: 34=====\n",
      "Ansatz: EfficientSU2\n",
      "Ansatz Reps: 3\n",
      "Feature Map: ZFeatureMap\n",
      "Feature Map Reps: 3\n",
      "Optimizer: COBYLA\n",
      "\n",
      "ACCURACY: 0.47619047619047616\n",
      "P R F1 S: (array([0.6407767, 0.34375  ]), array([0.44      , 0.54320988]), array([0.52173913, 0.42105263]), array([150,  81]))\n",
      "=====COMBINATION COMPLETED=====\n"
     ]
    },
    {
     "name": "stderr",
     "output_type": "stream",
     "text": [
      "No gradient function provided, creating a gradient function. If your Sampler requires transpilation, please provide a pass manager.\n"
     ]
    },
    {
     "name": "stdout",
     "output_type": "stream",
     "text": [
      "=====COMBINATION: 35=====\n",
      "Ansatz: EfficientSU2\n",
      "Ansatz Reps: 3\n",
      "Feature Map: ZFeatureMap\n",
      "Feature Map Reps: 3\n",
      "Optimizer: COBYLA\n",
      "\n",
      "ACCURACY: 0.5497835497835498\n",
      "P R F1 S: (array([0.63855422, 0.32307692]), array([0.70666667, 0.25925926]), array([0.67088608, 0.28767123]), array([150,  81]))\n",
      "=====COMBINATION COMPLETED=====\n"
     ]
    },
    {
     "name": "stderr",
     "output_type": "stream",
     "text": [
      "No gradient function provided, creating a gradient function. If your Sampler requires transpilation, please provide a pass manager.\n"
     ]
    },
    {
     "name": "stdout",
     "output_type": "stream",
     "text": [
      "=====COMBINATION: 36=====\n",
      "Ansatz: EfficientSU2\n",
      "Ansatz Reps: 3\n",
      "Feature Map: ZFeatureMap\n",
      "Feature Map Reps: 3\n",
      "Optimizer: COBYLA\n",
      "\n",
      "ACCURACY: 0.45454545454545453\n",
      "P R F1 S: (array([0.62765957, 0.33576642]), array([0.39333333, 0.56790123]), array([0.48360656, 0.42201835]), array([150,  81]))\n",
      "=====COMBINATION COMPLETED=====\n"
     ]
    },
    {
     "name": "stderr",
     "output_type": "stream",
     "text": [
      "No gradient function provided, creating a gradient function. If your Sampler requires transpilation, please provide a pass manager.\n"
     ]
    },
    {
     "name": "stdout",
     "output_type": "stream",
     "text": [
      "=====COMBINATION: 37=====\n",
      "Ansatz: RealAmplitudes\n",
      "Ansatz Reps: 3\n",
      "Feature Map: ZFeatureMap\n",
      "Feature Map Reps: 3\n",
      "Optimizer: COBYLA\n",
      "\n",
      "ACCURACY: 0.5324675324675324\n",
      "P R F1 S: (array([0.68103448, 0.3826087 ]), array([0.52666667, 0.54320988]), array([0.59398496, 0.44897959]), array([150,  81]))\n",
      "=====COMBINATION COMPLETED=====\n"
     ]
    },
    {
     "name": "stderr",
     "output_type": "stream",
     "text": [
      "No gradient function provided, creating a gradient function. If your Sampler requires transpilation, please provide a pass manager.\n"
     ]
    },
    {
     "name": "stdout",
     "output_type": "stream",
     "text": [
      "=====COMBINATION: 38=====\n",
      "Ansatz: RealAmplitudes\n",
      "Ansatz Reps: 3\n",
      "Feature Map: ZFeatureMap\n",
      "Feature Map Reps: 3\n",
      "Optimizer: COBYLA\n",
      "\n",
      "ACCURACY: 0.4458874458874459\n",
      "P R F1 S: (array([0.62790698, 0.33793103]), array([0.36      , 0.60493827]), array([0.45762712, 0.43362832]), array([150,  81]))\n",
      "=====COMBINATION COMPLETED=====\n"
     ]
    },
    {
     "name": "stderr",
     "output_type": "stream",
     "text": [
      "No gradient function provided, creating a gradient function. If your Sampler requires transpilation, please provide a pass manager.\n"
     ]
    },
    {
     "name": "stdout",
     "output_type": "stream",
     "text": [
      "=====COMBINATION: 39=====\n",
      "Ansatz: RealAmplitudes\n",
      "Ansatz Reps: 3\n",
      "Feature Map: ZFeatureMap\n",
      "Feature Map Reps: 3\n",
      "Optimizer: COBYLA\n",
      "\n",
      "ACCURACY: 0.5151515151515151\n",
      "P R F1 S: (array([0.63970588, 0.33684211]), array([0.58      , 0.39506173]), array([0.60839161, 0.36363636]), array([150,  81]))\n",
      "=====COMBINATION COMPLETED=====\n"
     ]
    },
    {
     "name": "stderr",
     "output_type": "stream",
     "text": [
      "No gradient function provided, creating a gradient function. If your Sampler requires transpilation, please provide a pass manager.\n"
     ]
    },
    {
     "name": "stdout",
     "output_type": "stream",
     "text": [
      "=====COMBINATION: 40=====\n",
      "Ansatz: RealAmplitudes\n",
      "Ansatz Reps: 3\n",
      "Feature Map: ZFeatureMap\n",
      "Feature Map Reps: 3\n",
      "Optimizer: COBYLA\n",
      "\n",
      "ACCURACY: 0.5151515151515151\n",
      "P R F1 S: (array([0.70212766, 0.38686131]), array([0.44      , 0.65432099]), array([0.54098361, 0.48623853]), array([150,  81]))\n",
      "=====COMBINATION COMPLETED=====\n"
     ]
    },
    {
     "name": "stderr",
     "output_type": "stream",
     "text": [
      "No gradient function provided, creating a gradient function. If your Sampler requires transpilation, please provide a pass manager.\n"
     ]
    },
    {
     "name": "stdout",
     "output_type": "stream",
     "text": [
      "=====COMBINATION: 41=====\n",
      "Ansatz: EfficientSU2\n",
      "Ansatz Reps: 4\n",
      "Feature Map: ZFeatureMap\n",
      "Feature Map Reps: 3\n",
      "Optimizer: COBYLA\n",
      "\n",
      "ACCURACY: 0.5367965367965368\n",
      "P R F1 S: (array([0.64052288, 0.33333333]), array([0.65333333, 0.32098765]), array([0.64686469, 0.32704403]), array([150,  81]))\n",
      "=====COMBINATION COMPLETED=====\n"
     ]
    },
    {
     "name": "stderr",
     "output_type": "stream",
     "text": [
      "No gradient function provided, creating a gradient function. If your Sampler requires transpilation, please provide a pass manager.\n"
     ]
    },
    {
     "name": "stdout",
     "output_type": "stream",
     "text": [
      "=====COMBINATION: 42=====\n",
      "Ansatz: EfficientSU2\n",
      "Ansatz Reps: 4\n",
      "Feature Map: ZFeatureMap\n",
      "Feature Map Reps: 3\n",
      "Optimizer: COBYLA\n",
      "\n",
      "ACCURACY: 0.41125541125541126\n",
      "P R F1 S: (array([0.58536585, 0.31543624]), array([0.32      , 0.58024691]), array([0.4137931 , 0.40869565]), array([150,  81]))\n",
      "=====COMBINATION COMPLETED=====\n"
     ]
    },
    {
     "name": "stderr",
     "output_type": "stream",
     "text": [
      "No gradient function provided, creating a gradient function. If your Sampler requires transpilation, please provide a pass manager.\n"
     ]
    },
    {
     "name": "stdout",
     "output_type": "stream",
     "text": [
      "=====COMBINATION: 43=====\n",
      "Ansatz: EfficientSU2\n",
      "Ansatz Reps: 4\n",
      "Feature Map: ZFeatureMap\n",
      "Feature Map Reps: 3\n",
      "Optimizer: COBYLA\n",
      "\n",
      "ACCURACY: 0.48917748917748916\n",
      "P R F1 S: (array([0.75      , 0.38922156]), array([0.32      , 0.80246914]), array([0.44859813, 0.52419355]), array([150,  81]))\n",
      "=====COMBINATION COMPLETED=====\n"
     ]
    },
    {
     "name": "stderr",
     "output_type": "stream",
     "text": [
      "No gradient function provided, creating a gradient function. If your Sampler requires transpilation, please provide a pass manager.\n"
     ]
    },
    {
     "name": "stdout",
     "output_type": "stream",
     "text": [
      "=====COMBINATION: 44=====\n",
      "Ansatz: EfficientSU2\n",
      "Ansatz Reps: 4\n",
      "Feature Map: ZFeatureMap\n",
      "Feature Map Reps: 3\n",
      "Optimizer: COBYLA\n",
      "\n",
      "ACCURACY: 0.46320346320346323\n",
      "P R F1 S: (array([0.64772727, 0.34965035]), array([0.38      , 0.61728395]), array([0.4789916 , 0.44642857]), array([150,  81]))\n",
      "=====COMBINATION COMPLETED=====\n"
     ]
    },
    {
     "name": "stderr",
     "output_type": "stream",
     "text": [
      "No gradient function provided, creating a gradient function. If your Sampler requires transpilation, please provide a pass manager.\n"
     ]
    },
    {
     "name": "stdout",
     "output_type": "stream",
     "text": [
      "=====COMBINATION: 45=====\n",
      "Ansatz: RealAmplitudes\n",
      "Ansatz Reps: 4\n",
      "Feature Map: ZFeatureMap\n",
      "Feature Map Reps: 3\n",
      "Optimizer: COBYLA\n",
      "\n",
      "ACCURACY: 0.5584415584415584\n",
      "P R F1 S: (array([0.6875    , 0.39805825]), array([0.58666667, 0.50617284]), array([0.63309353, 0.44565217]), array([150,  81]))\n",
      "=====COMBINATION COMPLETED=====\n"
     ]
    },
    {
     "name": "stderr",
     "output_type": "stream",
     "text": [
      "No gradient function provided, creating a gradient function. If your Sampler requires transpilation, please provide a pass manager.\n"
     ]
    },
    {
     "name": "stdout",
     "output_type": "stream",
     "text": [
      "=====COMBINATION: 46=====\n",
      "Ansatz: RealAmplitudes\n",
      "Ansatz Reps: 4\n",
      "Feature Map: ZFeatureMap\n",
      "Feature Map Reps: 3\n",
      "Optimizer: COBYLA\n",
      "\n",
      "ACCURACY: 0.49783549783549785\n",
      "P R F1 S: (array([0.68478261, 0.37410072]), array([0.42      , 0.64197531]), array([0.52066116, 0.47272727]), array([150,  81]))\n",
      "=====COMBINATION COMPLETED=====\n"
     ]
    },
    {
     "name": "stderr",
     "output_type": "stream",
     "text": [
      "No gradient function provided, creating a gradient function. If your Sampler requires transpilation, please provide a pass manager.\n"
     ]
    },
    {
     "name": "stdout",
     "output_type": "stream",
     "text": [
      "=====COMBINATION: 47=====\n",
      "Ansatz: RealAmplitudes\n",
      "Ansatz Reps: 4\n",
      "Feature Map: ZFeatureMap\n",
      "Feature Map Reps: 3\n",
      "Optimizer: COBYLA\n",
      "\n",
      "ACCURACY: 0.5800865800865801\n",
      "P R F1 S: (array([0.70542636, 0.42156863]), array([0.60666667, 0.5308642 ]), array([0.65232975, 0.46994536]), array([150,  81]))\n",
      "=====COMBINATION COMPLETED=====\n"
     ]
    },
    {
     "name": "stderr",
     "output_type": "stream",
     "text": [
      "No gradient function provided, creating a gradient function. If your Sampler requires transpilation, please provide a pass manager.\n"
     ]
    },
    {
     "name": "stdout",
     "output_type": "stream",
     "text": [
      "=====COMBINATION: 48=====\n",
      "Ansatz: RealAmplitudes\n",
      "Ansatz Reps: 4\n",
      "Feature Map: ZFeatureMap\n",
      "Feature Map Reps: 3\n",
      "Optimizer: COBYLA\n",
      "\n",
      "ACCURACY: 0.49783549783549785\n",
      "P R F1 S: (array([0.67346939, 0.36842105]), array([0.44      , 0.60493827]), array([0.53225806, 0.45794393]), array([150,  81]))\n",
      "=====COMBINATION COMPLETED=====\n"
     ]
    },
    {
     "name": "stderr",
     "output_type": "stream",
     "text": [
      "No gradient function provided, creating a gradient function. If your Sampler requires transpilation, please provide a pass manager.\n"
     ]
    },
    {
     "name": "stdout",
     "output_type": "stream",
     "text": [
      "=====COMBINATION: 49=====\n",
      "Ansatz: EfficientSU2\n",
      "Ansatz Reps: 2\n",
      "Feature Map: ZFeatureMap\n",
      "Feature Map Reps: 4\n",
      "Optimizer: COBYLA\n",
      "\n",
      "ACCURACY: 0.5064935064935064\n",
      "P R F1 S: (array([0.62328767, 0.30588235]), array([0.60666667, 0.32098765]), array([0.61486486, 0.31325301]), array([150,  81]))\n",
      "=====COMBINATION COMPLETED=====\n"
     ]
    },
    {
     "name": "stderr",
     "output_type": "stream",
     "text": [
      "No gradient function provided, creating a gradient function. If your Sampler requires transpilation, please provide a pass manager.\n"
     ]
    },
    {
     "name": "stdout",
     "output_type": "stream",
     "text": [
      "=====COMBINATION: 50=====\n",
      "Ansatz: EfficientSU2\n",
      "Ansatz Reps: 2\n",
      "Feature Map: ZFeatureMap\n",
      "Feature Map Reps: 4\n",
      "Optimizer: COBYLA\n",
      "\n",
      "ACCURACY: 0.5324675324675324\n",
      "P R F1 S: (array([0.6640625 , 0.36893204]), array([0.56666667, 0.4691358 ]), array([0.61151079, 0.41304348]), array([150,  81]))\n",
      "=====COMBINATION COMPLETED=====\n"
     ]
    },
    {
     "name": "stderr",
     "output_type": "stream",
     "text": [
      "No gradient function provided, creating a gradient function. If your Sampler requires transpilation, please provide a pass manager.\n"
     ]
    },
    {
     "name": "stdout",
     "output_type": "stream",
     "text": [
      "=====COMBINATION: 51=====\n",
      "Ansatz: EfficientSU2\n",
      "Ansatz Reps: 2\n",
      "Feature Map: ZFeatureMap\n",
      "Feature Map Reps: 4\n",
      "Optimizer: COBYLA\n",
      "\n",
      "ACCURACY: 0.5497835497835498\n",
      "P R F1 S: (array([0.65972222, 0.36781609]), array([0.63333333, 0.39506173]), array([0.6462585 , 0.38095238]), array([150,  81]))\n",
      "=====COMBINATION COMPLETED=====\n"
     ]
    },
    {
     "name": "stderr",
     "output_type": "stream",
     "text": [
      "No gradient function provided, creating a gradient function. If your Sampler requires transpilation, please provide a pass manager.\n"
     ]
    },
    {
     "name": "stdout",
     "output_type": "stream",
     "text": [
      "=====COMBINATION: 52=====\n",
      "Ansatz: EfficientSU2\n",
      "Ansatz Reps: 2\n",
      "Feature Map: ZFeatureMap\n",
      "Feature Map Reps: 4\n",
      "Optimizer: COBYLA\n",
      "\n",
      "ACCURACY: 0.5411255411255411\n",
      "P R F1 S: (array([0.7037037 , 0.39837398]), array([0.50666667, 0.60493827]), array([0.58914729, 0.48039216]), array([150,  81]))\n",
      "=====COMBINATION COMPLETED=====\n"
     ]
    },
    {
     "name": "stderr",
     "output_type": "stream",
     "text": [
      "No gradient function provided, creating a gradient function. If your Sampler requires transpilation, please provide a pass manager.\n"
     ]
    },
    {
     "name": "stdout",
     "output_type": "stream",
     "text": [
      "=====COMBINATION: 53=====\n",
      "Ansatz: RealAmplitudes\n",
      "Ansatz Reps: 2\n",
      "Feature Map: ZFeatureMap\n",
      "Feature Map Reps: 4\n",
      "Optimizer: COBYLA\n",
      "\n",
      "ACCURACY: 0.5411255411255411\n",
      "P R F1 S: (array([0.71568627, 0.40310078]), array([0.48666667, 0.64197531]), array([0.57936508, 0.4952381 ]), array([150,  81]))\n",
      "=====COMBINATION COMPLETED=====\n"
     ]
    },
    {
     "name": "stderr",
     "output_type": "stream",
     "text": [
      "No gradient function provided, creating a gradient function. If your Sampler requires transpilation, please provide a pass manager.\n"
     ]
    },
    {
     "name": "stdout",
     "output_type": "stream",
     "text": [
      "=====COMBINATION: 54=====\n",
      "Ansatz: RealAmplitudes\n",
      "Ansatz Reps: 2\n",
      "Feature Map: ZFeatureMap\n",
      "Feature Map Reps: 4\n",
      "Optimizer: COBYLA\n",
      "\n",
      "ACCURACY: 0.5367965367965368\n",
      "P R F1 S: (array([0.69369369, 0.39166667]), array([0.51333333, 0.58024691]), array([0.59003831, 0.46766169]), array([150,  81]))\n",
      "=====COMBINATION COMPLETED=====\n"
     ]
    },
    {
     "name": "stderr",
     "output_type": "stream",
     "text": [
      "No gradient function provided, creating a gradient function. If your Sampler requires transpilation, please provide a pass manager.\n"
     ]
    },
    {
     "name": "stdout",
     "output_type": "stream",
     "text": [
      "=====COMBINATION: 55=====\n",
      "Ansatz: RealAmplitudes\n",
      "Ansatz Reps: 2\n",
      "Feature Map: ZFeatureMap\n",
      "Feature Map Reps: 4\n",
      "Optimizer: COBYLA\n",
      "\n",
      "ACCURACY: 0.5367965367965368\n",
      "P R F1 S: (array([0.65034965, 0.35227273]), array([0.62      , 0.38271605]), array([0.63481229, 0.36686391]), array([150,  81]))\n",
      "=====COMBINATION COMPLETED=====\n"
     ]
    },
    {
     "name": "stderr",
     "output_type": "stream",
     "text": [
      "No gradient function provided, creating a gradient function. If your Sampler requires transpilation, please provide a pass manager.\n"
     ]
    },
    {
     "name": "stdout",
     "output_type": "stream",
     "text": [
      "=====COMBINATION: 56=====\n",
      "Ansatz: RealAmplitudes\n",
      "Ansatz Reps: 2\n",
      "Feature Map: ZFeatureMap\n",
      "Feature Map Reps: 4\n",
      "Optimizer: COBYLA\n",
      "\n",
      "ACCURACY: 0.5324675324675324\n",
      "P R F1 S: (array([0.69444444, 0.3902439 ]), array([0.5       , 0.59259259]), array([0.58139535, 0.47058824]), array([150,  81]))\n",
      "=====COMBINATION COMPLETED=====\n"
     ]
    },
    {
     "name": "stderr",
     "output_type": "stream",
     "text": [
      "No gradient function provided, creating a gradient function. If your Sampler requires transpilation, please provide a pass manager.\n"
     ]
    },
    {
     "name": "stdout",
     "output_type": "stream",
     "text": [
      "=====COMBINATION: 57=====\n",
      "Ansatz: EfficientSU2\n",
      "Ansatz Reps: 3\n",
      "Feature Map: ZFeatureMap\n",
      "Feature Map Reps: 4\n",
      "Optimizer: COBYLA\n",
      "\n",
      "ACCURACY: 0.6233766233766234\n",
      "P R F1 S: (array([0.70860927, 0.4625    ]), array([0.71333333, 0.45679012]), array([0.71096346, 0.45962733]), array([150,  81]))\n",
      "=====COMBINATION COMPLETED=====\n"
     ]
    },
    {
     "name": "stderr",
     "output_type": "stream",
     "text": [
      "No gradient function provided, creating a gradient function. If your Sampler requires transpilation, please provide a pass manager.\n"
     ]
    },
    {
     "name": "stdout",
     "output_type": "stream",
     "text": [
      "=====COMBINATION: 58=====\n",
      "Ansatz: EfficientSU2\n",
      "Ansatz Reps: 3\n",
      "Feature Map: ZFeatureMap\n",
      "Feature Map Reps: 4\n",
      "Optimizer: COBYLA\n",
      "\n",
      "ACCURACY: 0.5411255411255411\n",
      "P R F1 S: (array([0.68333333, 0.38738739]), array([0.54666667, 0.5308642 ]), array([0.60740741, 0.44791667]), array([150,  81]))\n",
      "=====COMBINATION COMPLETED=====\n"
     ]
    },
    {
     "name": "stderr",
     "output_type": "stream",
     "text": [
      "No gradient function provided, creating a gradient function. If your Sampler requires transpilation, please provide a pass manager.\n"
     ]
    },
    {
     "name": "stdout",
     "output_type": "stream",
     "text": [
      "=====COMBINATION: 59=====\n",
      "Ansatz: EfficientSU2\n",
      "Ansatz Reps: 3\n",
      "Feature Map: ZFeatureMap\n",
      "Feature Map Reps: 4\n",
      "Optimizer: COBYLA\n",
      "\n",
      "ACCURACY: 0.5541125541125541\n",
      "P R F1 S: (array([0.71559633, 0.40983607]), array([0.52      , 0.61728395]), array([0.6023166 , 0.49261084]), array([150,  81]))\n",
      "=====COMBINATION COMPLETED=====\n"
     ]
    },
    {
     "name": "stderr",
     "output_type": "stream",
     "text": [
      "No gradient function provided, creating a gradient function. If your Sampler requires transpilation, please provide a pass manager.\n"
     ]
    },
    {
     "name": "stdout",
     "output_type": "stream",
     "text": [
      "=====COMBINATION: 60=====\n",
      "Ansatz: EfficientSU2\n",
      "Ansatz Reps: 3\n",
      "Feature Map: ZFeatureMap\n",
      "Feature Map Reps: 4\n",
      "Optimizer: COBYLA\n",
      "\n",
      "ACCURACY: 0.6060606060606061\n",
      "P R F1 S: (array([0.76576577, 0.45833333]), array([0.56666667, 0.67901235]), array([0.651341  , 0.54726368]), array([150,  81]))\n",
      "=====COMBINATION COMPLETED=====\n"
     ]
    },
    {
     "name": "stderr",
     "output_type": "stream",
     "text": [
      "No gradient function provided, creating a gradient function. If your Sampler requires transpilation, please provide a pass manager.\n"
     ]
    },
    {
     "name": "stdout",
     "output_type": "stream",
     "text": [
      "=====COMBINATION: 61=====\n",
      "Ansatz: RealAmplitudes\n",
      "Ansatz Reps: 3\n",
      "Feature Map: ZFeatureMap\n",
      "Feature Map Reps: 4\n",
      "Optimizer: COBYLA\n",
      "\n",
      "ACCURACY: 0.46320346320346323\n",
      "P R F1 S: (array([0.6547619, 0.3537415]), array([0.36666667, 0.64197531]), array([0.47008547, 0.45614035]), array([150,  81]))\n",
      "=====COMBINATION COMPLETED=====\n"
     ]
    },
    {
     "name": "stderr",
     "output_type": "stream",
     "text": [
      "No gradient function provided, creating a gradient function. If your Sampler requires transpilation, please provide a pass manager.\n"
     ]
    },
    {
     "name": "stdout",
     "output_type": "stream",
     "text": [
      "=====COMBINATION: 62=====\n",
      "Ansatz: RealAmplitudes\n",
      "Ansatz Reps: 3\n",
      "Feature Map: ZFeatureMap\n",
      "Feature Map Reps: 4\n",
      "Optimizer: COBYLA\n",
      "\n",
      "ACCURACY: 0.5930735930735931\n",
      "P R F1 S: (array([0.72580645, 0.43925234]), array([0.6       , 0.58024691]), array([0.65693431, 0.5       ]), array([150,  81]))\n",
      "=====COMBINATION COMPLETED=====\n"
     ]
    },
    {
     "name": "stderr",
     "output_type": "stream",
     "text": [
      "No gradient function provided, creating a gradient function. If your Sampler requires transpilation, please provide a pass manager.\n"
     ]
    },
    {
     "name": "stdout",
     "output_type": "stream",
     "text": [
      "=====COMBINATION: 63=====\n",
      "Ansatz: RealAmplitudes\n",
      "Ansatz Reps: 3\n",
      "Feature Map: ZFeatureMap\n",
      "Feature Map Reps: 4\n",
      "Optimizer: COBYLA\n",
      "\n",
      "ACCURACY: 0.5064935064935064\n",
      "P R F1 S: (array([0.65789474, 0.35897436]), array([0.5       , 0.51851852]), array([0.56818182, 0.42424242]), array([150,  81]))\n",
      "=====COMBINATION COMPLETED=====\n"
     ]
    },
    {
     "name": "stderr",
     "output_type": "stream",
     "text": [
      "No gradient function provided, creating a gradient function. If your Sampler requires transpilation, please provide a pass manager.\n"
     ]
    },
    {
     "name": "stdout",
     "output_type": "stream",
     "text": [
      "=====COMBINATION: 64=====\n",
      "Ansatz: RealAmplitudes\n",
      "Ansatz Reps: 3\n",
      "Feature Map: ZFeatureMap\n",
      "Feature Map Reps: 4\n",
      "Optimizer: COBYLA\n",
      "\n",
      "ACCURACY: 0.5887445887445888\n",
      "P R F1 S: (array([0.68965517, 0.41860465]), array([0.66666667, 0.44444444]), array([0.6779661 , 0.43113772]), array([150,  81]))\n",
      "=====COMBINATION COMPLETED=====\n"
     ]
    },
    {
     "name": "stderr",
     "output_type": "stream",
     "text": [
      "No gradient function provided, creating a gradient function. If your Sampler requires transpilation, please provide a pass manager.\n"
     ]
    },
    {
     "name": "stdout",
     "output_type": "stream",
     "text": [
      "=====COMBINATION: 65=====\n",
      "Ansatz: EfficientSU2\n",
      "Ansatz Reps: 4\n",
      "Feature Map: ZFeatureMap\n",
      "Feature Map Reps: 4\n",
      "Optimizer: COBYLA\n",
      "\n",
      "ACCURACY: 0.5151515151515151\n",
      "P R F1 S: (array([0.69      , 0.38167939]), array([0.46      , 0.61728395]), array([0.552     , 0.47169811]), array([150,  81]))\n",
      "=====COMBINATION COMPLETED=====\n"
     ]
    },
    {
     "name": "stderr",
     "output_type": "stream",
     "text": [
      "No gradient function provided, creating a gradient function. If your Sampler requires transpilation, please provide a pass manager.\n"
     ]
    },
    {
     "name": "stdout",
     "output_type": "stream",
     "text": [
      "=====COMBINATION: 66=====\n",
      "Ansatz: EfficientSU2\n",
      "Ansatz Reps: 4\n",
      "Feature Map: ZFeatureMap\n",
      "Feature Map Reps: 4\n",
      "Optimizer: COBYLA\n",
      "\n",
      "ACCURACY: 0.5757575757575758\n",
      "P R F1 S: (array([0.68571429, 0.40659341]), array([0.64      , 0.45679012]), array([0.66206897, 0.43023256]), array([150,  81]))\n",
      "=====COMBINATION COMPLETED=====\n"
     ]
    },
    {
     "name": "stderr",
     "output_type": "stream",
     "text": [
      "No gradient function provided, creating a gradient function. If your Sampler requires transpilation, please provide a pass manager.\n"
     ]
    },
    {
     "name": "stdout",
     "output_type": "stream",
     "text": [
      "=====COMBINATION: 67=====\n",
      "Ansatz: EfficientSU2\n",
      "Ansatz Reps: 4\n",
      "Feature Map: ZFeatureMap\n",
      "Feature Map Reps: 4\n",
      "Optimizer: COBYLA\n",
      "\n",
      "ACCURACY: 0.47619047619047616\n",
      "P R F1 S: (array([0.63063063, 0.33333333]), array([0.46666667, 0.49382716]), array([0.53639847, 0.39800995]), array([150,  81]))\n",
      "=====COMBINATION COMPLETED=====\n"
     ]
    },
    {
     "name": "stderr",
     "output_type": "stream",
     "text": [
      "No gradient function provided, creating a gradient function. If your Sampler requires transpilation, please provide a pass manager.\n"
     ]
    },
    {
     "name": "stdout",
     "output_type": "stream",
     "text": [
      "=====COMBINATION: 68=====\n",
      "Ansatz: EfficientSU2\n",
      "Ansatz Reps: 4\n",
      "Feature Map: ZFeatureMap\n",
      "Feature Map Reps: 4\n",
      "Optimizer: COBYLA\n",
      "\n",
      "ACCURACY: 0.6233766233766234\n",
      "P R F1 S: (array([0.72340426, 0.46666667]), array([0.68      , 0.51851852]), array([0.70103093, 0.49122807]), array([150,  81]))\n",
      "=====COMBINATION COMPLETED=====\n"
     ]
    },
    {
     "name": "stderr",
     "output_type": "stream",
     "text": [
      "No gradient function provided, creating a gradient function. If your Sampler requires transpilation, please provide a pass manager.\n"
     ]
    },
    {
     "name": "stdout",
     "output_type": "stream",
     "text": [
      "=====COMBINATION: 69=====\n",
      "Ansatz: RealAmplitudes\n",
      "Ansatz Reps: 4\n",
      "Feature Map: ZFeatureMap\n",
      "Feature Map Reps: 4\n",
      "Optimizer: COBYLA\n",
      "\n",
      "ACCURACY: 0.5194805194805194\n",
      "P R F1 S: (array([0.70103093, 0.3880597 ]), array([0.45333333, 0.64197531]), array([0.55060729, 0.48372093]), array([150,  81]))\n",
      "=====COMBINATION COMPLETED=====\n"
     ]
    },
    {
     "name": "stderr",
     "output_type": "stream",
     "text": [
      "No gradient function provided, creating a gradient function. If your Sampler requires transpilation, please provide a pass manager.\n"
     ]
    },
    {
     "name": "stdout",
     "output_type": "stream",
     "text": [
      "=====COMBINATION: 70=====\n",
      "Ansatz: RealAmplitudes\n",
      "Ansatz Reps: 4\n",
      "Feature Map: ZFeatureMap\n",
      "Feature Map Reps: 4\n",
      "Optimizer: COBYLA\n",
      "\n",
      "ACCURACY: 0.5497835497835498\n",
      "P R F1 S: (array([0.70535714, 0.40336134]), array([0.52666667, 0.59259259]), array([0.60305344, 0.48      ]), array([150,  81]))\n",
      "=====COMBINATION COMPLETED=====\n"
     ]
    },
    {
     "name": "stderr",
     "output_type": "stream",
     "text": [
      "No gradient function provided, creating a gradient function. If your Sampler requires transpilation, please provide a pass manager.\n"
     ]
    },
    {
     "name": "stdout",
     "output_type": "stream",
     "text": [
      "=====COMBINATION: 71=====\n",
      "Ansatz: RealAmplitudes\n",
      "Ansatz Reps: 4\n",
      "Feature Map: ZFeatureMap\n",
      "Feature Map Reps: 4\n",
      "Optimizer: COBYLA\n",
      "\n",
      "ACCURACY: 0.5670995670995671\n",
      "P R F1 S: (array([0.66025641, 0.37333333]), array([0.68666667, 0.34567901]), array([0.67320261, 0.35897436]), array([150,  81]))\n",
      "=====COMBINATION COMPLETED=====\n"
     ]
    },
    {
     "name": "stderr",
     "output_type": "stream",
     "text": [
      "No gradient function provided, creating a gradient function. If your Sampler requires transpilation, please provide a pass manager.\n"
     ]
    },
    {
     "name": "stdout",
     "output_type": "stream",
     "text": [
      "=====COMBINATION: 72=====\n",
      "Ansatz: RealAmplitudes\n",
      "Ansatz Reps: 4\n",
      "Feature Map: ZFeatureMap\n",
      "Feature Map Reps: 4\n",
      "Optimizer: COBYLA\n",
      "\n",
      "ACCURACY: 0.5411255411255411\n",
      "P R F1 S: (array([0.67741935, 0.38317757]), array([0.56      , 0.50617284]), array([0.61313869, 0.43617021]), array([150,  81]))\n",
      "=====COMBINATION COMPLETED=====\n",
      "[{'combo_num': 1, 'ansatz': 'EfficientSU2', 'ansatz_reps': 2, 'feature_map': 'ZFeatureMap', 'fm_reps': 2, 'optmizer': 'COBYLA', 'train_time': 1972.9104430675507, 'train_score': 0.5771428571428572, 'test_score': 0.5887445887445888, 'accuracy': 0.5757575757575758, 'p_r_f1_s': (array([0.72807018, 0.42735043]), array([0.55333333, 0.61728395]), array([0.62878788, 0.50505051]), array([150,  81]))}, {'combo_num': 2, 'ansatz': 'EfficientSU2', 'ansatz_reps': 2, 'feature_map': 'ZFeatureMap', 'fm_reps': 2, 'optmizer': 'COBYLA', 'train_time': 1887.9535567760468, 'train_score': 0.6485714285714286, 'test_score': 0.5930735930735931, 'accuracy': 0.5930735930735931, 'p_r_f1_s': (array([0.7       , 0.42857143]), array([0.65333333, 0.48148148]), array([0.67586207, 0.45348837]), array([150,  81]))}, {'combo_num': 3, 'ansatz': 'EfficientSU2', 'ansatz_reps': 2, 'feature_map': 'ZFeatureMap', 'fm_reps': 2, 'optmizer': 'COBYLA', 'train_time': 1922.5225932598114, 'train_score': 0.5671428571428572, 'test_score': 0.6147186147186147, 'accuracy': 0.5800865800865801, 'p_r_f1_s': (array([0.72268908, 0.42857143]), array([0.57333333, 0.59259259]), array([0.6394052 , 0.49740933]), array([150,  81]))}, {'combo_num': 4, 'ansatz': 'EfficientSU2', 'ansatz_reps': 2, 'feature_map': 'ZFeatureMap', 'fm_reps': 2, 'optmizer': 'COBYLA', 'train_time': 2074.323314666748, 'train_score': 0.6485714285714286, 'test_score': 0.5930735930735931, 'accuracy': 0.5974025974025974, 'p_r_f1_s': (array([0.7080292 , 0.43617021]), array([0.64666667, 0.50617284]), array([0.67595819, 0.46857143]), array([150,  81]))}, {'combo_num': 5, 'ansatz': 'RealAmplitudes', 'ansatz_reps': 2, 'feature_map': 'ZFeatureMap', 'fm_reps': 2, 'optmizer': 'COBYLA', 'train_time': 1005.9862468242645, 'train_score': 0.5971428571428572, 'test_score': 0.5497835497835498, 'accuracy': 0.5281385281385281, 'p_r_f1_s': (array([0.65413534, 0.35714286]), array([0.58      , 0.43209877]), array([0.61484099, 0.39106145]), array([150,  81]))}, {'combo_num': 6, 'ansatz': 'RealAmplitudes', 'ansatz_reps': 2, 'feature_map': 'ZFeatureMap', 'fm_reps': 2, 'optmizer': 'COBYLA', 'train_time': 808.3545820713043, 'train_score': 0.6128571428571429, 'test_score': 0.5887445887445888, 'accuracy': 0.6060606060606061, 'p_r_f1_s': (array([0.72180451, 0.44897959]), array([0.64      , 0.54320988]), array([0.67844523, 0.49162011]), array([150,  81]))}, {'combo_num': 7, 'ansatz': 'RealAmplitudes', 'ansatz_reps': 2, 'feature_map': 'ZFeatureMap', 'fm_reps': 2, 'optmizer': 'COBYLA', 'train_time': 688.7678828239441, 'train_score': 0.5214285714285715, 'test_score': 0.5627705627705628, 'accuracy': 0.5670995670995671, 'p_r_f1_s': (array([0.65625   , 0.36619718]), array([0.7       , 0.32098765]), array([0.67741935, 0.34210526]), array([150,  81]))}, {'combo_num': 8, 'ansatz': 'RealAmplitudes', 'ansatz_reps': 2, 'feature_map': 'ZFeatureMap', 'fm_reps': 2, 'optmizer': 'COBYLA', 'train_time': 939.6806724071503, 'train_score': 0.62, 'test_score': 0.6060606060606061, 'accuracy': 0.6017316017316018, 'p_r_f1_s': (array([0.71969697, 0.44444444]), array([0.63333333, 0.54320988]), array([0.67375887, 0.48888889]), array([150,  81]))}, {'combo_num': 9, 'ansatz': 'EfficientSU2', 'ansatz_reps': 3, 'feature_map': 'ZFeatureMap', 'fm_reps': 2, 'optmizer': 'COBYLA', 'train_time': 2574.4936356544495, 'train_score': 0.6242857142857143, 'test_score': 0.5800865800865801, 'accuracy': 0.5974025974025974, 'p_r_f1_s': (array([0.68152866, 0.41891892]), array([0.71333333, 0.38271605]), array([0.6970684, 0.4      ]), array([150,  81]))}, {'combo_num': 10, 'ansatz': 'EfficientSU2', 'ansatz_reps': 3, 'feature_map': 'ZFeatureMap', 'fm_reps': 2, 'optmizer': 'COBYLA', 'train_time': 2312.0457224845886, 'train_score': 0.6442857142857142, 'test_score': 0.6103896103896104, 'accuracy': 0.5974025974025974, 'p_r_f1_s': (array([0.72440945, 0.44230769]), array([0.61333333, 0.56790123]), array([0.66425993, 0.4972973 ]), array([150,  81]))}, {'combo_num': 11, 'ansatz': 'EfficientSU2', 'ansatz_reps': 3, 'feature_map': 'ZFeatureMap', 'fm_reps': 2, 'optmizer': 'COBYLA', 'train_time': 2554.862893819809, 'train_score': 0.5214285714285715, 'test_score': 0.48917748917748916, 'accuracy': 0.5151515151515151, 'p_r_f1_s': (array([0.62337662, 0.2987013 ]), array([0.64      , 0.28395062]), array([0.63157895, 0.29113924]), array([150,  81]))}, {'combo_num': 12, 'ansatz': 'EfficientSU2', 'ansatz_reps': 3, 'feature_map': 'ZFeatureMap', 'fm_reps': 2, 'optmizer': 'COBYLA', 'train_time': 2330.020822763443, 'train_score': 0.6157142857142858, 'test_score': 0.5844155844155844, 'accuracy': 0.5800865800865801, 'p_r_f1_s': (array([0.70542636, 0.42156863]), array([0.60666667, 0.5308642 ]), array([0.65232975, 0.46994536]), array([150,  81]))}, {'combo_num': 13, 'ansatz': 'RealAmplitudes', 'ansatz_reps': 3, 'feature_map': 'ZFeatureMap', 'fm_reps': 2, 'optmizer': 'COBYLA', 'train_time': 1220.522118806839, 'train_score': 0.5542857142857143, 'test_score': 0.5367965367965368, 'accuracy': 0.5324675324675324, 'p_r_f1_s': (array([0.67213115, 0.37614679]), array([0.54666667, 0.50617284]), array([0.60294118, 0.43157895]), array([150,  81]))}, {'combo_num': 14, 'ansatz': 'RealAmplitudes', 'ansatz_reps': 3, 'feature_map': 'ZFeatureMap', 'fm_reps': 2, 'optmizer': 'COBYLA', 'train_time': 1265.4751682281494, 'train_score': 0.61, 'test_score': 0.6233766233766234, 'accuracy': 0.6103896103896104, 'p_r_f1_s': (array([0.71428571, 0.45054945]), array([0.66666667, 0.50617284]), array([0.68965517, 0.47674419]), array([150,  81]))}, {'combo_num': 15, 'ansatz': 'RealAmplitudes', 'ansatz_reps': 3, 'feature_map': 'ZFeatureMap', 'fm_reps': 2, 'optmizer': 'COBYLA', 'train_time': 1586.695408821106, 'train_score': 0.62, 'test_score': 0.6493506493506493, 'accuracy': 0.658008658008658, 'p_r_f1_s': (array([0.76296296, 0.51041667]), array([0.68666667, 0.60493827]), array([0.72280702, 0.55367232]), array([150,  81]))}, {'combo_num': 16, 'ansatz': 'RealAmplitudes', 'ansatz_reps': 3, 'feature_map': 'ZFeatureMap', 'fm_reps': 2, 'optmizer': 'COBYLA', 'train_time': 1183.3300123214722, 'train_score': 0.6442857142857142, 'test_score': 0.5584415584415584, 'accuracy': 0.5757575757575758, 'p_r_f1_s': (array([0.703125  , 0.41747573]), array([0.6      , 0.5308642]), array([0.64748201, 0.4673913 ]), array([150,  81]))}, {'combo_num': 17, 'ansatz': 'EfficientSU2', 'ansatz_reps': 4, 'feature_map': 'ZFeatureMap', 'fm_reps': 2, 'optmizer': 'COBYLA', 'train_time': 2926.923817396164, 'train_score': 0.5857142857142857, 'test_score': 0.5930735930735931, 'accuracy': 0.5800865800865801, 'p_r_f1_s': (array([0.70229008, 0.42      ]), array([0.61333333, 0.51851852]), array([0.65480427, 0.4640884 ]), array([150,  81]))}, {'combo_num': 18, 'ansatz': 'EfficientSU2', 'ansatz_reps': 4, 'feature_map': 'ZFeatureMap', 'fm_reps': 2, 'optmizer': 'COBYLA', 'train_time': 2592.145143032074, 'train_score': 0.6228571428571429, 'test_score': 0.5627705627705628, 'accuracy': 0.5541125541125541, 'p_r_f1_s': (array([0.67669173, 0.3877551 ]), array([0.6      , 0.4691358]), array([0.6360424 , 0.42458101]), array([150,  81]))}, {'combo_num': 19, 'ansatz': 'EfficientSU2', 'ansatz_reps': 4, 'feature_map': 'ZFeatureMap', 'fm_reps': 2, 'optmizer': 'COBYLA', 'train_time': 2927.5702488422394, 'train_score': 0.5814285714285714, 'test_score': 0.6406926406926406, 'accuracy': 0.6277056277056277, 'p_r_f1_s': (array([0.72222222, 0.47126437]), array([0.69333333, 0.50617284]), array([0.70748299, 0.48809524]), array([150,  81]))}, {'combo_num': 20, 'ansatz': 'EfficientSU2', 'ansatz_reps': 4, 'feature_map': 'ZFeatureMap', 'fm_reps': 2, 'optmizer': 'COBYLA', 'train_time': 2583.754011631012, 'train_score': 0.6657142857142857, 'test_score': 0.6017316017316018, 'accuracy': 0.6103896103896104, 'p_r_f1_s': (array([0.69480519, 0.44155844]), array([0.71333333, 0.41975309]), array([0.70394737, 0.43037975]), array([150,  81]))}, {'combo_num': 21, 'ansatz': 'RealAmplitudes', 'ansatz_reps': 4, 'feature_map': 'ZFeatureMap', 'fm_reps': 2, 'optmizer': 'COBYLA', 'train_time': 1810.4314212799072, 'train_score': 0.62, 'test_score': 0.6190476190476191, 'accuracy': 0.6363636363636364, 'p_r_f1_s': (array([0.73239437, 0.48314607]), array([0.69333333, 0.5308642 ]), array([0.71232877, 0.50588235]), array([150,  81]))}, {'combo_num': 22, 'ansatz': 'RealAmplitudes', 'ansatz_reps': 4, 'feature_map': 'ZFeatureMap', 'fm_reps': 2, 'optmizer': 'COBYLA', 'train_time': 1646.272136926651, 'train_score': 0.6228571428571429, 'test_score': 0.5714285714285714, 'accuracy': 0.5930735930735931, 'p_r_f1_s': (array([0.70895522, 0.43298969]), array([0.63333333, 0.51851852]), array([0.66901408, 0.47191011]), array([150,  81]))}, {'combo_num': 23, 'ansatz': 'RealAmplitudes', 'ansatz_reps': 4, 'feature_map': 'ZFeatureMap', 'fm_reps': 2, 'optmizer': 'COBYLA', 'train_time': 1855.0542182922363, 'train_score': 0.6142857142857143, 'test_score': 0.6103896103896104, 'accuracy': 0.5887445887445888, 'p_r_f1_s': (array([0.67515924, 0.40540541]), array([0.70666667, 0.37037037]), array([0.69055375, 0.38709677]), array([150,  81]))}, {'combo_num': 24, 'ansatz': 'RealAmplitudes', 'ansatz_reps': 4, 'feature_map': 'ZFeatureMap', 'fm_reps': 2, 'optmizer': 'COBYLA', 'train_time': 1841.9171040058136, 'train_score': 0.6371428571428571, 'test_score': 0.6277056277056277, 'accuracy': 0.6147186147186147, 'p_r_f1_s': (array([0.74796748, 0.46296296]), array([0.61333333, 0.61728395]), array([0.67399267, 0.52910053]), array([150,  81]))}, {'combo_num': 25, 'ansatz': 'EfficientSU2', 'ansatz_reps': 2, 'feature_map': 'ZFeatureMap', 'fm_reps': 3, 'optmizer': 'COBYLA', 'train_time': 2261.135692834854, 'train_score': 0.6085714285714285, 'test_score': 0.5627705627705628, 'accuracy': 0.5627705627705628, 'p_r_f1_s': (array([0.68992248, 0.40196078]), array([0.59333333, 0.50617284]), array([0.63799283, 0.44808743]), array([150,  81]))}, {'combo_num': 26, 'ansatz': 'EfficientSU2', 'ansatz_reps': 2, 'feature_map': 'ZFeatureMap', 'fm_reps': 3, 'optmizer': 'COBYLA', 'train_time': 2022.3386652469635, 'train_score': 0.5842857142857143, 'test_score': 0.43722943722943725, 'accuracy': 0.42424242424242425, 'p_r_f1_s': (array([0.60759494, 0.32894737]), array([0.32      , 0.61728395]), array([0.41921397, 0.42918455]), array([150,  81]))}, {'combo_num': 27, 'ansatz': 'EfficientSU2', 'ansatz_reps': 2, 'feature_map': 'ZFeatureMap', 'fm_reps': 3, 'optmizer': 'COBYLA', 'train_time': 2203.025546312332, 'train_score': 0.5657142857142857, 'test_score': 0.49783549783549785, 'accuracy': 0.48917748917748916, 'p_r_f1_s': (array([0.69047619, 0.37414966]), array([0.38666667, 0.67901235]), array([0.4957265 , 0.48245614]), array([150,  81]))}, {'combo_num': 28, 'ansatz': 'EfficientSU2', 'ansatz_reps': 2, 'feature_map': 'ZFeatureMap', 'fm_reps': 3, 'optmizer': 'COBYLA', 'train_time': 1902.9715201854706, 'train_score': 0.59, 'test_score': 0.5281385281385281, 'accuracy': 0.5497835497835498, 'p_r_f1_s': (array([0.71698113, 0.408     ]), array([0.50666667, 0.62962963]), array([0.59375   , 0.49514563]), array([150,  81]))}, {'combo_num': 29, 'ansatz': 'RealAmplitudes', 'ansatz_reps': 2, 'feature_map': 'ZFeatureMap', 'fm_reps': 3, 'optmizer': 'COBYLA', 'train_time': 1053.300436258316, 'train_score': 0.5614285714285714, 'test_score': 0.4805194805194805, 'accuracy': 0.5108225108225108, 'p_r_f1_s': (array([0.69473684, 0.38235294]), array([0.44      , 0.64197531]), array([0.53877551, 0.47926267]), array([150,  81]))}, {'combo_num': 30, 'ansatz': 'RealAmplitudes', 'ansatz_reps': 2, 'feature_map': 'ZFeatureMap', 'fm_reps': 3, 'optmizer': 'COBYLA', 'train_time': 843.6523442268372, 'train_score': 0.53, 'test_score': 0.43722943722943725, 'accuracy': 0.4199134199134199, 'p_r_f1_s': (array([0.64814815, 0.35028249]), array([0.23333333, 0.7654321 ]), array([0.34313725, 0.48062016]), array([150,  81]))}, {'combo_num': 31, 'ansatz': 'RealAmplitudes', 'ansatz_reps': 2, 'feature_map': 'ZFeatureMap', 'fm_reps': 3, 'optmizer': 'COBYLA', 'train_time': 920.6097667217255, 'train_score': 0.5642857142857143, 'test_score': 0.5367965367965368, 'accuracy': 0.4935064935064935, 'p_r_f1_s': (array([0.67010309, 0.36567164]), array([0.43333333, 0.60493827]), array([0.52631579, 0.45581395]), array([150,  81]))}, {'combo_num': 32, 'ansatz': 'RealAmplitudes', 'ansatz_reps': 2, 'feature_map': 'ZFeatureMap', 'fm_reps': 3, 'optmizer': 'COBYLA', 'train_time': 1041.7341854572296, 'train_score': 0.5471428571428572, 'test_score': 0.43722943722943725, 'accuracy': 0.44155844155844154, 'p_r_f1_s': (array([0.64      , 0.34615385]), array([0.32      , 0.66666667]), array([0.42666667, 0.4556962 ]), array([150,  81]))}, {'combo_num': 33, 'ansatz': 'EfficientSU2', 'ansatz_reps': 3, 'feature_map': 'ZFeatureMap', 'fm_reps': 3, 'optmizer': 'COBYLA', 'train_time': 2752.561846971512, 'train_score': 0.5871428571428572, 'test_score': 0.4935064935064935, 'accuracy': 0.5194805194805194, 'p_r_f1_s': (array([0.72413793, 0.39583333]), array([0.42     , 0.7037037]), array([0.53164557, 0.50666667]), array([150,  81]))}, {'combo_num': 34, 'ansatz': 'EfficientSU2', 'ansatz_reps': 3, 'feature_map': 'ZFeatureMap', 'fm_reps': 3, 'optmizer': 'COBYLA', 'train_time': 2479.211298942566, 'train_score': 0.5585714285714286, 'test_score': 0.4805194805194805, 'accuracy': 0.47619047619047616, 'p_r_f1_s': (array([0.6407767, 0.34375  ]), array([0.44      , 0.54320988]), array([0.52173913, 0.42105263]), array([150,  81]))}, {'combo_num': 35, 'ansatz': 'EfficientSU2', 'ansatz_reps': 3, 'feature_map': 'ZFeatureMap', 'fm_reps': 3, 'optmizer': 'COBYLA', 'train_time': 2720.224986553192, 'train_score': 0.53, 'test_score': 0.5194805194805194, 'accuracy': 0.5497835497835498, 'p_r_f1_s': (array([0.63855422, 0.32307692]), array([0.70666667, 0.25925926]), array([0.67088608, 0.28767123]), array([150,  81]))}, {'combo_num': 36, 'ansatz': 'EfficientSU2', 'ansatz_reps': 3, 'feature_map': 'ZFeatureMap', 'fm_reps': 3, 'optmizer': 'COBYLA', 'train_time': 2364.1700422763824, 'train_score': 0.6085714285714285, 'test_score': 0.47619047619047616, 'accuracy': 0.45454545454545453, 'p_r_f1_s': (array([0.62765957, 0.33576642]), array([0.39333333, 0.56790123]), array([0.48360656, 0.42201835]), array([150,  81]))}, {'combo_num': 37, 'ansatz': 'RealAmplitudes', 'ansatz_reps': 3, 'feature_map': 'ZFeatureMap', 'fm_reps': 3, 'optmizer': 'COBYLA', 'train_time': 1128.6620094776154, 'train_score': 0.5642857142857143, 'test_score': 0.5324675324675324, 'accuracy': 0.5324675324675324, 'p_r_f1_s': (array([0.68103448, 0.3826087 ]), array([0.52666667, 0.54320988]), array([0.59398496, 0.44897959]), array([150,  81]))}, {'combo_num': 38, 'ansatz': 'RealAmplitudes', 'ansatz_reps': 3, 'feature_map': 'ZFeatureMap', 'fm_reps': 3, 'optmizer': 'COBYLA', 'train_time': 1540.2086126804352, 'train_score': 0.5971428571428572, 'test_score': 0.4805194805194805, 'accuracy': 0.4458874458874459, 'p_r_f1_s': (array([0.62790698, 0.33793103]), array([0.36      , 0.60493827]), array([0.45762712, 0.43362832]), array([150,  81]))}, {'combo_num': 39, 'ansatz': 'RealAmplitudes', 'ansatz_reps': 3, 'feature_map': 'ZFeatureMap', 'fm_reps': 3, 'optmizer': 'COBYLA', 'train_time': 1136.0388853549957, 'train_score': 0.5414285714285715, 'test_score': 0.5238095238095238, 'accuracy': 0.5151515151515151, 'p_r_f1_s': (array([0.63970588, 0.33684211]), array([0.58      , 0.39506173]), array([0.60839161, 0.36363636]), array([150,  81]))}, {'combo_num': 40, 'ansatz': 'RealAmplitudes', 'ansatz_reps': 3, 'feature_map': 'ZFeatureMap', 'fm_reps': 3, 'optmizer': 'COBYLA', 'train_time': 1238.6881647109985, 'train_score': 0.5857142857142857, 'test_score': 0.4935064935064935, 'accuracy': 0.5151515151515151, 'p_r_f1_s': (array([0.70212766, 0.38686131]), array([0.44      , 0.65432099]), array([0.54098361, 0.48623853]), array([150,  81]))}, {'combo_num': 41, 'ansatz': 'EfficientSU2', 'ansatz_reps': 4, 'feature_map': 'ZFeatureMap', 'fm_reps': 3, 'optmizer': 'COBYLA', 'train_time': 3051.989243745804, 'train_score': 0.5957142857142858, 'test_score': 0.5584415584415584, 'accuracy': 0.5367965367965368, 'p_r_f1_s': (array([0.64052288, 0.33333333]), array([0.65333333, 0.32098765]), array([0.64686469, 0.32704403]), array([150,  81]))}, {'combo_num': 42, 'ansatz': 'EfficientSU2', 'ansatz_reps': 4, 'feature_map': 'ZFeatureMap', 'fm_reps': 3, 'optmizer': 'COBYLA', 'train_time': 2722.8304817676544, 'train_score': 0.5871428571428572, 'test_score': 0.4329004329004329, 'accuracy': 0.41125541125541126, 'p_r_f1_s': (array([0.58536585, 0.31543624]), array([0.32      , 0.58024691]), array([0.4137931 , 0.40869565]), array([150,  81]))}, {'combo_num': 43, 'ansatz': 'EfficientSU2', 'ansatz_reps': 4, 'feature_map': 'ZFeatureMap', 'fm_reps': 3, 'optmizer': 'COBYLA', 'train_time': 3075.6706898212433, 'train_score': 0.5785714285714286, 'test_score': 0.5194805194805194, 'accuracy': 0.48917748917748916, 'p_r_f1_s': (array([0.75      , 0.38922156]), array([0.32      , 0.80246914]), array([0.44859813, 0.52419355]), array([150,  81]))}, {'combo_num': 44, 'ansatz': 'EfficientSU2', 'ansatz_reps': 4, 'feature_map': 'ZFeatureMap', 'fm_reps': 3, 'optmizer': 'COBYLA', 'train_time': 2723.673599720001, 'train_score': 0.5514285714285714, 'test_score': 0.4458874458874459, 'accuracy': 0.46320346320346323, 'p_r_f1_s': (array([0.64772727, 0.34965035]), array([0.38      , 0.61728395]), array([0.4789916 , 0.44642857]), array([150,  81]))}, {'combo_num': 45, 'ansatz': 'RealAmplitudes', 'ansatz_reps': 4, 'feature_map': 'ZFeatureMap', 'fm_reps': 3, 'optmizer': 'COBYLA', 'train_time': 2110.4371683597565, 'train_score': 0.6242857142857143, 'test_score': 0.5411255411255411, 'accuracy': 0.5584415584415584, 'p_r_f1_s': (array([0.6875    , 0.39805825]), array([0.58666667, 0.50617284]), array([0.63309353, 0.44565217]), array([150,  81]))}, {'combo_num': 46, 'ansatz': 'RealAmplitudes', 'ansatz_reps': 4, 'feature_map': 'ZFeatureMap', 'fm_reps': 3, 'optmizer': 'COBYLA', 'train_time': 1723.8051619529724, 'train_score': 0.5514285714285714, 'test_score': 0.4935064935064935, 'accuracy': 0.49783549783549785, 'p_r_f1_s': (array([0.68478261, 0.37410072]), array([0.42      , 0.64197531]), array([0.52066116, 0.47272727]), array([150,  81]))}, {'combo_num': 47, 'ansatz': 'RealAmplitudes', 'ansatz_reps': 4, 'feature_map': 'ZFeatureMap', 'fm_reps': 3, 'optmizer': 'COBYLA', 'train_time': 1649.186373949051, 'train_score': 0.5771428571428572, 'test_score': 0.5887445887445888, 'accuracy': 0.5800865800865801, 'p_r_f1_s': (array([0.70542636, 0.42156863]), array([0.60666667, 0.5308642 ]), array([0.65232975, 0.46994536]), array([150,  81]))}, {'combo_num': 48, 'ansatz': 'RealAmplitudes', 'ansatz_reps': 4, 'feature_map': 'ZFeatureMap', 'fm_reps': 3, 'optmizer': 'COBYLA', 'train_time': 2014.6251969337463, 'train_score': 0.5685714285714286, 'test_score': 0.5411255411255411, 'accuracy': 0.49783549783549785, 'p_r_f1_s': (array([0.67346939, 0.36842105]), array([0.44      , 0.60493827]), array([0.53225806, 0.45794393]), array([150,  81]))}, {'combo_num': 49, 'ansatz': 'EfficientSU2', 'ansatz_reps': 2, 'feature_map': 'ZFeatureMap', 'fm_reps': 4, 'optmizer': 'COBYLA', 'train_time': 2383.599185228348, 'train_score': 0.5285714285714286, 'test_score': 0.5411255411255411, 'accuracy': 0.5064935064935064, 'p_r_f1_s': (array([0.62328767, 0.30588235]), array([0.60666667, 0.32098765]), array([0.61486486, 0.31325301]), array([150,  81]))}, {'combo_num': 50, 'ansatz': 'EfficientSU2', 'ansatz_reps': 2, 'feature_map': 'ZFeatureMap', 'fm_reps': 4, 'optmizer': 'COBYLA', 'train_time': 2375.5103459358215, 'train_score': 0.6271428571428571, 'test_score': 0.5411255411255411, 'accuracy': 0.5324675324675324, 'p_r_f1_s': (array([0.6640625 , 0.36893204]), array([0.56666667, 0.4691358 ]), array([0.61151079, 0.41304348]), array([150,  81]))}, {'combo_num': 51, 'ansatz': 'EfficientSU2', 'ansatz_reps': 2, 'feature_map': 'ZFeatureMap', 'fm_reps': 4, 'optmizer': 'COBYLA', 'train_time': 1881.4371643066406, 'train_score': 0.5085714285714286, 'test_score': 0.5281385281385281, 'accuracy': 0.5497835497835498, 'p_r_f1_s': (array([0.65972222, 0.36781609]), array([0.63333333, 0.39506173]), array([0.6462585 , 0.38095238]), array([150,  81]))}, {'combo_num': 52, 'ansatz': 'EfficientSU2', 'ansatz_reps': 2, 'feature_map': 'ZFeatureMap', 'fm_reps': 4, 'optmizer': 'COBYLA', 'train_time': 2151.1604886054993, 'train_score': 0.59, 'test_score': 0.5541125541125541, 'accuracy': 0.5411255411255411, 'p_r_f1_s': (array([0.7037037 , 0.39837398]), array([0.50666667, 0.60493827]), array([0.58914729, 0.48039216]), array([150,  81]))}, {'combo_num': 53, 'ansatz': 'RealAmplitudes', 'ansatz_reps': 2, 'feature_map': 'ZFeatureMap', 'fm_reps': 4, 'optmizer': 'COBYLA', 'train_time': 1129.5449249744415, 'train_score': 0.5714285714285714, 'test_score': 0.5584415584415584, 'accuracy': 0.5411255411255411, 'p_r_f1_s': (array([0.71568627, 0.40310078]), array([0.48666667, 0.64197531]), array([0.57936508, 0.4952381 ]), array([150,  81]))}, {'combo_num': 54, 'ansatz': 'RealAmplitudes', 'ansatz_reps': 2, 'feature_map': 'ZFeatureMap', 'fm_reps': 4, 'optmizer': 'COBYLA', 'train_time': 982.7818298339844, 'train_score': 0.5671428571428572, 'test_score': 0.5454545454545454, 'accuracy': 0.5367965367965368, 'p_r_f1_s': (array([0.69369369, 0.39166667]), array([0.51333333, 0.58024691]), array([0.59003831, 0.46766169]), array([150,  81]))}, {'combo_num': 55, 'ansatz': 'RealAmplitudes', 'ansatz_reps': 2, 'feature_map': 'ZFeatureMap', 'fm_reps': 4, 'optmizer': 'COBYLA', 'train_time': 991.6308755874634, 'train_score': 0.5157142857142857, 'test_score': 0.5541125541125541, 'accuracy': 0.5367965367965368, 'p_r_f1_s': (array([0.65034965, 0.35227273]), array([0.62      , 0.38271605]), array([0.63481229, 0.36686391]), array([150,  81]))}, {'combo_num': 56, 'ansatz': 'RealAmplitudes', 'ansatz_reps': 2, 'feature_map': 'ZFeatureMap', 'fm_reps': 4, 'optmizer': 'COBYLA', 'train_time': 1048.6085295677185, 'train_score': 0.59, 'test_score': 0.5238095238095238, 'accuracy': 0.5324675324675324, 'p_r_f1_s': (array([0.69444444, 0.3902439 ]), array([0.5       , 0.59259259]), array([0.58139535, 0.47058824]), array([150,  81]))}, {'combo_num': 57, 'ansatz': 'EfficientSU2', 'ansatz_reps': 3, 'feature_map': 'ZFeatureMap', 'fm_reps': 4, 'optmizer': 'COBYLA', 'train_time': 2884.950906276703, 'train_score': 0.6214285714285714, 'test_score': 0.6103896103896104, 'accuracy': 0.6233766233766234, 'p_r_f1_s': (array([0.70860927, 0.4625    ]), array([0.71333333, 0.45679012]), array([0.71096346, 0.45962733]), array([150,  81]))}, {'combo_num': 58, 'ansatz': 'EfficientSU2', 'ansatz_reps': 3, 'feature_map': 'ZFeatureMap', 'fm_reps': 4, 'optmizer': 'COBYLA', 'train_time': 2625.0348041057587, 'train_score': 0.5814285714285714, 'test_score': 0.5108225108225108, 'accuracy': 0.5411255411255411, 'p_r_f1_s': (array([0.68333333, 0.38738739]), array([0.54666667, 0.5308642 ]), array([0.60740741, 0.44791667]), array([150,  81]))}, {'combo_num': 59, 'ansatz': 'EfficientSU2', 'ansatz_reps': 3, 'feature_map': 'ZFeatureMap', 'fm_reps': 4, 'optmizer': 'COBYLA', 'train_time': 2744.199936389923, 'train_score': 0.5185714285714286, 'test_score': 0.5800865800865801, 'accuracy': 0.5541125541125541, 'p_r_f1_s': (array([0.71559633, 0.40983607]), array([0.52      , 0.61728395]), array([0.6023166 , 0.49261084]), array([150,  81]))}, {'combo_num': 60, 'ansatz': 'EfficientSU2', 'ansatz_reps': 3, 'feature_map': 'ZFeatureMap', 'fm_reps': 4, 'optmizer': 'COBYLA', 'train_time': 2628.430517435074, 'train_score': 0.5828571428571429, 'test_score': 0.5930735930735931, 'accuracy': 0.6060606060606061, 'p_r_f1_s': (array([0.76576577, 0.45833333]), array([0.56666667, 0.67901235]), array([0.651341  , 0.54726368]), array([150,  81]))}, {'combo_num': 61, 'ansatz': 'RealAmplitudes', 'ansatz_reps': 3, 'feature_map': 'ZFeatureMap', 'fm_reps': 4, 'optmizer': 'COBYLA', 'train_time': 1395.4027271270752, 'train_score': 0.5714285714285714, 'test_score': 0.45454545454545453, 'accuracy': 0.46320346320346323, 'p_r_f1_s': (array([0.6547619, 0.3537415]), array([0.36666667, 0.64197531]), array([0.47008547, 0.45614035]), array([150,  81]))}, {'combo_num': 62, 'ansatz': 'RealAmplitudes', 'ansatz_reps': 3, 'feature_map': 'ZFeatureMap', 'fm_reps': 4, 'optmizer': 'COBYLA', 'train_time': 1307.5560009479523, 'train_score': 0.6085714285714285, 'test_score': 0.5670995670995671, 'accuracy': 0.5930735930735931, 'p_r_f1_s': (array([0.72580645, 0.43925234]), array([0.6       , 0.58024691]), array([0.65693431, 0.5       ]), array([150,  81]))}, {'combo_num': 63, 'ansatz': 'RealAmplitudes', 'ansatz_reps': 3, 'feature_map': 'ZFeatureMap', 'fm_reps': 4, 'optmizer': 'COBYLA', 'train_time': 1275.1008670330048, 'train_score': 0.5571428571428572, 'test_score': 0.5411255411255411, 'accuracy': 0.5064935064935064, 'p_r_f1_s': (array([0.65789474, 0.35897436]), array([0.5       , 0.51851852]), array([0.56818182, 0.42424242]), array([150,  81]))}, {'combo_num': 64, 'ansatz': 'RealAmplitudes', 'ansatz_reps': 3, 'feature_map': 'ZFeatureMap', 'fm_reps': 4, 'optmizer': 'COBYLA', 'train_time': 1407.2367522716522, 'train_score': 0.5857142857142857, 'test_score': 0.6017316017316018, 'accuracy': 0.5887445887445888, 'p_r_f1_s': (array([0.68965517, 0.41860465]), array([0.66666667, 0.44444444]), array([0.6779661 , 0.43113772]), array([150,  81]))}, {'combo_num': 65, 'ansatz': 'EfficientSU2', 'ansatz_reps': 4, 'feature_map': 'ZFeatureMap', 'fm_reps': 4, 'optmizer': 'COBYLA', 'train_time': 3257.795598745346, 'train_score': 0.5428571428571428, 'test_score': 0.5194805194805194, 'accuracy': 0.5151515151515151, 'p_r_f1_s': (array([0.69      , 0.38167939]), array([0.46      , 0.61728395]), array([0.552     , 0.47169811]), array([150,  81]))}, {'combo_num': 66, 'ansatz': 'EfficientSU2', 'ansatz_reps': 4, 'feature_map': 'ZFeatureMap', 'fm_reps': 4, 'optmizer': 'COBYLA', 'train_time': 2888.4388558864594, 'train_score': 0.5757142857142857, 'test_score': 0.5800865800865801, 'accuracy': 0.5757575757575758, 'p_r_f1_s': (array([0.68571429, 0.40659341]), array([0.64      , 0.45679012]), array([0.66206897, 0.43023256]), array([150,  81]))}, {'combo_num': 67, 'ansatz': 'EfficientSU2', 'ansatz_reps': 4, 'feature_map': 'ZFeatureMap', 'fm_reps': 4, 'optmizer': 'COBYLA', 'train_time': 3258.3804166316986, 'train_score': 0.5257142857142857, 'test_score': 0.48484848484848486, 'accuracy': 0.47619047619047616, 'p_r_f1_s': (array([0.63063063, 0.33333333]), array([0.46666667, 0.49382716]), array([0.53639847, 0.39800995]), array([150,  81]))}, {'combo_num': 68, 'ansatz': 'EfficientSU2', 'ansatz_reps': 4, 'feature_map': 'ZFeatureMap', 'fm_reps': 4, 'optmizer': 'COBYLA', 'train_time': 2882.5694077014923, 'train_score': 0.6128571428571429, 'test_score': 0.6103896103896104, 'accuracy': 0.6233766233766234, 'p_r_f1_s': (array([0.72340426, 0.46666667]), array([0.68      , 0.51851852]), array([0.70103093, 0.49122807]), array([150,  81]))}, {'combo_num': 69, 'ansatz': 'RealAmplitudes', 'ansatz_reps': 4, 'feature_map': 'ZFeatureMap', 'fm_reps': 4, 'optmizer': 'COBYLA', 'train_time': 1750.4858140945435, 'train_score': 0.5628571428571428, 'test_score': 0.5454545454545454, 'accuracy': 0.5194805194805194, 'p_r_f1_s': (array([0.70103093, 0.3880597 ]), array([0.45333333, 0.64197531]), array([0.55060729, 0.48372093]), array([150,  81]))}, {'combo_num': 70, 'ansatz': 'RealAmplitudes', 'ansatz_reps': 4, 'feature_map': 'ZFeatureMap', 'fm_reps': 4, 'optmizer': 'COBYLA', 'train_time': 1838.401767730713, 'train_score': 0.6114285714285714, 'test_score': 0.5584415584415584, 'accuracy': 0.5497835497835498, 'p_r_f1_s': (array([0.70535714, 0.40336134]), array([0.52666667, 0.59259259]), array([0.60305344, 0.48      ]), array([150,  81]))}, {'combo_num': 71, 'ansatz': 'RealAmplitudes', 'ansatz_reps': 4, 'feature_map': 'ZFeatureMap', 'fm_reps': 4, 'optmizer': 'COBYLA', 'train_time': 1843.5289158821106, 'train_score': 0.55, 'test_score': 0.5627705627705628, 'accuracy': 0.5670995670995671, 'p_r_f1_s': (array([0.66025641, 0.37333333]), array([0.68666667, 0.34567901]), array([0.67320261, 0.35897436]), array([150,  81]))}, {'combo_num': 72, 'ansatz': 'RealAmplitudes', 'ansatz_reps': 4, 'feature_map': 'ZFeatureMap', 'fm_reps': 4, 'optmizer': 'COBYLA', 'train_time': 1442.3536620140076, 'train_score': 0.6042857142857143, 'test_score': 0.5541125541125541, 'accuracy': 0.5411255411255411, 'p_r_f1_s': (array([0.67741935, 0.38317757]), array([0.56      , 0.50617284]), array([0.61313869, 0.43617021]), array([150,  81]))}]\n"
     ]
    }
   ],
   "source": [
    "# split up feature maps used, as this function is very computationally intensive\n",
    "comb_z = combo_builder(ansatze, feature_maps[:1], COBYLA(maxiter=500), entanglement_patterns, X_train_balanced, y_train_balanced, X_test, y_test)\n",
    "print(comb_z)"
   ]
  },
  {
   "cell_type": "code",
   "execution_count": 13,
   "metadata": {},
   "outputs": [
    {
     "name": "stderr",
     "output_type": "stream",
     "text": [
      "No gradient function provided, creating a gradient function. If your Sampler requires transpilation, please provide a pass manager.\n"
     ]
    },
    {
     "name": "stdout",
     "output_type": "stream",
     "text": [
      "=====COMBINATION: 1=====\n",
      "Ansatz: EfficientSU2\n",
      "Ansatz Reps: 2\n",
      "Feature Map: ZZFeatureMap\n",
      "Feature Map Reps: 2\n",
      "Optimizer: COBYLA\n",
      "\n",
      "ACCURACY: 0.5064935064935064\n",
      "P R F1 S: (array([0.66071429, 0.36134454]), array([0.49333333, 0.5308642 ]), array([0.5648855, 0.43     ]), array([150,  81]))\n",
      "=====COMBINATION COMPLETED=====\n"
     ]
    },
    {
     "name": "stderr",
     "output_type": "stream",
     "text": [
      "No gradient function provided, creating a gradient function. If your Sampler requires transpilation, please provide a pass manager.\n"
     ]
    },
    {
     "name": "stdout",
     "output_type": "stream",
     "text": [
      "=====COMBINATION: 2=====\n",
      "Ansatz: EfficientSU2\n",
      "Ansatz Reps: 2\n",
      "Feature Map: ZZFeatureMap\n",
      "Feature Map Reps: 2\n",
      "Optimizer: COBYLA\n",
      "\n",
      "ACCURACY: 0.5151515151515151\n",
      "P R F1 S: (array([0.6557377 , 0.35779817]), array([0.53333333, 0.48148148]), array([0.58823529, 0.41052632]), array([150,  81]))\n",
      "=====COMBINATION COMPLETED=====\n"
     ]
    },
    {
     "name": "stderr",
     "output_type": "stream",
     "text": [
      "No gradient function provided, creating a gradient function. If your Sampler requires transpilation, please provide a pass manager.\n"
     ]
    },
    {
     "name": "stdout",
     "output_type": "stream",
     "text": [
      "=====COMBINATION: 3=====\n",
      "Ansatz: EfficientSU2\n",
      "Ansatz Reps: 2\n",
      "Feature Map: ZZFeatureMap\n",
      "Feature Map Reps: 2\n",
      "Optimizer: COBYLA\n",
      "\n",
      "ACCURACY: 0.5497835497835498\n",
      "P R F1 S: (array([0.64935065, 0.35064935]), array([0.66666667, 0.33333333]), array([0.65789474, 0.34177215]), array([150,  81]))\n",
      "=====COMBINATION COMPLETED=====\n"
     ]
    },
    {
     "name": "stderr",
     "output_type": "stream",
     "text": [
      "No gradient function provided, creating a gradient function. If your Sampler requires transpilation, please provide a pass manager.\n"
     ]
    },
    {
     "name": "stdout",
     "output_type": "stream",
     "text": [
      "=====COMBINATION: 4=====\n",
      "Ansatz: EfficientSU2\n",
      "Ansatz Reps: 2\n",
      "Feature Map: ZZFeatureMap\n",
      "Feature Map Reps: 2\n",
      "Optimizer: COBYLA\n",
      "\n",
      "ACCURACY: 0.4935064935064935\n",
      "P R F1 S: (array([0.62992126, 0.32692308]), array([0.53333333, 0.41975309]), array([0.57761733, 0.36756757]), array([150,  81]))\n",
      "=====COMBINATION COMPLETED=====\n"
     ]
    },
    {
     "name": "stderr",
     "output_type": "stream",
     "text": [
      "No gradient function provided, creating a gradient function. If your Sampler requires transpilation, please provide a pass manager.\n"
     ]
    },
    {
     "name": "stdout",
     "output_type": "stream",
     "text": [
      "=====COMBINATION: 5=====\n",
      "Ansatz: RealAmplitudes\n",
      "Ansatz Reps: 2\n",
      "Feature Map: ZZFeatureMap\n",
      "Feature Map Reps: 2\n",
      "Optimizer: COBYLA\n",
      "\n",
      "ACCURACY: 0.5108225108225108\n",
      "P R F1 S: (array([0.6728972 , 0.37096774]), array([0.48      , 0.56790123]), array([0.56031128, 0.44878049]), array([150,  81]))\n",
      "=====COMBINATION COMPLETED=====\n"
     ]
    },
    {
     "name": "stderr",
     "output_type": "stream",
     "text": [
      "No gradient function provided, creating a gradient function. If your Sampler requires transpilation, please provide a pass manager.\n"
     ]
    },
    {
     "name": "stdout",
     "output_type": "stream",
     "text": [
      "=====COMBINATION: 6=====\n",
      "Ansatz: RealAmplitudes\n",
      "Ansatz Reps: 2\n",
      "Feature Map: ZZFeatureMap\n",
      "Feature Map Reps: 2\n",
      "Optimizer: COBYLA\n",
      "\n",
      "ACCURACY: 0.4805194805194805\n",
      "P R F1 S: (array([0.63392857, 0.33613445]), array([0.47333333, 0.49382716]), array([0.54198473, 0.4       ]), array([150,  81]))\n",
      "=====COMBINATION COMPLETED=====\n"
     ]
    },
    {
     "name": "stderr",
     "output_type": "stream",
     "text": [
      "No gradient function provided, creating a gradient function. If your Sampler requires transpilation, please provide a pass manager.\n"
     ]
    },
    {
     "name": "stdout",
     "output_type": "stream",
     "text": [
      "=====COMBINATION: 7=====\n",
      "Ansatz: RealAmplitudes\n",
      "Ansatz Reps: 2\n",
      "Feature Map: ZZFeatureMap\n",
      "Feature Map Reps: 2\n",
      "Optimizer: COBYLA\n",
      "\n",
      "ACCURACY: 0.5497835497835498\n",
      "P R F1 S: (array([0.65753425, 0.36470588]), array([0.64      , 0.38271605]), array([0.64864865, 0.37349398]), array([150,  81]))\n",
      "=====COMBINATION COMPLETED=====\n"
     ]
    },
    {
     "name": "stderr",
     "output_type": "stream",
     "text": [
      "No gradient function provided, creating a gradient function. If your Sampler requires transpilation, please provide a pass manager.\n"
     ]
    },
    {
     "name": "stdout",
     "output_type": "stream",
     "text": [
      "=====COMBINATION: 8=====\n",
      "Ansatz: RealAmplitudes\n",
      "Ansatz Reps: 2\n",
      "Feature Map: ZZFeatureMap\n",
      "Feature Map Reps: 2\n",
      "Optimizer: COBYLA\n",
      "\n",
      "ACCURACY: 0.5021645021645021\n",
      "P R F1 S: (array([0.63565891, 0.33333333]), array([0.54666667, 0.41975309]), array([0.58781362, 0.3715847 ]), array([150,  81]))\n",
      "=====COMBINATION COMPLETED=====\n"
     ]
    },
    {
     "name": "stderr",
     "output_type": "stream",
     "text": [
      "No gradient function provided, creating a gradient function. If your Sampler requires transpilation, please provide a pass manager.\n"
     ]
    },
    {
     "name": "stdout",
     "output_type": "stream",
     "text": [
      "=====COMBINATION: 9=====\n",
      "Ansatz: EfficientSU2\n",
      "Ansatz Reps: 3\n",
      "Feature Map: ZZFeatureMap\n",
      "Feature Map Reps: 2\n",
      "Optimizer: COBYLA\n",
      "\n",
      "ACCURACY: 0.45454545454545453\n",
      "P R F1 S: (array([0.61111111, 0.31707317]), array([0.44      , 0.48148148]), array([0.51162791, 0.38235294]), array([150,  81]))\n",
      "=====COMBINATION COMPLETED=====\n"
     ]
    },
    {
     "name": "stderr",
     "output_type": "stream",
     "text": [
      "No gradient function provided, creating a gradient function. If your Sampler requires transpilation, please provide a pass manager.\n"
     ]
    },
    {
     "name": "stdout",
     "output_type": "stream",
     "text": [
      "=====COMBINATION: 10=====\n",
      "Ansatz: EfficientSU2\n",
      "Ansatz Reps: 3\n",
      "Feature Map: ZZFeatureMap\n",
      "Feature Map Reps: 2\n",
      "Optimizer: COBYLA\n",
      "\n",
      "ACCURACY: 0.43722943722943725\n",
      "P R F1 S: (array([0.59090909, 0.29752066]), array([0.43333333, 0.44444444]), array([0.5       , 0.35643564]), array([150,  81]))\n",
      "=====COMBINATION COMPLETED=====\n"
     ]
    },
    {
     "name": "stderr",
     "output_type": "stream",
     "text": [
      "No gradient function provided, creating a gradient function. If your Sampler requires transpilation, please provide a pass manager.\n"
     ]
    },
    {
     "name": "stdout",
     "output_type": "stream",
     "text": [
      "=====COMBINATION: 11=====\n",
      "Ansatz: EfficientSU2\n",
      "Ansatz Reps: 3\n",
      "Feature Map: ZZFeatureMap\n",
      "Feature Map Reps: 2\n",
      "Optimizer: COBYLA\n",
      "\n",
      "ACCURACY: 0.5757575757575758\n",
      "P R F1 S: (array([0.68309859, 0.40449438]), array([0.64666667, 0.44444444]), array([0.66438356, 0.42352941]), array([150,  81]))\n",
      "=====COMBINATION COMPLETED=====\n"
     ]
    },
    {
     "name": "stderr",
     "output_type": "stream",
     "text": [
      "No gradient function provided, creating a gradient function. If your Sampler requires transpilation, please provide a pass manager.\n"
     ]
    },
    {
     "name": "stdout",
     "output_type": "stream",
     "text": [
      "=====COMBINATION: 12=====\n",
      "Ansatz: EfficientSU2\n",
      "Ansatz Reps: 3\n",
      "Feature Map: ZZFeatureMap\n",
      "Feature Map Reps: 2\n",
      "Optimizer: COBYLA\n",
      "\n",
      "ACCURACY: 0.45454545454545453\n",
      "P R F1 S: (array([0.6      , 0.2972973]), array([0.48      , 0.40740741]), array([0.53333333, 0.34375   ]), array([150,  81]))\n",
      "=====COMBINATION COMPLETED=====\n"
     ]
    },
    {
     "name": "stderr",
     "output_type": "stream",
     "text": [
      "No gradient function provided, creating a gradient function. If your Sampler requires transpilation, please provide a pass manager.\n"
     ]
    },
    {
     "name": "stdout",
     "output_type": "stream",
     "text": [
      "=====COMBINATION: 13=====\n",
      "Ansatz: RealAmplitudes\n",
      "Ansatz Reps: 3\n",
      "Feature Map: ZZFeatureMap\n",
      "Feature Map Reps: 2\n",
      "Optimizer: COBYLA\n",
      "\n",
      "ACCURACY: 0.4805194805194805\n",
      "P R F1 S: (array([0.64150943, 0.344     ]), array([0.45333333, 0.5308642 ]), array([0.53125   , 0.41747573]), array([150,  81]))\n",
      "=====COMBINATION COMPLETED=====\n"
     ]
    },
    {
     "name": "stderr",
     "output_type": "stream",
     "text": [
      "No gradient function provided, creating a gradient function. If your Sampler requires transpilation, please provide a pass manager.\n"
     ]
    },
    {
     "name": "stdout",
     "output_type": "stream",
     "text": [
      "=====COMBINATION: 14=====\n",
      "Ansatz: RealAmplitudes\n",
      "Ansatz Reps: 3\n",
      "Feature Map: ZZFeatureMap\n",
      "Feature Map Reps: 2\n",
      "Optimizer: COBYLA\n",
      "\n",
      "ACCURACY: 0.5108225108225108\n",
      "P R F1 S: (array([0.66371681, 0.36440678]), array([0.5      , 0.5308642]), array([0.57034221, 0.4321608 ]), array([150,  81]))\n",
      "=====COMBINATION COMPLETED=====\n"
     ]
    },
    {
     "name": "stderr",
     "output_type": "stream",
     "text": [
      "No gradient function provided, creating a gradient function. If your Sampler requires transpilation, please provide a pass manager.\n"
     ]
    },
    {
     "name": "stdout",
     "output_type": "stream",
     "text": [
      "=====COMBINATION: 15=====\n",
      "Ansatz: RealAmplitudes\n",
      "Ansatz Reps: 3\n",
      "Feature Map: ZZFeatureMap\n",
      "Feature Map Reps: 2\n",
      "Optimizer: COBYLA\n",
      "\n",
      "ACCURACY: 0.5627705627705628\n",
      "P R F1 S: (array([0.67625899, 0.39130435]), array([0.62666667, 0.44444444]), array([0.65051903, 0.41618497]), array([150,  81]))\n",
      "=====COMBINATION COMPLETED=====\n"
     ]
    },
    {
     "name": "stderr",
     "output_type": "stream",
     "text": [
      "No gradient function provided, creating a gradient function. If your Sampler requires transpilation, please provide a pass manager.\n"
     ]
    },
    {
     "name": "stdout",
     "output_type": "stream",
     "text": [
      "=====COMBINATION: 16=====\n",
      "Ansatz: RealAmplitudes\n",
      "Ansatz Reps: 3\n",
      "Feature Map: ZZFeatureMap\n",
      "Feature Map Reps: 2\n",
      "Optimizer: COBYLA\n",
      "\n",
      "ACCURACY: 0.5454545454545454\n",
      "P R F1 S: (array([0.66423358, 0.37234043]), array([0.60666667, 0.43209877]), array([0.63414634, 0.4       ]), array([150,  81]))\n",
      "=====COMBINATION COMPLETED=====\n"
     ]
    },
    {
     "name": "stderr",
     "output_type": "stream",
     "text": [
      "No gradient function provided, creating a gradient function. If your Sampler requires transpilation, please provide a pass manager.\n"
     ]
    },
    {
     "name": "stdout",
     "output_type": "stream",
     "text": [
      "=====COMBINATION: 17=====\n",
      "Ansatz: EfficientSU2\n",
      "Ansatz Reps: 4\n",
      "Feature Map: ZZFeatureMap\n",
      "Feature Map Reps: 2\n",
      "Optimizer: COBYLA\n",
      "\n",
      "ACCURACY: 0.47186147186147187\n",
      "P R F1 S: (array([0.62280702, 0.32478632]), array([0.47333333, 0.4691358 ]), array([0.53787879, 0.38383838]), array([150,  81]))\n",
      "=====COMBINATION COMPLETED=====\n"
     ]
    },
    {
     "name": "stderr",
     "output_type": "stream",
     "text": [
      "No gradient function provided, creating a gradient function. If your Sampler requires transpilation, please provide a pass manager.\n"
     ]
    },
    {
     "name": "stdout",
     "output_type": "stream",
     "text": [
      "=====COMBINATION: 18=====\n",
      "Ansatz: EfficientSU2\n",
      "Ansatz Reps: 4\n",
      "Feature Map: ZZFeatureMap\n",
      "Feature Map Reps: 2\n",
      "Optimizer: COBYLA\n",
      "\n",
      "ACCURACY: 0.5454545454545454\n",
      "P R F1 S: (array([0.69230769, 0.39473684]), array([0.54      , 0.55555556]), array([0.60674157, 0.46153846]), array([150,  81]))\n",
      "=====COMBINATION COMPLETED=====\n"
     ]
    },
    {
     "name": "stderr",
     "output_type": "stream",
     "text": [
      "No gradient function provided, creating a gradient function. If your Sampler requires transpilation, please provide a pass manager.\n"
     ]
    },
    {
     "name": "stdout",
     "output_type": "stream",
     "text": [
      "=====COMBINATION: 19=====\n",
      "Ansatz: EfficientSU2\n",
      "Ansatz Reps: 4\n",
      "Feature Map: ZZFeatureMap\n",
      "Feature Map Reps: 2\n",
      "Optimizer: COBYLA\n",
      "\n",
      "ACCURACY: 0.5194805194805194\n",
      "P R F1 S: (array([0.66115702, 0.36363636]), array([0.53333333, 0.49382716]), array([0.5904059 , 0.41884817]), array([150,  81]))\n",
      "=====COMBINATION COMPLETED=====\n"
     ]
    },
    {
     "name": "stderr",
     "output_type": "stream",
     "text": [
      "No gradient function provided, creating a gradient function. If your Sampler requires transpilation, please provide a pass manager.\n"
     ]
    },
    {
     "name": "stdout",
     "output_type": "stream",
     "text": [
      "=====COMBINATION: 20=====\n",
      "Ansatz: EfficientSU2\n",
      "Ansatz Reps: 4\n",
      "Feature Map: ZZFeatureMap\n",
      "Feature Map Reps: 2\n",
      "Optimizer: COBYLA\n",
      "\n",
      "ACCURACY: 0.5021645021645021\n",
      "P R F1 S: (array([0.64227642, 0.34259259]), array([0.52666667, 0.45679012]), array([0.57875458, 0.39153439]), array([150,  81]))\n",
      "=====COMBINATION COMPLETED=====\n"
     ]
    },
    {
     "name": "stderr",
     "output_type": "stream",
     "text": [
      "No gradient function provided, creating a gradient function. If your Sampler requires transpilation, please provide a pass manager.\n"
     ]
    },
    {
     "name": "stdout",
     "output_type": "stream",
     "text": [
      "=====COMBINATION: 21=====\n",
      "Ansatz: RealAmplitudes\n",
      "Ansatz Reps: 4\n",
      "Feature Map: ZZFeatureMap\n",
      "Feature Map Reps: 2\n",
      "Optimizer: COBYLA\n",
      "\n",
      "ACCURACY: 0.5194805194805194\n",
      "P R F1 S: (array([0.69306931, 0.38461538]), array([0.46666667, 0.61728395]), array([0.55776892, 0.47393365]), array([150,  81]))\n",
      "=====COMBINATION COMPLETED=====\n"
     ]
    },
    {
     "name": "stderr",
     "output_type": "stream",
     "text": [
      "No gradient function provided, creating a gradient function. If your Sampler requires transpilation, please provide a pass manager.\n"
     ]
    },
    {
     "name": "stdout",
     "output_type": "stream",
     "text": [
      "=====COMBINATION: 22=====\n",
      "Ansatz: RealAmplitudes\n",
      "Ansatz Reps: 4\n",
      "Feature Map: ZZFeatureMap\n",
      "Feature Map Reps: 2\n",
      "Optimizer: COBYLA\n",
      "\n",
      "ACCURACY: 0.5367965367965368\n",
      "P R F1 S: (array([0.68376068, 0.38596491]), array([0.53333333, 0.54320988]), array([0.59925094, 0.45128205]), array([150,  81]))\n",
      "=====COMBINATION COMPLETED=====\n"
     ]
    },
    {
     "name": "stderr",
     "output_type": "stream",
     "text": [
      "No gradient function provided, creating a gradient function. If your Sampler requires transpilation, please provide a pass manager.\n"
     ]
    },
    {
     "name": "stdout",
     "output_type": "stream",
     "text": [
      "=====COMBINATION: 23=====\n",
      "Ansatz: RealAmplitudes\n",
      "Ansatz Reps: 4\n",
      "Feature Map: ZZFeatureMap\n",
      "Feature Map Reps: 2\n",
      "Optimizer: COBYLA\n",
      "\n",
      "ACCURACY: 0.4935064935064935\n",
      "P R F1 S: (array([0.6460177 , 0.34745763]), array([0.48666667, 0.50617284]), array([0.55513308, 0.4120603 ]), array([150,  81]))\n",
      "=====COMBINATION COMPLETED=====\n"
     ]
    },
    {
     "name": "stderr",
     "output_type": "stream",
     "text": [
      "No gradient function provided, creating a gradient function. If your Sampler requires transpilation, please provide a pass manager.\n"
     ]
    },
    {
     "name": "stdout",
     "output_type": "stream",
     "text": [
      "=====COMBINATION: 24=====\n",
      "Ansatz: RealAmplitudes\n",
      "Ansatz Reps: 4\n",
      "Feature Map: ZZFeatureMap\n",
      "Feature Map Reps: 2\n",
      "Optimizer: COBYLA\n",
      "\n",
      "ACCURACY: 0.5411255411255411\n",
      "P R F1 S: (array([0.67460317, 0.38095238]), array([0.56666667, 0.49382716]), array([0.61594203, 0.43010753]), array([150,  81]))\n",
      "=====COMBINATION COMPLETED=====\n"
     ]
    },
    {
     "name": "stderr",
     "output_type": "stream",
     "text": [
      "No gradient function provided, creating a gradient function. If your Sampler requires transpilation, please provide a pass manager.\n"
     ]
    },
    {
     "name": "stdout",
     "output_type": "stream",
     "text": [
      "=====COMBINATION: 25=====\n",
      "Ansatz: EfficientSU2\n",
      "Ansatz Reps: 2\n",
      "Feature Map: ZZFeatureMap\n",
      "Feature Map Reps: 3\n",
      "Optimizer: COBYLA\n",
      "\n",
      "ACCURACY: 0.46320346320346323\n",
      "P R F1 S: (array([0.60483871, 0.29906542]), array([0.5       , 0.39506173]), array([0.54744526, 0.34042553]), array([150,  81]))\n",
      "=====COMBINATION COMPLETED=====\n"
     ]
    },
    {
     "name": "stderr",
     "output_type": "stream",
     "text": [
      "No gradient function provided, creating a gradient function. If your Sampler requires transpilation, please provide a pass manager.\n"
     ]
    },
    {
     "name": "stdout",
     "output_type": "stream",
     "text": [
      "=====COMBINATION: 26=====\n",
      "Ansatz: EfficientSU2\n",
      "Ansatz Reps: 2\n",
      "Feature Map: ZZFeatureMap\n",
      "Feature Map Reps: 3\n",
      "Optimizer: COBYLA\n",
      "\n",
      "ACCURACY: 0.4675324675324675\n",
      "P R F1 S: (array([0.62616822, 0.33064516]), array([0.44666667, 0.50617284]), array([0.52140078, 0.4       ]), array([150,  81]))\n",
      "=====COMBINATION COMPLETED=====\n"
     ]
    },
    {
     "name": "stderr",
     "output_type": "stream",
     "text": [
      "No gradient function provided, creating a gradient function. If your Sampler requires transpilation, please provide a pass manager.\n"
     ]
    },
    {
     "name": "stdout",
     "output_type": "stream",
     "text": [
      "=====COMBINATION: 27=====\n",
      "Ansatz: EfficientSU2\n",
      "Ansatz Reps: 2\n",
      "Feature Map: ZZFeatureMap\n",
      "Feature Map Reps: 3\n",
      "Optimizer: COBYLA\n",
      "\n",
      "ACCURACY: 0.5367965367965368\n",
      "P R F1 S: (array([0.66165414, 0.36734694]), array([0.58666667, 0.44444444]), array([0.62190813, 0.40223464]), array([150,  81]))\n",
      "=====COMBINATION COMPLETED=====\n"
     ]
    },
    {
     "name": "stderr",
     "output_type": "stream",
     "text": [
      "No gradient function provided, creating a gradient function. If your Sampler requires transpilation, please provide a pass manager.\n"
     ]
    },
    {
     "name": "stdout",
     "output_type": "stream",
     "text": [
      "=====COMBINATION: 28=====\n",
      "Ansatz: EfficientSU2\n",
      "Ansatz Reps: 2\n",
      "Feature Map: ZZFeatureMap\n",
      "Feature Map Reps: 3\n",
      "Optimizer: COBYLA\n",
      "\n",
      "ACCURACY: 0.5367965367965368\n",
      "P R F1 S: (array([0.66929134, 0.375     ]), array([0.56666667, 0.48148148]), array([0.61371841, 0.42162162]), array([150,  81]))\n",
      "=====COMBINATION COMPLETED=====\n"
     ]
    },
    {
     "name": "stderr",
     "output_type": "stream",
     "text": [
      "No gradient function provided, creating a gradient function. If your Sampler requires transpilation, please provide a pass manager.\n"
     ]
    },
    {
     "name": "stdout",
     "output_type": "stream",
     "text": [
      "=====COMBINATION: 29=====\n",
      "Ansatz: RealAmplitudes\n",
      "Ansatz Reps: 2\n",
      "Feature Map: ZZFeatureMap\n",
      "Feature Map Reps: 3\n",
      "Optimizer: COBYLA\n",
      "\n",
      "ACCURACY: 0.5021645021645021\n",
      "P R F1 S: (array([0.65765766, 0.35833333]), array([0.48666667, 0.5308642 ]), array([0.55938697, 0.4278607 ]), array([150,  81]))\n",
      "=====COMBINATION COMPLETED=====\n"
     ]
    },
    {
     "name": "stderr",
     "output_type": "stream",
     "text": [
      "No gradient function provided, creating a gradient function. If your Sampler requires transpilation, please provide a pass manager.\n"
     ]
    },
    {
     "name": "stdout",
     "output_type": "stream",
     "text": [
      "=====COMBINATION: 30=====\n",
      "Ansatz: RealAmplitudes\n",
      "Ansatz Reps: 2\n",
      "Feature Map: ZZFeatureMap\n",
      "Feature Map Reps: 3\n",
      "Optimizer: COBYLA\n",
      "\n",
      "ACCURACY: 0.4935064935064935\n",
      "P R F1 S: (array([0.66336634, 0.36153846]), array([0.44666667, 0.58024691]), array([0.53386454, 0.44549763]), array([150,  81]))\n",
      "=====COMBINATION COMPLETED=====\n"
     ]
    },
    {
     "name": "stderr",
     "output_type": "stream",
     "text": [
      "No gradient function provided, creating a gradient function. If your Sampler requires transpilation, please provide a pass manager.\n"
     ]
    },
    {
     "name": "stdout",
     "output_type": "stream",
     "text": [
      "=====COMBINATION: 31=====\n",
      "Ansatz: RealAmplitudes\n",
      "Ansatz Reps: 2\n",
      "Feature Map: ZZFeatureMap\n",
      "Feature Map Reps: 3\n",
      "Optimizer: COBYLA\n",
      "\n",
      "ACCURACY: 0.5627705627705628\n",
      "P R F1 S: (array([0.68421053, 0.39795918]), array([0.60666667, 0.48148148]), array([0.64310954, 0.43575419]), array([150,  81]))\n",
      "=====COMBINATION COMPLETED=====\n"
     ]
    },
    {
     "name": "stderr",
     "output_type": "stream",
     "text": [
      "No gradient function provided, creating a gradient function. If your Sampler requires transpilation, please provide a pass manager.\n"
     ]
    },
    {
     "name": "stdout",
     "output_type": "stream",
     "text": [
      "=====COMBINATION: 32=====\n",
      "Ansatz: RealAmplitudes\n",
      "Ansatz Reps: 2\n",
      "Feature Map: ZZFeatureMap\n",
      "Feature Map Reps: 3\n",
      "Optimizer: COBYLA\n",
      "\n",
      "ACCURACY: 0.5238095238095238\n",
      "P R F1 S: (array([0.68518519, 0.38211382]), array([0.49333333, 0.58024691]), array([0.57364341, 0.46078431]), array([150,  81]))\n",
      "=====COMBINATION COMPLETED=====\n"
     ]
    },
    {
     "name": "stderr",
     "output_type": "stream",
     "text": [
      "No gradient function provided, creating a gradient function. If your Sampler requires transpilation, please provide a pass manager.\n"
     ]
    },
    {
     "name": "stdout",
     "output_type": "stream",
     "text": [
      "=====COMBINATION: 33=====\n",
      "Ansatz: EfficientSU2\n",
      "Ansatz Reps: 3\n",
      "Feature Map: ZZFeatureMap\n",
      "Feature Map Reps: 3\n",
      "Optimizer: COBYLA\n",
      "\n",
      "ACCURACY: 0.5021645021645021\n",
      "P R F1 S: (array([0.6635514 , 0.36290323]), array([0.47333333, 0.55555556]), array([0.55252918, 0.43902439]), array([150,  81]))\n",
      "=====COMBINATION COMPLETED=====\n"
     ]
    },
    {
     "name": "stderr",
     "output_type": "stream",
     "text": [
      "No gradient function provided, creating a gradient function. If your Sampler requires transpilation, please provide a pass manager.\n"
     ]
    },
    {
     "name": "stdout",
     "output_type": "stream",
     "text": [
      "=====COMBINATION: 34=====\n",
      "Ansatz: EfficientSU2\n",
      "Ansatz Reps: 3\n",
      "Feature Map: ZZFeatureMap\n",
      "Feature Map Reps: 3\n",
      "Optimizer: COBYLA\n",
      "\n",
      "ACCURACY: 0.48484848484848486\n",
      "P R F1 S: (array([0.63716814, 0.33898305]), array([0.48      , 0.49382716]), array([0.54752852, 0.40201005]), array([150,  81]))\n",
      "=====COMBINATION COMPLETED=====\n"
     ]
    },
    {
     "name": "stderr",
     "output_type": "stream",
     "text": [
      "No gradient function provided, creating a gradient function. If your Sampler requires transpilation, please provide a pass manager.\n"
     ]
    },
    {
     "name": "stdout",
     "output_type": "stream",
     "text": [
      "=====COMBINATION: 35=====\n",
      "Ansatz: EfficientSU2\n",
      "Ansatz Reps: 3\n",
      "Feature Map: ZZFeatureMap\n",
      "Feature Map Reps: 3\n",
      "Optimizer: COBYLA\n",
      "\n",
      "ACCURACY: 0.5541125541125541\n",
      "P R F1 S: (array([0.66906475, 0.38043478]), array([0.62      , 0.43209877]), array([0.64359862, 0.40462428]), array([150,  81]))\n",
      "=====COMBINATION COMPLETED=====\n"
     ]
    },
    {
     "name": "stderr",
     "output_type": "stream",
     "text": [
      "No gradient function provided, creating a gradient function. If your Sampler requires transpilation, please provide a pass manager.\n"
     ]
    },
    {
     "name": "stdout",
     "output_type": "stream",
     "text": [
      "=====COMBINATION: 36=====\n",
      "Ansatz: EfficientSU2\n",
      "Ansatz Reps: 3\n",
      "Feature Map: ZZFeatureMap\n",
      "Feature Map Reps: 3\n",
      "Optimizer: COBYLA\n",
      "\n",
      "ACCURACY: 0.4458874458874459\n",
      "P R F1 S: (array([0.60185185, 0.30894309]), array([0.43333333, 0.4691358 ]), array([0.50387597, 0.37254902]), array([150,  81]))\n",
      "=====COMBINATION COMPLETED=====\n"
     ]
    },
    {
     "name": "stderr",
     "output_type": "stream",
     "text": [
      "No gradient function provided, creating a gradient function. If your Sampler requires transpilation, please provide a pass manager.\n"
     ]
    },
    {
     "name": "stdout",
     "output_type": "stream",
     "text": [
      "=====COMBINATION: 37=====\n",
      "Ansatz: RealAmplitudes\n",
      "Ansatz Reps: 3\n",
      "Feature Map: ZZFeatureMap\n",
      "Feature Map Reps: 3\n",
      "Optimizer: COBYLA\n",
      "\n",
      "ACCURACY: 0.5714285714285714\n",
      "P R F1 S: (array([0.70731707, 0.41666667]), array([0.58      , 0.55555556]), array([0.63736264, 0.47619048]), array([150,  81]))\n",
      "=====COMBINATION COMPLETED=====\n"
     ]
    },
    {
     "name": "stderr",
     "output_type": "stream",
     "text": [
      "No gradient function provided, creating a gradient function. If your Sampler requires transpilation, please provide a pass manager.\n"
     ]
    },
    {
     "name": "stdout",
     "output_type": "stream",
     "text": [
      "=====COMBINATION: 38=====\n",
      "Ansatz: RealAmplitudes\n",
      "Ansatz Reps: 3\n",
      "Feature Map: ZZFeatureMap\n",
      "Feature Map Reps: 3\n",
      "Optimizer: COBYLA\n",
      "\n",
      "ACCURACY: 0.48484848484848486\n",
      "P R F1 S: (array([0.64220183, 0.3442623 ]), array([0.46666667, 0.51851852]), array([0.54054054, 0.4137931 ]), array([150,  81]))\n",
      "=====COMBINATION COMPLETED=====\n"
     ]
    },
    {
     "name": "stderr",
     "output_type": "stream",
     "text": [
      "No gradient function provided, creating a gradient function. If your Sampler requires transpilation, please provide a pass manager.\n"
     ]
    },
    {
     "name": "stdout",
     "output_type": "stream",
     "text": [
      "=====COMBINATION: 39=====\n",
      "Ansatz: RealAmplitudes\n",
      "Ansatz Reps: 3\n",
      "Feature Map: ZZFeatureMap\n",
      "Feature Map Reps: 3\n",
      "Optimizer: COBYLA\n",
      "\n",
      "ACCURACY: 0.48917748917748916\n",
      "P R F1 S: (array([0.61764706, 0.30526316]), array([0.56      , 0.35802469]), array([0.58741259, 0.32954545]), array([150,  81]))\n",
      "=====COMBINATION COMPLETED=====\n"
     ]
    },
    {
     "name": "stderr",
     "output_type": "stream",
     "text": [
      "No gradient function provided, creating a gradient function. If your Sampler requires transpilation, please provide a pass manager.\n"
     ]
    },
    {
     "name": "stdout",
     "output_type": "stream",
     "text": [
      "=====COMBINATION: 40=====\n",
      "Ansatz: RealAmplitudes\n",
      "Ansatz Reps: 3\n",
      "Feature Map: ZZFeatureMap\n",
      "Feature Map Reps: 3\n",
      "Optimizer: COBYLA\n",
      "\n",
      "ACCURACY: 0.48917748917748916\n",
      "P R F1 S: (array([0.63114754, 0.33027523]), array([0.51333333, 0.44444444]), array([0.56617647, 0.37894737]), array([150,  81]))\n",
      "=====COMBINATION COMPLETED=====\n"
     ]
    },
    {
     "name": "stderr",
     "output_type": "stream",
     "text": [
      "No gradient function provided, creating a gradient function. If your Sampler requires transpilation, please provide a pass manager.\n"
     ]
    },
    {
     "name": "stdout",
     "output_type": "stream",
     "text": [
      "=====COMBINATION: 41=====\n",
      "Ansatz: EfficientSU2\n",
      "Ansatz Reps: 4\n",
      "Feature Map: ZZFeatureMap\n",
      "Feature Map Reps: 3\n",
      "Optimizer: COBYLA\n",
      "\n",
      "ACCURACY: 0.5064935064935064\n",
      "P R F1 S: (array([0.63432836, 0.32989691]), array([0.56666667, 0.39506173]), array([0.59859155, 0.35955056]), array([150,  81]))\n",
      "=====COMBINATION COMPLETED=====\n"
     ]
    },
    {
     "name": "stderr",
     "output_type": "stream",
     "text": [
      "No gradient function provided, creating a gradient function. If your Sampler requires transpilation, please provide a pass manager.\n"
     ]
    },
    {
     "name": "stdout",
     "output_type": "stream",
     "text": [
      "=====COMBINATION: 42=====\n",
      "Ansatz: EfficientSU2\n",
      "Ansatz Reps: 4\n",
      "Feature Map: ZZFeatureMap\n",
      "Feature Map Reps: 3\n",
      "Optimizer: COBYLA\n",
      "\n",
      "ACCURACY: 0.4675324675324675\n",
      "P R F1 S: (array([0.61946903, 0.3220339 ]), array([0.46666667, 0.4691358 ]), array([0.53231939, 0.38190955]), array([150,  81]))\n",
      "=====COMBINATION COMPLETED=====\n"
     ]
    },
    {
     "name": "stderr",
     "output_type": "stream",
     "text": [
      "No gradient function provided, creating a gradient function. If your Sampler requires transpilation, please provide a pass manager.\n"
     ]
    },
    {
     "name": "stdout",
     "output_type": "stream",
     "text": [
      "=====COMBINATION: 43=====\n",
      "Ansatz: EfficientSU2\n",
      "Ansatz Reps: 4\n",
      "Feature Map: ZZFeatureMap\n",
      "Feature Map Reps: 3\n",
      "Optimizer: COBYLA\n",
      "\n",
      "ACCURACY: 0.4675324675324675\n",
      "P R F1 S: (array([0.62385321, 0.32786885]), array([0.45333333, 0.49382716]), array([0.52509653, 0.39408867]), array([150,  81]))\n",
      "=====COMBINATION COMPLETED=====\n"
     ]
    },
    {
     "name": "stderr",
     "output_type": "stream",
     "text": [
      "No gradient function provided, creating a gradient function. If your Sampler requires transpilation, please provide a pass manager.\n"
     ]
    },
    {
     "name": "stdout",
     "output_type": "stream",
     "text": [
      "=====COMBINATION: 44=====\n",
      "Ansatz: EfficientSU2\n",
      "Ansatz Reps: 4\n",
      "Feature Map: ZZFeatureMap\n",
      "Feature Map Reps: 3\n",
      "Optimizer: COBYLA\n",
      "\n",
      "ACCURACY: 0.5151515151515151\n",
      "P R F1 S: (array([0.67592593, 0.37398374]), array([0.48666667, 0.56790123]), array([0.56589147, 0.45098039]), array([150,  81]))\n",
      "=====COMBINATION COMPLETED=====\n"
     ]
    },
    {
     "name": "stderr",
     "output_type": "stream",
     "text": [
      "No gradient function provided, creating a gradient function. If your Sampler requires transpilation, please provide a pass manager.\n"
     ]
    },
    {
     "name": "stdout",
     "output_type": "stream",
     "text": [
      "=====COMBINATION: 45=====\n",
      "Ansatz: RealAmplitudes\n",
      "Ansatz Reps: 4\n",
      "Feature Map: ZZFeatureMap\n",
      "Feature Map Reps: 3\n",
      "Optimizer: COBYLA\n",
      "\n",
      "ACCURACY: 0.5151515151515151\n",
      "P R F1 S: (array([0.65079365, 0.35238095]), array([0.54666667, 0.45679012]), array([0.5942029 , 0.39784946]), array([150,  81]))\n",
      "=====COMBINATION COMPLETED=====\n"
     ]
    },
    {
     "name": "stderr",
     "output_type": "stream",
     "text": [
      "No gradient function provided, creating a gradient function. If your Sampler requires transpilation, please provide a pass manager.\n"
     ]
    },
    {
     "name": "stdout",
     "output_type": "stream",
     "text": [
      "=====COMBINATION: 46=====\n",
      "Ansatz: RealAmplitudes\n",
      "Ansatz Reps: 4\n",
      "Feature Map: ZZFeatureMap\n",
      "Feature Map Reps: 3\n",
      "Optimizer: COBYLA\n",
      "\n",
      "ACCURACY: 0.47186147186147187\n",
      "P R F1 S: (array([0.62727273, 0.33057851]), array([0.46      , 0.49382716]), array([0.53076923, 0.3960396 ]), array([150,  81]))\n",
      "=====COMBINATION COMPLETED=====\n"
     ]
    },
    {
     "name": "stderr",
     "output_type": "stream",
     "text": [
      "No gradient function provided, creating a gradient function. If your Sampler requires transpilation, please provide a pass manager.\n"
     ]
    },
    {
     "name": "stdout",
     "output_type": "stream",
     "text": [
      "=====COMBINATION: 47=====\n",
      "Ansatz: RealAmplitudes\n",
      "Ansatz Reps: 4\n",
      "Feature Map: ZZFeatureMap\n",
      "Feature Map Reps: 3\n",
      "Optimizer: COBYLA\n",
      "\n",
      "ACCURACY: 0.5064935064935064\n",
      "P R F1 S: (array([0.63235294, 0.32631579]), array([0.57333333, 0.38271605]), array([0.6013986 , 0.35227273]), array([150,  81]))\n",
      "=====COMBINATION COMPLETED=====\n"
     ]
    },
    {
     "name": "stderr",
     "output_type": "stream",
     "text": [
      "No gradient function provided, creating a gradient function. If your Sampler requires transpilation, please provide a pass manager.\n"
     ]
    },
    {
     "name": "stdout",
     "output_type": "stream",
     "text": [
      "=====COMBINATION: 48=====\n",
      "Ansatz: RealAmplitudes\n",
      "Ansatz Reps: 4\n",
      "Feature Map: ZZFeatureMap\n",
      "Feature Map Reps: 3\n",
      "Optimizer: COBYLA\n",
      "\n",
      "ACCURACY: 0.5367965367965368\n",
      "P R F1 S: (array([0.65467626, 0.35869565]), array([0.60666667, 0.40740741]), array([0.62975779, 0.38150289]), array([150,  81]))\n",
      "=====COMBINATION COMPLETED=====\n"
     ]
    },
    {
     "name": "stderr",
     "output_type": "stream",
     "text": [
      "No gradient function provided, creating a gradient function. If your Sampler requires transpilation, please provide a pass manager.\n"
     ]
    },
    {
     "name": "stdout",
     "output_type": "stream",
     "text": [
      "=====COMBINATION: 49=====\n",
      "Ansatz: EfficientSU2\n",
      "Ansatz Reps: 2\n",
      "Feature Map: ZZFeatureMap\n",
      "Feature Map Reps: 4\n",
      "Optimizer: COBYLA\n",
      "\n",
      "ACCURACY: 0.5021645021645021\n",
      "P R F1 S: (array([0.65765766, 0.35833333]), array([0.48666667, 0.5308642 ]), array([0.55938697, 0.4278607 ]), array([150,  81]))\n",
      "=====COMBINATION COMPLETED=====\n"
     ]
    },
    {
     "name": "stderr",
     "output_type": "stream",
     "text": [
      "No gradient function provided, creating a gradient function. If your Sampler requires transpilation, please provide a pass manager.\n"
     ]
    },
    {
     "name": "stdout",
     "output_type": "stream",
     "text": [
      "=====COMBINATION: 50=====\n",
      "Ansatz: EfficientSU2\n",
      "Ansatz Reps: 2\n",
      "Feature Map: ZZFeatureMap\n",
      "Feature Map Reps: 4\n",
      "Optimizer: COBYLA\n",
      "\n",
      "ACCURACY: 0.5021645021645021\n",
      "P R F1 S: (array([0.64227642, 0.34259259]), array([0.52666667, 0.45679012]), array([0.57875458, 0.39153439]), array([150,  81]))\n",
      "=====COMBINATION COMPLETED=====\n"
     ]
    },
    {
     "name": "stderr",
     "output_type": "stream",
     "text": [
      "No gradient function provided, creating a gradient function. If your Sampler requires transpilation, please provide a pass manager.\n"
     ]
    },
    {
     "name": "stdout",
     "output_type": "stream",
     "text": [
      "=====COMBINATION: 51=====\n",
      "Ansatz: EfficientSU2\n",
      "Ansatz Reps: 2\n",
      "Feature Map: ZZFeatureMap\n",
      "Feature Map Reps: 4\n",
      "Optimizer: COBYLA\n",
      "\n",
      "ACCURACY: 0.46320346320346323\n",
      "P R F1 S: (array([0.60833333, 0.30630631]), array([0.48666667, 0.41975309]), array([0.54074074, 0.35416667]), array([150,  81]))\n",
      "=====COMBINATION COMPLETED=====\n"
     ]
    },
    {
     "name": "stderr",
     "output_type": "stream",
     "text": [
      "No gradient function provided, creating a gradient function. If your Sampler requires transpilation, please provide a pass manager.\n"
     ]
    },
    {
     "name": "stdout",
     "output_type": "stream",
     "text": [
      "=====COMBINATION: 52=====\n",
      "Ansatz: EfficientSU2\n",
      "Ansatz Reps: 2\n",
      "Feature Map: ZZFeatureMap\n",
      "Feature Map Reps: 4\n",
      "Optimizer: COBYLA\n",
      "\n",
      "ACCURACY: 0.48484848484848486\n",
      "P R F1 S: (array([0.64220183, 0.3442623 ]), array([0.46666667, 0.51851852]), array([0.54054054, 0.4137931 ]), array([150,  81]))\n",
      "=====COMBINATION COMPLETED=====\n"
     ]
    },
    {
     "name": "stderr",
     "output_type": "stream",
     "text": [
      "No gradient function provided, creating a gradient function. If your Sampler requires transpilation, please provide a pass manager.\n"
     ]
    },
    {
     "name": "stdout",
     "output_type": "stream",
     "text": [
      "=====COMBINATION: 53=====\n",
      "Ansatz: RealAmplitudes\n",
      "Ansatz Reps: 2\n",
      "Feature Map: ZZFeatureMap\n",
      "Feature Map Reps: 4\n",
      "Optimizer: COBYLA\n",
      "\n",
      "ACCURACY: 0.4588744588744589\n",
      "P R F1 S: (array([0.60869565, 0.31034483]), array([0.46666667, 0.44444444]), array([0.52830189, 0.36548223]), array([150,  81]))\n",
      "=====COMBINATION COMPLETED=====\n"
     ]
    },
    {
     "name": "stderr",
     "output_type": "stream",
     "text": [
      "No gradient function provided, creating a gradient function. If your Sampler requires transpilation, please provide a pass manager.\n"
     ]
    },
    {
     "name": "stdout",
     "output_type": "stream",
     "text": [
      "=====COMBINATION: 54=====\n",
      "Ansatz: RealAmplitudes\n",
      "Ansatz Reps: 2\n",
      "Feature Map: ZZFeatureMap\n",
      "Feature Map Reps: 4\n",
      "Optimizer: COBYLA\n",
      "\n",
      "ACCURACY: 0.4805194805194805\n",
      "P R F1 S: (array([0.63888889, 0.34146341]), array([0.46      , 0.51851852]), array([0.53488372, 0.41176471]), array([150,  81]))\n",
      "=====COMBINATION COMPLETED=====\n"
     ]
    },
    {
     "name": "stderr",
     "output_type": "stream",
     "text": [
      "No gradient function provided, creating a gradient function. If your Sampler requires transpilation, please provide a pass manager.\n"
     ]
    },
    {
     "name": "stdout",
     "output_type": "stream",
     "text": [
      "=====COMBINATION: 55=====\n",
      "Ansatz: RealAmplitudes\n",
      "Ansatz Reps: 2\n",
      "Feature Map: ZZFeatureMap\n",
      "Feature Map Reps: 4\n",
      "Optimizer: COBYLA\n",
      "\n",
      "ACCURACY: 0.5541125541125541\n",
      "P R F1 S: (array([0.67938931, 0.39      ]), array([0.59333333, 0.48148148]), array([0.63345196, 0.43093923]), array([150,  81]))\n",
      "=====COMBINATION COMPLETED=====\n"
     ]
    },
    {
     "name": "stderr",
     "output_type": "stream",
     "text": [
      "No gradient function provided, creating a gradient function. If your Sampler requires transpilation, please provide a pass manager.\n"
     ]
    },
    {
     "name": "stdout",
     "output_type": "stream",
     "text": [
      "=====COMBINATION: 56=====\n",
      "Ansatz: RealAmplitudes\n",
      "Ansatz Reps: 2\n",
      "Feature Map: ZZFeatureMap\n",
      "Feature Map Reps: 4\n",
      "Optimizer: COBYLA\n",
      "\n",
      "ACCURACY: 0.4199134199134199\n",
      "P R F1 S: (array([0.58163265, 0.30075188]), array([0.38      , 0.49382716]), array([0.45967742, 0.37383178]), array([150,  81]))\n",
      "=====COMBINATION COMPLETED=====\n"
     ]
    },
    {
     "name": "stderr",
     "output_type": "stream",
     "text": [
      "No gradient function provided, creating a gradient function. If your Sampler requires transpilation, please provide a pass manager.\n"
     ]
    },
    {
     "name": "stdout",
     "output_type": "stream",
     "text": [
      "=====COMBINATION: 57=====\n",
      "Ansatz: EfficientSU2\n",
      "Ansatz Reps: 3\n",
      "Feature Map: ZZFeatureMap\n",
      "Feature Map Reps: 4\n",
      "Optimizer: COBYLA\n",
      "\n",
      "ACCURACY: 0.5454545454545454\n",
      "P R F1 S: (array([0.69230769, 0.39473684]), array([0.54      , 0.55555556]), array([0.60674157, 0.46153846]), array([150,  81]))\n",
      "=====COMBINATION COMPLETED=====\n"
     ]
    },
    {
     "name": "stderr",
     "output_type": "stream",
     "text": [
      "No gradient function provided, creating a gradient function. If your Sampler requires transpilation, please provide a pass manager.\n"
     ]
    },
    {
     "name": "stdout",
     "output_type": "stream",
     "text": [
      "=====COMBINATION: 58=====\n",
      "Ansatz: EfficientSU2\n",
      "Ansatz Reps: 3\n",
      "Feature Map: ZZFeatureMap\n",
      "Feature Map Reps: 4\n",
      "Optimizer: COBYLA\n",
      "\n",
      "ACCURACY: 0.49783549783549785\n",
      "P R F1 S: (array([0.64655172, 0.34782609]), array([0.5       , 0.49382716]), array([0.56390977, 0.40816327]), array([150,  81]))\n",
      "=====COMBINATION COMPLETED=====\n"
     ]
    },
    {
     "name": "stderr",
     "output_type": "stream",
     "text": [
      "No gradient function provided, creating a gradient function. If your Sampler requires transpilation, please provide a pass manager.\n"
     ]
    },
    {
     "name": "stdout",
     "output_type": "stream",
     "text": [
      "=====COMBINATION: 59=====\n",
      "Ansatz: EfficientSU2\n",
      "Ansatz Reps: 3\n",
      "Feature Map: ZZFeatureMap\n",
      "Feature Map Reps: 4\n",
      "Optimizer: COBYLA\n",
      "\n",
      "ACCURACY: 0.4935064935064935\n",
      "P R F1 S: (array([0.65137615, 0.35245902]), array([0.47333333, 0.5308642 ]), array([0.54826255, 0.42364532]), array([150,  81]))\n",
      "=====COMBINATION COMPLETED=====\n"
     ]
    },
    {
     "name": "stderr",
     "output_type": "stream",
     "text": [
      "No gradient function provided, creating a gradient function. If your Sampler requires transpilation, please provide a pass manager.\n"
     ]
    },
    {
     "name": "stdout",
     "output_type": "stream",
     "text": [
      "=====COMBINATION: 60=====\n",
      "Ansatz: EfficientSU2\n",
      "Ansatz Reps: 3\n",
      "Feature Map: ZZFeatureMap\n",
      "Feature Map Reps: 4\n",
      "Optimizer: COBYLA\n",
      "\n",
      "ACCURACY: 0.49783549783549785\n",
      "P R F1 S: (array([0.63934426, 0.33944954]), array([0.52      , 0.45679012]), array([0.57352941, 0.38947368]), array([150,  81]))\n",
      "=====COMBINATION COMPLETED=====\n"
     ]
    },
    {
     "name": "stderr",
     "output_type": "stream",
     "text": [
      "No gradient function provided, creating a gradient function. If your Sampler requires transpilation, please provide a pass manager.\n"
     ]
    },
    {
     "name": "stdout",
     "output_type": "stream",
     "text": [
      "=====COMBINATION: 61=====\n",
      "Ansatz: RealAmplitudes\n",
      "Ansatz Reps: 3\n",
      "Feature Map: ZZFeatureMap\n",
      "Feature Map Reps: 4\n",
      "Optimizer: COBYLA\n",
      "\n",
      "ACCURACY: 0.43722943722943725\n",
      "P R F1 S: (array([0.59090909, 0.29752066]), array([0.43333333, 0.44444444]), array([0.5       , 0.35643564]), array([150,  81]))\n",
      "=====COMBINATION COMPLETED=====\n"
     ]
    },
    {
     "name": "stderr",
     "output_type": "stream",
     "text": [
      "No gradient function provided, creating a gradient function. If your Sampler requires transpilation, please provide a pass manager.\n"
     ]
    },
    {
     "name": "stdout",
     "output_type": "stream",
     "text": [
      "=====COMBINATION: 62=====\n",
      "Ansatz: RealAmplitudes\n",
      "Ansatz Reps: 3\n",
      "Feature Map: ZZFeatureMap\n",
      "Feature Map Reps: 4\n",
      "Optimizer: COBYLA\n",
      "\n",
      "ACCURACY: 0.4805194805194805\n",
      "P R F1 S: (array([0.63392857, 0.33613445]), array([0.47333333, 0.49382716]), array([0.54198473, 0.4       ]), array([150,  81]))\n",
      "=====COMBINATION COMPLETED=====\n"
     ]
    },
    {
     "name": "stderr",
     "output_type": "stream",
     "text": [
      "No gradient function provided, creating a gradient function. If your Sampler requires transpilation, please provide a pass manager.\n"
     ]
    },
    {
     "name": "stdout",
     "output_type": "stream",
     "text": [
      "=====COMBINATION: 63=====\n",
      "Ansatz: RealAmplitudes\n",
      "Ansatz Reps: 3\n",
      "Feature Map: ZZFeatureMap\n",
      "Feature Map Reps: 4\n",
      "Optimizer: COBYLA\n",
      "\n",
      "ACCURACY: 0.47619047619047616\n",
      "P R F1 S: (array([0.616     , 0.31132075]), array([0.51333333, 0.40740741]), array([0.56      , 0.35294118]), array([150,  81]))\n",
      "=====COMBINATION COMPLETED=====\n"
     ]
    },
    {
     "name": "stderr",
     "output_type": "stream",
     "text": [
      "No gradient function provided, creating a gradient function. If your Sampler requires transpilation, please provide a pass manager.\n"
     ]
    },
    {
     "name": "stdout",
     "output_type": "stream",
     "text": [
      "=====COMBINATION: 64=====\n",
      "Ansatz: RealAmplitudes\n",
      "Ansatz Reps: 3\n",
      "Feature Map: ZZFeatureMap\n",
      "Feature Map Reps: 4\n",
      "Optimizer: COBYLA\n",
      "\n",
      "ACCURACY: 0.47619047619047616\n",
      "P R F1 S: (array([0.64646465, 0.34848485]), array([0.42666667, 0.56790123]), array([0.51405622, 0.43192488]), array([150,  81]))\n",
      "=====COMBINATION COMPLETED=====\n"
     ]
    },
    {
     "name": "stderr",
     "output_type": "stream",
     "text": [
      "No gradient function provided, creating a gradient function. If your Sampler requires transpilation, please provide a pass manager.\n"
     ]
    },
    {
     "name": "stdout",
     "output_type": "stream",
     "text": [
      "=====COMBINATION: 65=====\n",
      "Ansatz: EfficientSU2\n",
      "Ansatz Reps: 4\n",
      "Feature Map: ZZFeatureMap\n",
      "Feature Map Reps: 4\n",
      "Optimizer: COBYLA\n",
      "\n",
      "ACCURACY: 0.5064935064935064\n",
      "P R F1 S: (array([0.65517241, 0.35652174]), array([0.50666667, 0.50617284]), array([0.57142857, 0.41836735]), array([150,  81]))\n",
      "=====COMBINATION COMPLETED=====\n"
     ]
    },
    {
     "name": "stderr",
     "output_type": "stream",
     "text": [
      "No gradient function provided, creating a gradient function. If your Sampler requires transpilation, please provide a pass manager.\n"
     ]
    },
    {
     "name": "stdout",
     "output_type": "stream",
     "text": [
      "=====COMBINATION: 66=====\n",
      "Ansatz: EfficientSU2\n",
      "Ansatz Reps: 4\n",
      "Feature Map: ZZFeatureMap\n",
      "Feature Map Reps: 4\n",
      "Optimizer: COBYLA\n",
      "\n",
      "ACCURACY: 0.5021645021645021\n",
      "P R F1 S: (array([0.65765766, 0.35833333]), array([0.48666667, 0.5308642 ]), array([0.55938697, 0.4278607 ]), array([150,  81]))\n",
      "=====COMBINATION COMPLETED=====\n"
     ]
    },
    {
     "name": "stderr",
     "output_type": "stream",
     "text": [
      "No gradient function provided, creating a gradient function. If your Sampler requires transpilation, please provide a pass manager.\n"
     ]
    },
    {
     "name": "stdout",
     "output_type": "stream",
     "text": [
      "=====COMBINATION: 67=====\n",
      "Ansatz: EfficientSU2\n",
      "Ansatz Reps: 4\n",
      "Feature Map: ZZFeatureMap\n",
      "Feature Map Reps: 4\n",
      "Optimizer: COBYLA\n",
      "\n"
     ]
    },
    {
     "name": "stderr",
     "output_type": "stream",
     "text": [
      "capi_return is NULL\n",
      "Call-back cb_calcfc_in__cobyla__user__routines failed.\n"
     ]
    },
    {
     "ename": "KeyboardInterrupt",
     "evalue": "",
     "output_type": "error",
     "traceback": [
      "\u001b[0;31m---------------------------------------------------------------------------\u001b[0m",
      "\u001b[0;31mKeyboardInterrupt\u001b[0m                         Traceback (most recent call last)",
      "Cell \u001b[0;32mIn[13], line 1\u001b[0m\n\u001b[0;32m----> 1\u001b[0m comb_zz \u001b[38;5;241m=\u001b[39m \u001b[43mcombo_builder\u001b[49m\u001b[43m(\u001b[49m\u001b[43mansatze\u001b[49m\u001b[43m,\u001b[49m\u001b[43m \u001b[49m\u001b[43mfeature_maps\u001b[49m\u001b[43m[\u001b[49m\u001b[38;5;241;43m1\u001b[39;49m\u001b[43m:\u001b[49m\u001b[43m]\u001b[49m\u001b[43m,\u001b[49m\u001b[43m \u001b[49m\u001b[43mCOBYLA\u001b[49m\u001b[43m(\u001b[49m\u001b[43mmaxiter\u001b[49m\u001b[38;5;241;43m=\u001b[39;49m\u001b[38;5;241;43m500\u001b[39;49m\u001b[43m)\u001b[49m\u001b[43m,\u001b[49m\u001b[43m \u001b[49m\u001b[43mentanglement_patterns\u001b[49m\u001b[43m,\u001b[49m\u001b[43m \u001b[49m\u001b[43mX_train_balanced\u001b[49m\u001b[43m,\u001b[49m\u001b[43m \u001b[49m\u001b[43my_train_balanced\u001b[49m\u001b[43m,\u001b[49m\u001b[43m \u001b[49m\u001b[43mX_test\u001b[49m\u001b[43m,\u001b[49m\u001b[43m \u001b[49m\u001b[43my_test\u001b[49m\u001b[43m)\u001b[49m\n\u001b[1;32m      2\u001b[0m \u001b[38;5;28mprint\u001b[39m(comb_zz)\n",
      "Cell \u001b[0;32mIn[9], line 34\u001b[0m, in \u001b[0;36mcombo_builder\u001b[0;34m(ansatze, feature_maps, optimizer, entanglement_patterns, X_train, y_train, X_test, y_test)\u001b[0m\n\u001b[1;32m     31\u001b[0m start \u001b[38;5;241m=\u001b[39m time\u001b[38;5;241m.\u001b[39mtime()\n\u001b[1;32m     33\u001b[0m \u001b[38;5;66;03m# fit the model\u001b[39;00m\n\u001b[0;32m---> 34\u001b[0m test_vqc \u001b[38;5;241m=\u001b[39m \u001b[43mtest_vqc\u001b[49m\u001b[38;5;241;43m.\u001b[39;49m\u001b[43mfit\u001b[49m\u001b[43m(\u001b[49m\u001b[43mX_train\u001b[49m\u001b[43m,\u001b[49m\u001b[43m \u001b[49m\u001b[43my_train\u001b[49m\u001b[43m)\u001b[49m\n\u001b[1;32m     36\u001b[0m end \u001b[38;5;241m=\u001b[39m time\u001b[38;5;241m.\u001b[39mtime()\n\u001b[1;32m     37\u001b[0m elapsed \u001b[38;5;241m=\u001b[39m end \u001b[38;5;241m-\u001b[39m start\n",
      "File \u001b[0;32m~/miniconda3/envs/qiskit-fyp/lib/python3.13/site-packages/qiskit_machine_learning/algorithms/trainable_model.py:199\u001b[0m, in \u001b[0;36mTrainableModel.fit\u001b[0;34m(self, X, y)\u001b[0m\n\u001b[1;32m    196\u001b[0m \u001b[38;5;28;01mif\u001b[39;00m \u001b[38;5;129;01mnot\u001b[39;00m \u001b[38;5;28mself\u001b[39m\u001b[38;5;241m.\u001b[39m_warm_start:\n\u001b[1;32m    197\u001b[0m     \u001b[38;5;28mself\u001b[39m\u001b[38;5;241m.\u001b[39m_fit_result \u001b[38;5;241m=\u001b[39m \u001b[38;5;28;01mNone\u001b[39;00m\n\u001b[0;32m--> 199\u001b[0m \u001b[38;5;28mself\u001b[39m\u001b[38;5;241m.\u001b[39m_fit_result \u001b[38;5;241m=\u001b[39m \u001b[38;5;28;43mself\u001b[39;49m\u001b[38;5;241;43m.\u001b[39;49m\u001b[43m_fit_internal\u001b[49m\u001b[43m(\u001b[49m\u001b[43mX\u001b[49m\u001b[43m,\u001b[49m\u001b[43m \u001b[49m\u001b[43my\u001b[49m\u001b[43m)\u001b[49m\n\u001b[1;32m    200\u001b[0m \u001b[38;5;28;01mreturn\u001b[39;00m \u001b[38;5;28mself\u001b[39m\n",
      "File \u001b[0;32m~/miniconda3/envs/qiskit-fyp/lib/python3.13/site-packages/qiskit_machine_learning/algorithms/classifiers/vqc.py:195\u001b[0m, in \u001b[0;36mVQC._fit_internal\u001b[0;34m(self, X, y)\u001b[0m\n\u001b[1;32m    192\u001b[0m     \u001b[38;5;28mself\u001b[39m\u001b[38;5;241m.\u001b[39m_neural_network\u001b[38;5;241m.\u001b[39mset_interpret(\u001b[38;5;28mself\u001b[39m\u001b[38;5;241m.\u001b[39minterpret, num_classes)\n\u001b[1;32m    194\u001b[0m function \u001b[38;5;241m=\u001b[39m \u001b[38;5;28mself\u001b[39m\u001b[38;5;241m.\u001b[39m_create_objective(X, y)\n\u001b[0;32m--> 195\u001b[0m \u001b[38;5;28;01mreturn\u001b[39;00m \u001b[38;5;28;43mself\u001b[39;49m\u001b[38;5;241;43m.\u001b[39;49m\u001b[43m_minimize\u001b[49m\u001b[43m(\u001b[49m\u001b[43mfunction\u001b[49m\u001b[43m)\u001b[49m\n",
      "File \u001b[0;32m~/miniconda3/envs/qiskit-fyp/lib/python3.13/site-packages/qiskit_machine_learning/algorithms/trainable_model.py:296\u001b[0m, in \u001b[0;36mTrainableModel._minimize\u001b[0;34m(self, function)\u001b[0m\n\u001b[1;32m    292\u001b[0m     optimizer_result \u001b[38;5;241m=\u001b[39m \u001b[38;5;28mself\u001b[39m\u001b[38;5;241m.\u001b[39m_optimizer(  \u001b[38;5;66;03m# type: ignore[call-arg]\u001b[39;00m\n\u001b[1;32m    293\u001b[0m         fun\u001b[38;5;241m=\u001b[39mobjective, x0\u001b[38;5;241m=\u001b[39minitial_point, jac\u001b[38;5;241m=\u001b[39mfunction\u001b[38;5;241m.\u001b[39mgradient\n\u001b[1;32m    294\u001b[0m     )\n\u001b[1;32m    295\u001b[0m \u001b[38;5;28;01melse\u001b[39;00m:\n\u001b[0;32m--> 296\u001b[0m     optimizer_result \u001b[38;5;241m=\u001b[39m \u001b[38;5;28;43mself\u001b[39;49m\u001b[38;5;241;43m.\u001b[39;49m\u001b[43m_optimizer\u001b[49m\u001b[38;5;241;43m.\u001b[39;49m\u001b[43mminimize\u001b[49m\u001b[43m(\u001b[49m\n\u001b[1;32m    297\u001b[0m \u001b[43m        \u001b[49m\u001b[43mfun\u001b[49m\u001b[38;5;241;43m=\u001b[39;49m\u001b[43mobjective\u001b[49m\u001b[43m,\u001b[49m\n\u001b[1;32m    298\u001b[0m \u001b[43m        \u001b[49m\u001b[43mx0\u001b[49m\u001b[38;5;241;43m=\u001b[39;49m\u001b[43minitial_point\u001b[49m\u001b[43m,\u001b[49m\n\u001b[1;32m    299\u001b[0m \u001b[43m        \u001b[49m\u001b[43mjac\u001b[49m\u001b[38;5;241;43m=\u001b[39;49m\u001b[43mfunction\u001b[49m\u001b[38;5;241;43m.\u001b[39;49m\u001b[43mgradient\u001b[49m\u001b[43m,\u001b[49m\u001b[43m  \u001b[49m\u001b[38;5;66;43;03m# type: ignore[arg-type]\u001b[39;49;00m\n\u001b[1;32m    300\u001b[0m \u001b[43m    \u001b[49m\u001b[43m)\u001b[49m\n\u001b[1;32m    301\u001b[0m \u001b[38;5;28;01mreturn\u001b[39;00m optimizer_result\n",
      "File \u001b[0;32m~/miniconda3/envs/qiskit-fyp/lib/python3.13/site-packages/qiskit_machine_learning/optimizers/scipy_optimizer.py:148\u001b[0m, in \u001b[0;36mSciPyOptimizer.minimize\u001b[0;34m(self, fun, x0, jac, bounds)\u001b[0m\n\u001b[1;32m    145\u001b[0m     swapped_deprecated_args \u001b[38;5;241m=\u001b[39m \u001b[38;5;28;01mTrue\u001b[39;00m\n\u001b[1;32m    146\u001b[0m     \u001b[38;5;28mself\u001b[39m\u001b[38;5;241m.\u001b[39m_options[\u001b[38;5;124m\"\u001b[39m\u001b[38;5;124mmaxfun\u001b[39m\u001b[38;5;124m\"\u001b[39m] \u001b[38;5;241m=\u001b[39m \u001b[38;5;28mself\u001b[39m\u001b[38;5;241m.\u001b[39m_options\u001b[38;5;241m.\u001b[39mpop(\u001b[38;5;124m\"\u001b[39m\u001b[38;5;124mmaxiter\u001b[39m\u001b[38;5;124m\"\u001b[39m)\n\u001b[0;32m--> 148\u001b[0m raw_result \u001b[38;5;241m=\u001b[39m \u001b[43mminimize\u001b[49m\u001b[43m(\u001b[49m\n\u001b[1;32m    149\u001b[0m \u001b[43m    \u001b[49m\u001b[43mfun\u001b[49m\u001b[38;5;241;43m=\u001b[39;49m\u001b[43mfun\u001b[49m\u001b[43m,\u001b[49m\n\u001b[1;32m    150\u001b[0m \u001b[43m    \u001b[49m\u001b[43mx0\u001b[49m\u001b[38;5;241;43m=\u001b[39;49m\u001b[43mx0\u001b[49m\u001b[43m,\u001b[49m\n\u001b[1;32m    151\u001b[0m \u001b[43m    \u001b[49m\u001b[43mmethod\u001b[49m\u001b[38;5;241;43m=\u001b[39;49m\u001b[38;5;28;43mself\u001b[39;49m\u001b[38;5;241;43m.\u001b[39;49m\u001b[43m_method\u001b[49m\u001b[43m,\u001b[49m\n\u001b[1;32m    152\u001b[0m \u001b[43m    \u001b[49m\u001b[43mjac\u001b[49m\u001b[38;5;241;43m=\u001b[39;49m\u001b[43mjac\u001b[49m\u001b[43m,\u001b[49m\n\u001b[1;32m    153\u001b[0m \u001b[43m    \u001b[49m\u001b[43mbounds\u001b[49m\u001b[38;5;241;43m=\u001b[39;49m\u001b[43mbounds\u001b[49m\u001b[43m,\u001b[49m\n\u001b[1;32m    154\u001b[0m \u001b[43m    \u001b[49m\u001b[43moptions\u001b[49m\u001b[38;5;241;43m=\u001b[39;49m\u001b[38;5;28;43mself\u001b[39;49m\u001b[38;5;241;43m.\u001b[39;49m\u001b[43m_options\u001b[49m\u001b[43m,\u001b[49m\n\u001b[1;32m    155\u001b[0m \u001b[43m    \u001b[49m\u001b[38;5;241;43m*\u001b[39;49m\u001b[38;5;241;43m*\u001b[39;49m\u001b[38;5;28;43mself\u001b[39;49m\u001b[38;5;241;43m.\u001b[39;49m\u001b[43m_kwargs\u001b[49m\u001b[43m,\u001b[49m\n\u001b[1;32m    156\u001b[0m \u001b[43m\u001b[49m\u001b[43m)\u001b[49m\n\u001b[1;32m    157\u001b[0m \u001b[38;5;28;01mif\u001b[39;00m swapped_deprecated_args:\n\u001b[1;32m    158\u001b[0m     \u001b[38;5;28mself\u001b[39m\u001b[38;5;241m.\u001b[39m_options[\u001b[38;5;124m\"\u001b[39m\u001b[38;5;124mmaxiter\u001b[39m\u001b[38;5;124m\"\u001b[39m] \u001b[38;5;241m=\u001b[39m \u001b[38;5;28mself\u001b[39m\u001b[38;5;241m.\u001b[39m_options\u001b[38;5;241m.\u001b[39mpop(\u001b[38;5;124m\"\u001b[39m\u001b[38;5;124mmaxfun\u001b[39m\u001b[38;5;124m\"\u001b[39m)\n",
      "File \u001b[0;32m~/miniconda3/envs/qiskit-fyp/lib/python3.13/site-packages/scipy/optimize/_minimize.py:744\u001b[0m, in \u001b[0;36mminimize\u001b[0;34m(fun, x0, args, method, jac, hess, hessp, bounds, constraints, tol, callback, options)\u001b[0m\n\u001b[1;32m    741\u001b[0m     res \u001b[38;5;241m=\u001b[39m _minimize_tnc(fun, x0, args, jac, bounds, callback\u001b[38;5;241m=\u001b[39mcallback,\n\u001b[1;32m    742\u001b[0m                         \u001b[38;5;241m*\u001b[39m\u001b[38;5;241m*\u001b[39moptions)\n\u001b[1;32m    743\u001b[0m \u001b[38;5;28;01melif\u001b[39;00m meth \u001b[38;5;241m==\u001b[39m \u001b[38;5;124m'\u001b[39m\u001b[38;5;124mcobyla\u001b[39m\u001b[38;5;124m'\u001b[39m:\n\u001b[0;32m--> 744\u001b[0m     res \u001b[38;5;241m=\u001b[39m \u001b[43m_minimize_cobyla\u001b[49m\u001b[43m(\u001b[49m\u001b[43mfun\u001b[49m\u001b[43m,\u001b[49m\u001b[43m \u001b[49m\u001b[43mx0\u001b[49m\u001b[43m,\u001b[49m\u001b[43m \u001b[49m\u001b[43margs\u001b[49m\u001b[43m,\u001b[49m\u001b[43m \u001b[49m\u001b[43mconstraints\u001b[49m\u001b[43m,\u001b[49m\u001b[43m \u001b[49m\u001b[43mcallback\u001b[49m\u001b[38;5;241;43m=\u001b[39;49m\u001b[43mcallback\u001b[49m\u001b[43m,\u001b[49m\n\u001b[1;32m    745\u001b[0m \u001b[43m                           \u001b[49m\u001b[43mbounds\u001b[49m\u001b[38;5;241;43m=\u001b[39;49m\u001b[43mbounds\u001b[49m\u001b[43m,\u001b[49m\u001b[43m \u001b[49m\u001b[38;5;241;43m*\u001b[39;49m\u001b[38;5;241;43m*\u001b[39;49m\u001b[43moptions\u001b[49m\u001b[43m)\u001b[49m\n\u001b[1;32m    746\u001b[0m \u001b[38;5;28;01melif\u001b[39;00m meth \u001b[38;5;241m==\u001b[39m \u001b[38;5;124m'\u001b[39m\u001b[38;5;124mcobyqa\u001b[39m\u001b[38;5;124m'\u001b[39m:\n\u001b[1;32m    747\u001b[0m     res \u001b[38;5;241m=\u001b[39m _minimize_cobyqa(fun, x0, args, bounds, constraints, callback,\n\u001b[1;32m    748\u001b[0m                            \u001b[38;5;241m*\u001b[39m\u001b[38;5;241m*\u001b[39moptions)\n",
      "File \u001b[0;32m~/miniconda3/envs/qiskit-fyp/lib/python3.13/site-packages/scipy/optimize/_cobyla_py.py:35\u001b[0m, in \u001b[0;36msynchronized.<locals>.wrapper\u001b[0;34m(*args, **kwargs)\u001b[0m\n\u001b[1;32m     32\u001b[0m \u001b[38;5;129m@functools\u001b[39m\u001b[38;5;241m.\u001b[39mwraps(func)\n\u001b[1;32m     33\u001b[0m \u001b[38;5;28;01mdef\u001b[39;00m\u001b[38;5;250m \u001b[39m\u001b[38;5;21mwrapper\u001b[39m(\u001b[38;5;241m*\u001b[39margs, \u001b[38;5;241m*\u001b[39m\u001b[38;5;241m*\u001b[39mkwargs):\n\u001b[1;32m     34\u001b[0m     \u001b[38;5;28;01mwith\u001b[39;00m _module_lock:\n\u001b[0;32m---> 35\u001b[0m         \u001b[38;5;28;01mreturn\u001b[39;00m \u001b[43mfunc\u001b[49m\u001b[43m(\u001b[49m\u001b[38;5;241;43m*\u001b[39;49m\u001b[43margs\u001b[49m\u001b[43m,\u001b[49m\u001b[43m \u001b[49m\u001b[38;5;241;43m*\u001b[39;49m\u001b[38;5;241;43m*\u001b[39;49m\u001b[43mkwargs\u001b[49m\u001b[43m)\u001b[49m\n",
      "File \u001b[0;32m~/miniconda3/envs/qiskit-fyp/lib/python3.13/site-packages/scipy/optimize/_cobyla_py.py:293\u001b[0m, in \u001b[0;36m_minimize_cobyla\u001b[0;34m(fun, x0, args, constraints, rhobeg, tol, maxiter, disp, catol, callback, bounds, **unknown_options)\u001b[0m\n\u001b[1;32m    290\u001b[0m         callback(np\u001b[38;5;241m.\u001b[39mcopy(x))\n\u001b[1;32m    292\u001b[0m info \u001b[38;5;241m=\u001b[39m np\u001b[38;5;241m.\u001b[39mzeros(\u001b[38;5;241m4\u001b[39m, np\u001b[38;5;241m.\u001b[39mfloat64)\n\u001b[0;32m--> 293\u001b[0m xopt, info \u001b[38;5;241m=\u001b[39m \u001b[43mcobyla\u001b[49m\u001b[38;5;241;43m.\u001b[39;49m\u001b[43mminimize\u001b[49m\u001b[43m(\u001b[49m\u001b[43mcalcfc\u001b[49m\u001b[43m,\u001b[49m\u001b[43m \u001b[49m\u001b[43mm\u001b[49m\u001b[38;5;241;43m=\u001b[39;49m\u001b[43mm\u001b[49m\u001b[43m,\u001b[49m\u001b[43m \u001b[49m\u001b[43mx\u001b[49m\u001b[38;5;241;43m=\u001b[39;49m\u001b[43mnp\u001b[49m\u001b[38;5;241;43m.\u001b[39;49m\u001b[43mcopy\u001b[49m\u001b[43m(\u001b[49m\u001b[43mx0\u001b[49m\u001b[43m)\u001b[49m\u001b[43m,\u001b[49m\u001b[43m \u001b[49m\u001b[43mrhobeg\u001b[49m\u001b[38;5;241;43m=\u001b[39;49m\u001b[43mrhobeg\u001b[49m\u001b[43m,\u001b[49m\n\u001b[1;32m    294\u001b[0m \u001b[43m                              \u001b[49m\u001b[43mrhoend\u001b[49m\u001b[38;5;241;43m=\u001b[39;49m\u001b[43mrhoend\u001b[49m\u001b[43m,\u001b[49m\u001b[43m \u001b[49m\u001b[43miprint\u001b[49m\u001b[38;5;241;43m=\u001b[39;49m\u001b[43miprint\u001b[49m\u001b[43m,\u001b[49m\u001b[43m \u001b[49m\u001b[43mmaxfun\u001b[49m\u001b[38;5;241;43m=\u001b[39;49m\u001b[43mmaxfun\u001b[49m\u001b[43m,\u001b[49m\n\u001b[1;32m    295\u001b[0m \u001b[43m                              \u001b[49m\u001b[43mdinfo\u001b[49m\u001b[38;5;241;43m=\u001b[39;49m\u001b[43minfo\u001b[49m\u001b[43m,\u001b[49m\u001b[43m \u001b[49m\u001b[43mcallback\u001b[49m\u001b[38;5;241;43m=\u001b[39;49m\u001b[43mwrapped_callback\u001b[49m\u001b[43m)\u001b[49m\n\u001b[1;32m    297\u001b[0m \u001b[38;5;28;01mif\u001b[39;00m info[\u001b[38;5;241m3\u001b[39m] \u001b[38;5;241m>\u001b[39m catol:\n\u001b[1;32m    298\u001b[0m     \u001b[38;5;66;03m# Check constraint violation\u001b[39;00m\n\u001b[1;32m    299\u001b[0m     info[\u001b[38;5;241m0\u001b[39m] \u001b[38;5;241m=\u001b[39m \u001b[38;5;241m4\u001b[39m\n",
      "File \u001b[0;32m~/miniconda3/envs/qiskit-fyp/lib/python3.13/site-packages/scipy/optimize/_cobyla_py.py:281\u001b[0m, in \u001b[0;36m_minimize_cobyla.<locals>.calcfc\u001b[0;34m(x, con)\u001b[0m\n\u001b[1;32m    280\u001b[0m \u001b[38;5;28;01mdef\u001b[39;00m\u001b[38;5;250m \u001b[39m\u001b[38;5;21mcalcfc\u001b[39m(x, con):\n\u001b[0;32m--> 281\u001b[0m     f \u001b[38;5;241m=\u001b[39m \u001b[43msf\u001b[49m\u001b[38;5;241;43m.\u001b[39;49m\u001b[43mfun\u001b[49m\u001b[43m(\u001b[49m\u001b[43mx\u001b[49m\u001b[43m)\u001b[49m\n\u001b[1;32m    282\u001b[0m     i \u001b[38;5;241m=\u001b[39m \u001b[38;5;241m0\u001b[39m\n\u001b[1;32m    283\u001b[0m     \u001b[38;5;28;01mfor\u001b[39;00m size, c \u001b[38;5;129;01min\u001b[39;00m izip(cons_lengths, constraints):\n",
      "File \u001b[0;32m~/miniconda3/envs/qiskit-fyp/lib/python3.13/site-packages/scipy/optimize/_differentiable_functions.py:326\u001b[0m, in \u001b[0;36mScalarFunction.fun\u001b[0;34m(self, x)\u001b[0m\n\u001b[1;32m    324\u001b[0m \u001b[38;5;28;01mif\u001b[39;00m \u001b[38;5;129;01mnot\u001b[39;00m np\u001b[38;5;241m.\u001b[39marray_equal(x, \u001b[38;5;28mself\u001b[39m\u001b[38;5;241m.\u001b[39mx):\n\u001b[1;32m    325\u001b[0m     \u001b[38;5;28mself\u001b[39m\u001b[38;5;241m.\u001b[39m_update_x(x)\n\u001b[0;32m--> 326\u001b[0m \u001b[38;5;28;43mself\u001b[39;49m\u001b[38;5;241;43m.\u001b[39;49m\u001b[43m_update_fun\u001b[49m\u001b[43m(\u001b[49m\u001b[43m)\u001b[49m\n\u001b[1;32m    327\u001b[0m \u001b[38;5;28;01mreturn\u001b[39;00m \u001b[38;5;28mself\u001b[39m\u001b[38;5;241m.\u001b[39mf\n",
      "File \u001b[0;32m~/miniconda3/envs/qiskit-fyp/lib/python3.13/site-packages/scipy/optimize/_differentiable_functions.py:295\u001b[0m, in \u001b[0;36mScalarFunction._update_fun\u001b[0;34m(self)\u001b[0m\n\u001b[1;32m    293\u001b[0m \u001b[38;5;28;01mdef\u001b[39;00m\u001b[38;5;250m \u001b[39m\u001b[38;5;21m_update_fun\u001b[39m(\u001b[38;5;28mself\u001b[39m):\n\u001b[1;32m    294\u001b[0m     \u001b[38;5;28;01mif\u001b[39;00m \u001b[38;5;129;01mnot\u001b[39;00m \u001b[38;5;28mself\u001b[39m\u001b[38;5;241m.\u001b[39mf_updated:\n\u001b[0;32m--> 295\u001b[0m         fx \u001b[38;5;241m=\u001b[39m \u001b[38;5;28;43mself\u001b[39;49m\u001b[38;5;241;43m.\u001b[39;49m\u001b[43m_wrapped_fun\u001b[49m\u001b[43m(\u001b[49m\u001b[38;5;28;43mself\u001b[39;49m\u001b[38;5;241;43m.\u001b[39;49m\u001b[43mx\u001b[49m\u001b[43m)\u001b[49m\n\u001b[1;32m    296\u001b[0m         \u001b[38;5;28;01mif\u001b[39;00m fx \u001b[38;5;241m<\u001b[39m \u001b[38;5;28mself\u001b[39m\u001b[38;5;241m.\u001b[39m_lowest_f:\n\u001b[1;32m    297\u001b[0m             \u001b[38;5;28mself\u001b[39m\u001b[38;5;241m.\u001b[39m_lowest_x \u001b[38;5;241m=\u001b[39m \u001b[38;5;28mself\u001b[39m\u001b[38;5;241m.\u001b[39mx\n",
      "File \u001b[0;32m~/miniconda3/envs/qiskit-fyp/lib/python3.13/site-packages/scipy/optimize/_differentiable_functions.py:21\u001b[0m, in \u001b[0;36m_wrapper_fun.<locals>.wrapped\u001b[0;34m(x)\u001b[0m\n\u001b[1;32m     17\u001b[0m ncalls[\u001b[38;5;241m0\u001b[39m] \u001b[38;5;241m+\u001b[39m\u001b[38;5;241m=\u001b[39m \u001b[38;5;241m1\u001b[39m\n\u001b[1;32m     18\u001b[0m \u001b[38;5;66;03m# Send a copy because the user may overwrite it.\u001b[39;00m\n\u001b[1;32m     19\u001b[0m \u001b[38;5;66;03m# Overwriting results in undefined behaviour because\u001b[39;00m\n\u001b[1;32m     20\u001b[0m \u001b[38;5;66;03m# fun(self.x) will change self.x, with the two no longer linked.\u001b[39;00m\n\u001b[0;32m---> 21\u001b[0m fx \u001b[38;5;241m=\u001b[39m \u001b[43mfun\u001b[49m\u001b[43m(\u001b[49m\u001b[43mnp\u001b[49m\u001b[38;5;241;43m.\u001b[39;49m\u001b[43mcopy\u001b[49m\u001b[43m(\u001b[49m\u001b[43mx\u001b[49m\u001b[43m)\u001b[49m\u001b[43m,\u001b[49m\u001b[43m \u001b[49m\u001b[38;5;241;43m*\u001b[39;49m\u001b[43margs\u001b[49m\u001b[43m)\u001b[49m\n\u001b[1;32m     22\u001b[0m \u001b[38;5;66;03m# Make sure the function returns a true scalar\u001b[39;00m\n\u001b[1;32m     23\u001b[0m \u001b[38;5;28;01mif\u001b[39;00m \u001b[38;5;129;01mnot\u001b[39;00m np\u001b[38;5;241m.\u001b[39misscalar(fx):\n",
      "File \u001b[0;32m~/miniconda3/envs/qiskit-fyp/lib/python3.13/site-packages/qiskit_machine_learning/algorithms/objective_functions.py:191\u001b[0m, in \u001b[0;36mOneHotObjectiveFunction.objective\u001b[0;34m(self, weights)\u001b[0m\n\u001b[1;32m    189\u001b[0m \u001b[38;5;28;01mdef\u001b[39;00m\u001b[38;5;250m \u001b[39m\u001b[38;5;21mobjective\u001b[39m(\u001b[38;5;28mself\u001b[39m, weights: np\u001b[38;5;241m.\u001b[39mndarray) \u001b[38;5;241m-\u001b[39m\u001b[38;5;241m>\u001b[39m \u001b[38;5;28mfloat\u001b[39m:\n\u001b[1;32m    190\u001b[0m     \u001b[38;5;66;03m# probabilities is of shape (N, num_outputs)\u001b[39;00m\n\u001b[0;32m--> 191\u001b[0m     probs \u001b[38;5;241m=\u001b[39m \u001b[38;5;28;43mself\u001b[39;49m\u001b[38;5;241;43m.\u001b[39;49m\u001b[43m_neural_network_forward\u001b[49m\u001b[43m(\u001b[49m\u001b[43mweights\u001b[49m\u001b[43m)\u001b[49m\n\u001b[1;32m    192\u001b[0m     \u001b[38;5;66;03m# float(...) is for mypy compliance\u001b[39;00m\n\u001b[1;32m    193\u001b[0m     value \u001b[38;5;241m=\u001b[39m \u001b[38;5;28mfloat\u001b[39m(np\u001b[38;5;241m.\u001b[39msum(\u001b[38;5;28mself\u001b[39m\u001b[38;5;241m.\u001b[39m_loss(probs, \u001b[38;5;28mself\u001b[39m\u001b[38;5;241m.\u001b[39m_y)) \u001b[38;5;241m/\u001b[39m \u001b[38;5;28mself\u001b[39m\u001b[38;5;241m.\u001b[39m_num_samples)\n",
      "File \u001b[0;32m~/miniconda3/envs/qiskit-fyp/lib/python3.13/site-packages/qiskit_machine_learning/algorithms/objective_functions.py:102\u001b[0m, in \u001b[0;36mObjectiveFunction._neural_network_forward\u001b[0;34m(self, weights)\u001b[0m\n\u001b[1;32m     97\u001b[0m \u001b[38;5;66;03m# if we get the same weights, we don't compute the forward pass again.\u001b[39;00m\n\u001b[1;32m     98\u001b[0m \u001b[38;5;28;01mif\u001b[39;00m \u001b[38;5;28mself\u001b[39m\u001b[38;5;241m.\u001b[39m_last_forward_weights \u001b[38;5;129;01mis\u001b[39;00m \u001b[38;5;28;01mNone\u001b[39;00m \u001b[38;5;129;01mor\u001b[39;00m (\n\u001b[1;32m     99\u001b[0m     \u001b[38;5;129;01mnot\u001b[39;00m np\u001b[38;5;241m.\u001b[39mall(np\u001b[38;5;241m.\u001b[39misclose(weights, \u001b[38;5;28mself\u001b[39m\u001b[38;5;241m.\u001b[39m_last_forward_weights))\n\u001b[1;32m    100\u001b[0m ):\n\u001b[1;32m    101\u001b[0m     \u001b[38;5;66;03m# compute forward and cache the results for re-use in backward\u001b[39;00m\n\u001b[0;32m--> 102\u001b[0m     \u001b[38;5;28mself\u001b[39m\u001b[38;5;241m.\u001b[39m_last_forward \u001b[38;5;241m=\u001b[39m \u001b[38;5;28;43mself\u001b[39;49m\u001b[38;5;241;43m.\u001b[39;49m\u001b[43m_neural_network\u001b[49m\u001b[38;5;241;43m.\u001b[39;49m\u001b[43mforward\u001b[49m\u001b[43m(\u001b[49m\u001b[38;5;28;43mself\u001b[39;49m\u001b[38;5;241;43m.\u001b[39;49m\u001b[43m_X\u001b[49m\u001b[43m,\u001b[49m\u001b[43m \u001b[49m\u001b[43mweights\u001b[49m\u001b[43m)\u001b[49m\n\u001b[1;32m    103\u001b[0m     \u001b[38;5;66;03m# a copy avoids keeping a reference to the same array, so we are sure we have\u001b[39;00m\n\u001b[1;32m    104\u001b[0m     \u001b[38;5;66;03m# different arrays on the next iteration.\u001b[39;00m\n\u001b[1;32m    105\u001b[0m     \u001b[38;5;28mself\u001b[39m\u001b[38;5;241m.\u001b[39m_last_forward_weights \u001b[38;5;241m=\u001b[39m np\u001b[38;5;241m.\u001b[39mcopy(weights)\n",
      "File \u001b[0;32m~/miniconda3/envs/qiskit-fyp/lib/python3.13/site-packages/qiskit_machine_learning/neural_networks/neural_network.py:229\u001b[0m, in \u001b[0;36mNeuralNetwork.forward\u001b[0;34m(self, input_data, weights)\u001b[0m\n\u001b[1;32m    227\u001b[0m input_, shape \u001b[38;5;241m=\u001b[39m \u001b[38;5;28mself\u001b[39m\u001b[38;5;241m.\u001b[39m_validate_input(input_data)\n\u001b[1;32m    228\u001b[0m weights_ \u001b[38;5;241m=\u001b[39m \u001b[38;5;28mself\u001b[39m\u001b[38;5;241m.\u001b[39m_validate_weights(weights)\n\u001b[0;32m--> 229\u001b[0m output_data \u001b[38;5;241m=\u001b[39m \u001b[38;5;28;43mself\u001b[39;49m\u001b[38;5;241;43m.\u001b[39;49m\u001b[43m_forward\u001b[49m\u001b[43m(\u001b[49m\u001b[43minput_\u001b[49m\u001b[43m,\u001b[49m\u001b[43m \u001b[49m\u001b[43mweights_\u001b[49m\u001b[43m)\u001b[49m\n\u001b[1;32m    230\u001b[0m \u001b[38;5;28;01mreturn\u001b[39;00m \u001b[38;5;28mself\u001b[39m\u001b[38;5;241m.\u001b[39m_validate_forward_output(output_data, shape)\n",
      "File \u001b[0;32m~/miniconda3/envs/qiskit-fyp/lib/python3.13/site-packages/qiskit_machine_learning/neural_networks/sampler_qnn.py:497\u001b[0m, in \u001b[0;36mSamplerQNN._forward\u001b[0;34m(self, input_data, weights)\u001b[0m\n\u001b[1;32m    492\u001b[0m     \u001b[38;5;28;01mraise\u001b[39;00m QiskitMachineLearningError(\n\u001b[1;32m    493\u001b[0m         \u001b[38;5;124m\"\u001b[39m\u001b[38;5;124mThe accepted estimators are BaseSamplerV1 (deprecated) and BaseSamplerV2; \u001b[39m\u001b[38;5;124m\"\u001b[39m\n\u001b[1;32m    494\u001b[0m         \u001b[38;5;241m+\u001b[39m \u001b[38;5;124mf\u001b[39m\u001b[38;5;124m\"\u001b[39m\u001b[38;5;124mgot \u001b[39m\u001b[38;5;132;01m{\u001b[39;00m\u001b[38;5;28mtype\u001b[39m(\u001b[38;5;28mself\u001b[39m\u001b[38;5;241m.\u001b[39msampler)\u001b[38;5;132;01m}\u001b[39;00m\u001b[38;5;124m instead.\u001b[39m\u001b[38;5;124m\"\u001b[39m\n\u001b[1;32m    495\u001b[0m     )\n\u001b[1;32m    496\u001b[0m \u001b[38;5;28;01mtry\u001b[39;00m:\n\u001b[0;32m--> 497\u001b[0m     results \u001b[38;5;241m=\u001b[39m \u001b[43mjob\u001b[49m\u001b[38;5;241;43m.\u001b[39;49m\u001b[43mresult\u001b[49m\u001b[43m(\u001b[49m\u001b[43m)\u001b[49m\n\u001b[1;32m    498\u001b[0m \u001b[38;5;28;01mexcept\u001b[39;00m \u001b[38;5;167;01mException\u001b[39;00m \u001b[38;5;28;01mas\u001b[39;00m exc:\n\u001b[1;32m    499\u001b[0m     \u001b[38;5;28;01mraise\u001b[39;00m QiskitMachineLearningError(\u001b[38;5;124mf\u001b[39m\u001b[38;5;124m\"\u001b[39m\u001b[38;5;124mSampler job failed: \u001b[39m\u001b[38;5;132;01m{\u001b[39;00mexc\u001b[38;5;132;01m}\u001b[39;00m\u001b[38;5;124m\"\u001b[39m) \u001b[38;5;28;01mfrom\u001b[39;00m\u001b[38;5;250m \u001b[39m\u001b[38;5;21;01mexc\u001b[39;00m\n",
      "File \u001b[0;32m~/miniconda3/envs/qiskit-fyp/lib/python3.13/site-packages/qiskit/primitives/primitive_job.py:51\u001b[0m, in \u001b[0;36mPrimitiveJob.result\u001b[0;34m(self)\u001b[0m\n\u001b[1;32m     49\u001b[0m \u001b[38;5;28;01mdef\u001b[39;00m\u001b[38;5;250m \u001b[39m\u001b[38;5;21mresult\u001b[39m(\u001b[38;5;28mself\u001b[39m) \u001b[38;5;241m-\u001b[39m\u001b[38;5;241m>\u001b[39m ResultT:\n\u001b[1;32m     50\u001b[0m     \u001b[38;5;28mself\u001b[39m\u001b[38;5;241m.\u001b[39m_check_submitted()\n\u001b[0;32m---> 51\u001b[0m     \u001b[38;5;28;01mreturn\u001b[39;00m \u001b[38;5;28;43mself\u001b[39;49m\u001b[38;5;241;43m.\u001b[39;49m\u001b[43m_future\u001b[49m\u001b[38;5;241;43m.\u001b[39;49m\u001b[43mresult\u001b[49m\u001b[43m(\u001b[49m\u001b[43m)\u001b[49m\n",
      "File \u001b[0;32m~/miniconda3/envs/qiskit-fyp/lib/python3.13/concurrent/futures/_base.py:451\u001b[0m, in \u001b[0;36mFuture.result\u001b[0;34m(self, timeout)\u001b[0m\n\u001b[1;32m    448\u001b[0m \u001b[38;5;28;01melif\u001b[39;00m \u001b[38;5;28mself\u001b[39m\u001b[38;5;241m.\u001b[39m_state \u001b[38;5;241m==\u001b[39m FINISHED:\n\u001b[1;32m    449\u001b[0m     \u001b[38;5;28;01mreturn\u001b[39;00m \u001b[38;5;28mself\u001b[39m\u001b[38;5;241m.\u001b[39m__get_result()\n\u001b[0;32m--> 451\u001b[0m \u001b[38;5;28;43mself\u001b[39;49m\u001b[38;5;241;43m.\u001b[39;49m\u001b[43m_condition\u001b[49m\u001b[38;5;241;43m.\u001b[39;49m\u001b[43mwait\u001b[49m\u001b[43m(\u001b[49m\u001b[43mtimeout\u001b[49m\u001b[43m)\u001b[49m\n\u001b[1;32m    453\u001b[0m \u001b[38;5;28;01mif\u001b[39;00m \u001b[38;5;28mself\u001b[39m\u001b[38;5;241m.\u001b[39m_state \u001b[38;5;129;01min\u001b[39;00m [CANCELLED, CANCELLED_AND_NOTIFIED]:\n\u001b[1;32m    454\u001b[0m     \u001b[38;5;28;01mraise\u001b[39;00m CancelledError()\n",
      "File \u001b[0;32m~/miniconda3/envs/qiskit-fyp/lib/python3.13/threading.py:359\u001b[0m, in \u001b[0;36mCondition.wait\u001b[0;34m(self, timeout)\u001b[0m\n\u001b[1;32m    357\u001b[0m \u001b[38;5;28;01mtry\u001b[39;00m:    \u001b[38;5;66;03m# restore state no matter what (e.g., KeyboardInterrupt)\u001b[39;00m\n\u001b[1;32m    358\u001b[0m     \u001b[38;5;28;01mif\u001b[39;00m timeout \u001b[38;5;129;01mis\u001b[39;00m \u001b[38;5;28;01mNone\u001b[39;00m:\n\u001b[0;32m--> 359\u001b[0m         \u001b[43mwaiter\u001b[49m\u001b[38;5;241;43m.\u001b[39;49m\u001b[43macquire\u001b[49m\u001b[43m(\u001b[49m\u001b[43m)\u001b[49m\n\u001b[1;32m    360\u001b[0m         gotit \u001b[38;5;241m=\u001b[39m \u001b[38;5;28;01mTrue\u001b[39;00m\n\u001b[1;32m    361\u001b[0m     \u001b[38;5;28;01melse\u001b[39;00m:\n",
      "\u001b[0;31mKeyboardInterrupt\u001b[0m: "
     ]
    }
   ],
   "source": [
    "comb_zz = combo_builder(ansatze, feature_maps[1:], COBYLA(maxiter=500), entanglement_patterns, X_train_balanced, y_train_balanced, X_test, y_test)\n",
    "print(comb_zz)"
   ]
  }
 ],
 "metadata": {
  "kernelspec": {
   "display_name": "qiskit-fyp",
   "language": "python",
   "name": "python3"
  },
  "language_info": {
   "codemirror_mode": {
    "name": "ipython",
    "version": 3
   },
   "file_extension": ".py",
   "mimetype": "text/x-python",
   "name": "python",
   "nbconvert_exporter": "python",
   "pygments_lexer": "ipython3",
   "version": "3.13.2"
  }
 },
 "nbformat": 4,
 "nbformat_minor": 2
}
