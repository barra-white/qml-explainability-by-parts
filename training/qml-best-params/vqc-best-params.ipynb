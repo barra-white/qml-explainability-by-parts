{
 "cells": [
  {
   "cell_type": "markdown",
   "metadata": {},
   "source": [
    "# Variational Quantum Classifier (VQC) Best Parameters\n",
    "\n",
    "This notebook will explore the the options for the best parameters to use for the VQC on the Pima Indians Dataset"
   ]
  },
  {
   "cell_type": "code",
   "execution_count": null,
   "metadata": {},
   "outputs": [],
   "source": [
    "%load_ext autoreload\n",
    "%autoreload 2\n",
    "%matplotlib inline"
   ]
  },
  {
   "cell_type": "markdown",
   "metadata": {},
   "source": [
    "### Imports"
   ]
  },
  {
   "cell_type": "code",
   "execution_count": null,
   "metadata": {},
   "outputs": [],
   "source": [
    "# imports\n",
    "from matplotlib import pyplot as plt\n",
    "import seaborn as sns\n",
    "\n",
    "from IPython.display import clear_output\n",
    "\n",
    "import os\n",
    "import time\n",
    "\n",
    "# import data class\n",
    "from utilities.dataset_utils import DiabetesData\n",
    "\n",
    "# import metrics for evaluation\n",
    "from sklearn.metrics import accuracy_score\n",
    "from sklearn.metrics import confusion_matrix\n",
    "from sklearn.metrics import classification_report\n",
    "\n",
    "# qiskit imports\n",
    "# circuit transpiler\n",
    "from qiskit import transpile\n",
    "\n",
    "# algorithm\n",
    "from qiskit_machine_learning.algorithms.classifiers import VQC\n",
    "\n",
    "# feature map\n",
    "from qiskit.circuit.library import z_feature_map\n",
    "from qiskit.circuit.library import zz_feature_map\n",
    "\n",
    "# ansatz\n",
    "from qiskit.circuit.library import real_amplitudes\n",
    "from qiskit.circuit.library import efficient_su2\n",
    "\n",
    "# optimizer\n",
    "from qiskit_machine_learning.optimizers import COBYLA\n",
    "from qiskit_machine_learning.optimizers import ADAM\n",
    "from qiskit_machine_learning.optimizers import SLSQP\n",
    "\n",
    "# simulator\n",
    "from qiskit_aer import AerSimulator\n",
    "from qiskit_aer.primitives import SamplerV2 as Sampler"
   ]
  },
  {
   "cell_type": "code",
   "execution_count": null,
   "metadata": {},
   "outputs": [],
   "source": [
    "# path to diabetes.csv\n",
    "path = os.path.join(os.getcwd(), '..', '..', 'utilities', 'diabetes.csv')\n",
    "# load dataset class\n",
    "dataset = DiabetesData(path)"
   ]
  },
  {
   "cell_type": "code",
   "execution_count": null,
   "metadata": {},
   "outputs": [],
   "source": [
    "# setup backend simulator\n",
    "backend = AerSimulator()\n",
    "backend.set_options(max_parallel_threads=os.cpu_count(), method='statevector')\n",
    "\n",
    "# sampler\n",
    "sampler = Sampler.from_backend(backend)"
   ]
  },
  {
   "cell_type": "code",
   "execution_count": null,
   "metadata": {},
   "outputs": [],
   "source": [
    "# define list for different ansatze as well as reps\n",
    "ansatze = [\n",
    "    transpile(efficient_su2(num_qubits=dataset.get_num_features(), reps=3, entanglement='linear'), backend=backend, optimization_level=3),\n",
    "    transpile(real_amplitudes(num_qubits=dataset.get_num_features(), reps=3, entanglement='linear'), backend=backend, optimization_level=3)\n",
    "]"
   ]
  },
  {
   "cell_type": "code",
   "execution_count": null,
   "metadata": {},
   "outputs": [],
   "source": [
    "# list of different feature maps\n",
    "feature_maps = [\n",
    "    transpile(z_feature_map(feature_dimension=dataset.get_num_features(), reps=2, entanglement='linear'), backend=backend, optimization_level=3),\n",
    "    transpile(zz_feature_map(feature_dimension=dataset.get_num_features(), reps=2, entanglement='linear'), backend=backend, optimization_level=3)\n",
    "]"
   ]
  },
  {
   "cell_type": "code",
   "execution_count": null,
   "metadata": {},
   "outputs": [],
   "source": [
    "# list of diffrerent optimizers\n",
    "optimizers = [\n",
    "    ADAM(maxiter=250),\n",
    "    SLSQP(maxiter=250),\n",
    "    COBYLA(maxiter=250)\n",
    "]"
   ]
  },
  {
   "cell_type": "code",
   "execution_count": null,
   "metadata": {},
   "outputs": [],
   "source": [
    "# callback graph\n",
    "# init list to store objective function values\n",
    "objective_func_vals = []\n",
    "\n",
    "# larger size for graph\n",
    "plt.rcParams[\"figure.figsize\"] = (12, 6)\n",
    "\n",
    "# callback function to plot objective function value (updates after each iteration)\n",
    "def callback_graph(weights, obj_func_eval):\n",
    "    clear_output(wait=True)\n",
    "    objective_func_vals.append(obj_func_eval)\n",
    "    plt.title(\"Objective Function Value\")\n",
    "    plt.xlabel(\"Iteration\")\n",
    "    plt.ylabel(\"Objective Function Value\")\n",
    "    plt.plot(objective_func_vals)\n",
    "    plt.show()"
   ]
  },
  {
   "cell_type": "markdown",
   "metadata": {},
   "source": [
    "### VQC Building\n",
    "\n",
    "Below is a function that will be iteratively called with multiple different parameters for training the VQC, to find the most optimal combination"
   ]
  },
  {
   "cell_type": "code",
   "execution_count": null,
   "metadata": {},
   "outputs": [],
   "source": [
    "def build_vqc(ansatz, feature_map, optimizer):\n",
    "    vqc =  VQC(\n",
    "        sampler=sampler,\n",
    "        feature_map=feature_map,\n",
    "        ansatz=ansatz,\n",
    "        optimizer=optimizer,\n",
    "        callback=callback_graph\n",
    "    )\n",
    "    return vqc"
   ]
  },
  {
   "cell_type": "markdown",
   "metadata": {},
   "source": [
    "Preprocessing data, with different options for train size, to test quantum training on different sizes, as some studies suggest that QML algorithms perform equivelent or better than their classical counterparts with smaller dataset sizes"
   ]
  },
  {
   "cell_type": "code",
   "execution_count": null,
   "metadata": {},
   "outputs": [],
   "source": [
    "# list for train sizes\n",
    "train_sizes = [200, 300, 400, 500]"
   ]
  },
  {
   "cell_type": "markdown",
   "metadata": {},
   "source": [
    "Below function find the best combination of parameters for the VQC, as well as different dataset sizes"
   ]
  },
  {
   "cell_type": "code",
   "execution_count": null,
   "metadata": {},
   "outputs": [],
   "source": [
    "def combo_builder(ansatze: list, feature_maps: list, optimizers: list, train_sizes: list, X_train, y_train, X_test, y_test):\n",
    "    results = []\n",
    "    combo = 0\n",
    "    \n",
    "    # loop over different training sizes\n",
    "    for sample_size in train_sizes:\n",
    "        # if the training set is larger than the sample size, slice it\n",
    "        if len(X_train) > sample_size:\n",
    "            X_train_sample = X_train[:sample_size]\n",
    "            y_train_sample = y_train[:sample_size]\n",
    "        else:\n",
    "            X_train_sample = X_train\n",
    "            y_train_sample = y_train\n",
    "        for ansatz in ansatze:\n",
    "            for feature_map in feature_maps:\n",
    "                for optimizer in optimizers:\n",
    "                    objective_func_vals = []\n",
    "                    combo += 1\n",
    "                    print(f\"Combination: {combo}\\nAnsatz: {ansatz.name}\\nFeature Map: {feature_map.name}\\nOptimizer: {type(optimizer).__name__}\\nSample Size: {sample_size}\")\n",
    "                    \n",
    "                    # try parameter combo\n",
    "                    test_vqc = build_vqc(ansatz, feature_map, optimizer)\n",
    "\n",
    "                    # time how long it takes to train\n",
    "                    start = time.time()\n",
    "\n",
    "                    # fit the model\n",
    "                    test_vqc = test_vqc.fit(X_train_sample, y_train_sample)\n",
    "\n",
    "                    end = time.time()\n",
    "                    elapsed = end - start\n",
    "                    \n",
    "                    # sleep to avoid crashing\n",
    "                    time.sleep(10)\n",
    "                    \n",
    "                    train_score = test_vqc.score(X_train_sample, y_train_sample)\n",
    "                    test_score = test_vqc.score(X_test, y_test)\n",
    "                    \n",
    "                    # sleep to avoid crashing\n",
    "                    time.sleep(10)\n",
    "                    \n",
    "                    y_pred = test_vqc.predict(X_test)\n",
    "                    accuracy = accuracy_score(y_test, y_pred)\n",
    "\n",
    "                    data = {\n",
    "                        \"combo_num\": combo,\n",
    "                        \"ansatz\": ansatz.name,\n",
    "                        \"feature_map\": feature_map.name,\n",
    "                        \"optmizer\": type(optimizer).__name__,\n",
    "                        \"training_samples\": sample_size,      \n",
    "                        \"train_time\": elapsed,\n",
    "                        \"train_score\": train_score,\n",
    "                        \"test_score\": test_score,\n",
    "                        \"accuracy\": accuracy\n",
    "                    }\n",
    "                \n",
    "                    results.append(data)\n",
    "                    \n",
    "                    # sleep to avoid crashing\n",
    "                    time.sleep(10)\n",
    "    return results\n",
    "                "
   ]
  },
  {
   "cell_type": "markdown",
   "metadata": {},
   "source": [
    "### Model Fit for Best Params"
   ]
  },
  {
   "cell_type": "code",
   "execution_count": null,
   "metadata": {},
   "outputs": [],
   "source": [
    "# get training and testing data\n",
    "X_train, X_test, y_train, y_test = dataset.preprocess_data()"
   ]
  },
  {
   "cell_type": "code",
   "execution_count": null,
   "metadata": {},
   "outputs": [],
   "source": [
    "r = combo_builder(ansatze, feature_maps, optimizers, train_sizes, X_train, y_train, X_test, y_test)\n",
    "print(r)"
   ]
  }
 ],
 "metadata": {
  "kernelspec": {
   "display_name": "qiskit-fyp",
   "language": "python",
   "name": "python3"
  },
  "language_info": {
   "codemirror_mode": {
    "name": "ipython",
    "version": 3
   },
   "file_extension": ".py",
   "mimetype": "text/x-python",
   "name": "python",
   "nbconvert_exporter": "python",
   "pygments_lexer": "ipython3",
   "version": "3.13.2"
  }
 },
 "nbformat": 4,
 "nbformat_minor": 2
}
