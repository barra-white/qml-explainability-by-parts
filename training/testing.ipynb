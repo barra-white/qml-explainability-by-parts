{
 "cells": [
  {
   "cell_type": "markdown",
   "metadata": {},
   "source": [
    "# Testing\n",
    "File used for testing random bits "
   ]
  },
  {
   "cell_type": "code",
   "execution_count": 3,
   "metadata": {},
   "outputs": [
    {
     "name": "stdout",
     "output_type": "stream",
     "text": [
      "PYTHONPATH env variable: \n",
      "sys.path: ['/home/barra-white/miniconda3/envs/qiskit-fyp/lib/python313.zip', '/home/barra-white/miniconda3/envs/qiskit-fyp/lib/python3.13', '/home/barra-white/miniconda3/envs/qiskit-fyp/lib/python3.13/lib-dynload', '', '/home/barra-white/miniconda3/envs/qiskit-fyp/lib/python3.13/site-packages']\n"
     ]
    }
   ],
   "source": [
    "from qiskit_machine_learning.algorithms import QSVC\n",
    "from qiskit_machine_learning.algorithms import VQC\n",
    "\n",
    "from qiskit_machine_learning.kernels import TrainableFidelityQuantumKernel\n",
    "# import svc\n",
    "\n",
    "import os\n",
    "import sys\n",
    "\n",
    "print(\"PYTHONPATH env variable:\", os.environ.get(\"PYTHONPATH\"))\n",
    "print(\"sys.path:\", sys.path)"
   ]
  },
  {
   "cell_type": "code",
   "execution_count": 19,
   "metadata": {},
   "outputs": [
    {
     "name": "stdout",
     "output_type": "stream",
     "text": [
      "['/home/barra-white/miniconda3/envs/qiskit-fyp/lib/python313.zip', '/home/barra-white/miniconda3/envs/qiskit-fyp/lib/python3.13', '/home/barra-white/miniconda3/envs/qiskit-fyp/lib/python3.13/lib-dynload', '', '/home/barra-white/miniconda3/envs/qiskit-fyp/lib/python3.13/site-packages']\n"
     ]
    }
   ],
   "source": [
    "print(sys.path)"
   ]
  }
 ],
 "metadata": {
  "kernelspec": {
   "display_name": "qiskit-fyp",
   "language": "python",
   "name": "python3"
  },
  "language_info": {
   "codemirror_mode": {
    "name": "ipython",
    "version": 3
   },
   "file_extension": ".py",
   "mimetype": "text/x-python",
   "name": "python",
   "nbconvert_exporter": "python",
   "pygments_lexer": "ipython3",
   "version": "3.13.0"
  }
 },
 "nbformat": 4,
 "nbformat_minor": 2
}
