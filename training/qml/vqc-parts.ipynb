{
 "cells": [
  {
   "cell_type": "markdown",
   "metadata": {},
   "source": [
    "# Variational Quantum Classifier (VQC) Splitting\n",
    "\n",
    "This notebook will explore the Qiskit implementation of a VQC, and initial attempts to split the VQC into parts to explain.\n"
   ]
  },
  {
   "cell_type": "code",
   "execution_count": 7,
   "metadata": {},
   "outputs": [],
   "source": [
    "%load_ext autoreload\n",
    "%autoreload 2\n",
    "%matplotlib inline"
   ]
  },
  {
   "cell_type": "markdown",
   "metadata": {},
   "source": [
    "### Imports"
   ]
  },
  {
   "cell_type": "code",
   "execution_count": 8,
   "metadata": {},
   "outputs": [],
   "source": [
    "# imports\n",
    "import numpy as np\n",
    "import matplotlib.pyplot as plt\n",
    "import os\n",
    "\n",
    "from utilities.dataset_utils import DiabetesData\n",
    "\n",
    "from sklearn.metrics import confusion_matrix, classification_report, accuracy_score\n",
    "\n",
    "# qiskit imports\n",
    "from qiskit import transpile\n",
    "# algorithm\n",
    "from qiskit_machine_learning.algorithms import VQC\n",
    "from qiskit_machine_learning.algorithms import VQR\n",
    "\n",
    "# feature map\n",
    "from qiskit.circuit.library import ZZFeatureMap\n",
    "\n",
    "# ansatz\n",
    "from qiskit.circuit.library import RealAmplitudes\n",
    "from qiskit.circuit.library import EfficientSU2\n",
    "\n",
    "# optimizer\n",
    "from qiskit_algorithms.optimizers import COBYLA\n",
    "from qiskit_algorithms.optimizers import SPSA\n",
    "from qiskit_algorithms.optimizers import SLSQP\n",
    "from qiskit_algorithms.optimizers import ADAM\n",
    "\n",
    "# sampler\n",
    "from qiskit.primitives import StatevectorSampler\n",
    "\n",
    "#from qiskit_ibm_runtime import SamplerV2 as Sampler\n",
    "from qiskit_aer import AerSimulator\n",
    "from qiskit_aer.primitives import SamplerV2 as Sampler"
   ]
  },
  {
   "cell_type": "markdown",
   "metadata": {},
   "source": [
    "### VQC Overview"
   ]
  },
  {
   "cell_type": "markdown",
   "metadata": {},
   "source": [
    "A Variational Quantum Classifier is a hybrid quantum-classical machine learning algorithm used for classification. It encodes the classical data using a feature map, which maps the data onto qubits to take advantage of quantum phenomena. The encoded data is processed through a variational quantum circuit (consists of parameterized gates). These parameters are iteratively optimised using classical algorithms to minimise a cost function (difference between predicted and true labels). After processing, quantum circuit is measured, and results are post processed to produce predictions. \n",
    "This hybrid approach allows the VQC allows the combination of the power of quantum mechanics with classical optimisation techniques, offering advantages for complex classification problems that would be challenging for a purely classical approach"
   ]
  },
  {
   "cell_type": "code",
   "execution_count": 9,
   "metadata": {},
   "outputs": [],
   "source": [
    "# path to diabetes.csv\n",
    "path = os.path.join(os.getcwd(), '..', '..', 'utilities', 'diabetes.csv')\n",
    "# load dataset class\n",
    "dataset = DiabetesData(path)"
   ]
  },
  {
   "cell_type": "code",
   "execution_count": null,
   "metadata": {},
   "outputs": [],
   "source": [
    "# setup backend simulator\n",
    "backend = AerSimulator(method='statevector')"
   ]
  },
  {
   "cell_type": "code",
   "execution_count": null,
   "metadata": {},
   "outputs": [],
   "source": [
    "# feature map\n",
    "feature_map = ZZFeatureMap(feature_dimension=dataset.get_num_features(), reps=1, entanglement='full')\n",
    "feature_map = transpile(feature_map, backend=backend) # transpile to backend"
   ]
  },
  {
   "cell_type": "code",
   "execution_count": null,
   "metadata": {},
   "outputs": [],
   "source": [
    "# ansatz\n",
    "ansatz = EfficientSU2(num_qubits=dataset.get_num_features(), reps=2, entanglement='full')\n",
    "ansatz = transpile(ansatz, backend=backend) # transpile to backend"
   ]
  },
  {
   "cell_type": "code",
   "execution_count": 12,
   "metadata": {},
   "outputs": [],
   "source": [
    "# optimizer\n",
    "optimizer = COBYLA(maxiter=300)"
   ]
  },
  {
   "cell_type": "code",
   "execution_count": null,
   "metadata": {},
   "outputs": [],
   "source": [
    "# sampler\n",
    "sampler = Sampler.from_backend(backend)"
   ]
  },
  {
   "cell_type": "code",
   "execution_count": 14,
   "metadata": {},
   "outputs": [
    {
     "name": "stderr",
     "output_type": "stream",
     "text": [
      "No gradient function provided, creating a gradient function. If your Sampler requires transpilation, please provide a pass manager.\n"
     ]
    }
   ],
   "source": [
    "# create the VQC instance\n",
    "vqc = VQC(\n",
    "    feature_map=feature_map,\n",
    "    ansatz=ansatz,\n",
    "    optimizer=optimizer,\n",
    "    sampler=sampler\n",
    ")"
   ]
  },
  {
   "cell_type": "code",
   "execution_count": 15,
   "metadata": {},
   "outputs": [],
   "source": [
    "# get training and testing data\n",
    "X_train, X_test, y_train, y_test = dataset.preprocess_data()"
   ]
  },
  {
   "cell_type": "code",
   "execution_count": 16,
   "metadata": {},
   "outputs": [],
   "source": [
    "# fit the model\n",
    "vqc = vqc.fit(X_train, y_train)"
   ]
  },
  {
   "cell_type": "code",
   "execution_count": 17,
   "metadata": {},
   "outputs": [
    {
     "data": {
      "text/plain": [
       "(0.6499068901303539, 0.6536796536796536)"
      ]
     },
     "execution_count": 17,
     "metadata": {},
     "output_type": "execute_result"
    }
   ],
   "source": [
    "train_score = vqc.score(X_train, y_train)\n",
    "test_score = vqc.score(X_test, y_test)\n",
    "train_score, test_score"
   ]
  },
  {
   "cell_type": "code",
   "execution_count": 19,
   "metadata": {},
   "outputs": [],
   "source": [
    "# predict\n",
    "y_pred = vqc.predict(X_test)"
   ]
  },
  {
   "cell_type": "code",
   "execution_count": 20,
   "metadata": {},
   "outputs": [
    {
     "data": {
      "text/plain": [
       "array([[131,  19],\n",
       "       [ 60,  21]])"
      ]
     },
     "execution_count": 20,
     "metadata": {},
     "output_type": "execute_result"
    }
   ],
   "source": [
    "# confusion matrix\n",
    "cm = confusion_matrix(y_test, y_pred)\n",
    "cm"
   ]
  },
  {
   "cell_type": "code",
   "execution_count": 21,
   "metadata": {},
   "outputs": [
    {
     "data": {
      "text/plain": [
       "0.658008658008658"
      ]
     },
     "execution_count": 21,
     "metadata": {},
     "output_type": "execute_result"
    }
   ],
   "source": [
    "# accuracy score\n",
    "accuracy = accuracy_score(y_test, y_pred)\n",
    "accuracy"
   ]
  },
  {
   "cell_type": "code",
   "execution_count": 22,
   "metadata": {},
   "outputs": [
    {
     "data": {
      "text/plain": [
       "'              precision    recall  f1-score   support\\n\\n           0       0.69      0.87      0.77       150\\n           1       0.53      0.26      0.35        81\\n\\n    accuracy                           0.66       231\\n   macro avg       0.61      0.57      0.56       231\\nweighted avg       0.63      0.66      0.62       231\\n'"
      ]
     },
     "execution_count": 22,
     "metadata": {},
     "output_type": "execute_result"
    }
   ],
   "source": [
    "# classification report\n",
    "report = classification_report(y_test, y_pred)\n",
    "report"
   ]
  },
  {
   "cell_type": "markdown",
   "metadata": {},
   "source": [
    "### Applying Explainability Techniques\n",
    "##### **Pre-Prediciton**\n",
    "1) **Feature Map**\n",
    "    - Perturbation Analysis\n",
    "    - Leave-One-Out (LOO) Analysis\n",
    "    - Permutation Importance\n",
    "    - SHAP (Feature Encoding)\n",
    "\n",
    "    \n",
    "##### **Post-Prediction**\n",
    "1) **Ansatz (Variational Circuit)**\n",
    "    - Parameter Sensitivity Analysis\n",
    "    - Quantum Fisher Information (QFI)\n",
    "    - Gradient-Based Analysis\n",
    "    - Circuit Visualisation\n",
    "    - SHAP (Parameters)\n",
    "      - Applying importance scores to asses contribution to \n",
    "2) **Measurement + Post Processing**\n",
    "    - SHAP (Predicitons)\n",
    "    - ALE\n",
    "    - Probability Attribution Analysis\n",
    "3) **Cost**\n",
    "    - Loss Contribution Analysis\n",
    "    - Perturbation Sensitivity on Loss\n",
    "    - Quantum-Classical Hybrid Loop Analysis"
   ]
  }
 ],
 "metadata": {
  "kernelspec": {
   "display_name": "qiskit-fyp",
   "language": "python",
   "name": "python3"
  },
  "language_info": {
   "codemirror_mode": {
    "name": "ipython",
    "version": 3
   },
   "file_extension": ".py",
   "mimetype": "text/x-python",
   "name": "python",
   "nbconvert_exporter": "python",
   "pygments_lexer": "ipython3",
   "version": "3.13.2"
  }
 },
 "nbformat": 4,
 "nbformat_minor": 2
}
