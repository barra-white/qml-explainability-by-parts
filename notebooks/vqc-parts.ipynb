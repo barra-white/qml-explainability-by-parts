{
 "cells": [
  {
   "cell_type": "markdown",
   "metadata": {},
   "source": [
    "# Variational Quantum Classifier (VQC) Splitting\n",
    "\n",
    "This notebook will explore the Qiskit implementation of a VQC, and initial attempts to split the VQC into parts to explain.\n"
   ]
  },
  {
   "cell_type": "code",
   "execution_count": 1,
   "metadata": {},
   "outputs": [],
   "source": [
    "%load_ext autoreload\n",
    "%autoreload 2\n",
    "%matplotlib inline"
   ]
  },
  {
   "cell_type": "markdown",
   "metadata": {},
   "source": [
    "### Imports"
   ]
  },
  {
   "cell_type": "code",
   "execution_count": null,
   "metadata": {},
   "outputs": [],
   "source": [
    "# qiskit imports\n",
    "# algorithm\n",
    "from qiskit_machine_learning.algorithms import VQC\n",
    "\n",
    "# feature map\n",
    "from qiskit.circuit.library import ZZFeatureMap\n",
    "\n",
    "# ansatz\n",
    "from qiskit.circuit.library import RealAmplitudes\n",
    "from qiskit.circuit.library import EfficientSU2\n",
    "\n",
    "# optimizer\n",
    "from qiskit_algorithms.optimizers import COBYLA\n",
    "from qiskit_algorithms.optimizers import SPSA\n",
    "from qiskit_algorithms.optimizers import SLSQP\n",
    "from qiskit_algorithms.optimizers import ADAM\n",
    "\n",
    "# sampler\n",
    "from qiskit.primitives import Sampler"
   ]
  },
  {
   "cell_type": "markdown",
   "metadata": {},
   "source": [
    "### VQC Overview"
   ]
  },
  {
   "cell_type": "code",
   "execution_count": null,
   "metadata": {},
   "outputs": [],
   "source": [
    "VQC(\n",
    "    \n",
    ")"
   ]
  }
 ],
 "metadata": {
  "kernelspec": {
   "display_name": "qiskit-fyp",
   "language": "python",
   "name": "python3"
  },
  "language_info": {
   "codemirror_mode": {
    "name": "ipython",
    "version": 3
   },
   "file_extension": ".py",
   "mimetype": "text/x-python",
   "name": "python",
   "nbconvert_exporter": "python",
   "pygments_lexer": "ipython3",
   "version": "3.13.0"
  }
 },
 "nbformat": 4,
 "nbformat_minor": 2
}
